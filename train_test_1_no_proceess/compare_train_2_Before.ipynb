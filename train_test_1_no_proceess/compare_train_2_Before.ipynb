{
  "cells": [
    {
      "cell_type": "code",
      "execution_count": 1,
      "metadata": {
        "colab": {
          "base_uri": "https://localhost:8080/"
        },
        "id": "v2NYN_d5-s96",
        "outputId": "0e4147de-5628-4dd1-fb5a-8c2e44a4e080"
      },
      "outputs": [
        {
          "name": "stdout",
          "output_type": "stream",
          "text": [
            "Requirement already satisfied: optuna in /usr/local/lib/python3.12/dist-packages (4.5.0)\n",
            "Requirement already satisfied: alembic>=1.5.0 in /usr/local/lib/python3.12/dist-packages (from optuna) (1.16.5)\n",
            "Requirement already satisfied: colorlog in /usr/local/lib/python3.12/dist-packages (from optuna) (6.9.0)\n",
            "Requirement already satisfied: numpy in /usr/local/lib/python3.12/dist-packages (from optuna) (2.0.2)\n",
            "Requirement already satisfied: packaging>=20.0 in /usr/local/lib/python3.12/dist-packages (from optuna) (25.0)\n",
            "Requirement already satisfied: sqlalchemy>=1.4.2 in /usr/local/lib/python3.12/dist-packages (from optuna) (2.0.43)\n",
            "Requirement already satisfied: tqdm in /usr/local/lib/python3.12/dist-packages (from optuna) (4.67.1)\n",
            "Requirement already satisfied: PyYAML in /usr/local/lib/python3.12/dist-packages (from optuna) (6.0.3)\n",
            "Requirement already satisfied: Mako in /usr/local/lib/python3.12/dist-packages (from alembic>=1.5.0->optuna) (1.3.10)\n",
            "Requirement already satisfied: typing-extensions>=4.12 in /usr/local/lib/python3.12/dist-packages (from alembic>=1.5.0->optuna) (4.15.0)\n",
            "Requirement already satisfied: greenlet>=1 in /usr/local/lib/python3.12/dist-packages (from sqlalchemy>=1.4.2->optuna) (3.2.4)\n",
            "Requirement already satisfied: MarkupSafe>=0.9.2 in /usr/local/lib/python3.12/dist-packages (from Mako->alembic>=1.5.0->optuna) (3.0.3)\n"
          ]
        }
      ],
      "source": [
        "!pip install optuna"
      ]
    },
    {
      "cell_type": "code",
      "execution_count": 2,
      "metadata": {
        "id": "IxqPsd-_-MEG"
      },
      "outputs": [],
      "source": [
        "import pandas as pd\n",
        "import numpy as np\n",
        "import matplotlib.pyplot as plt\n",
        "import seaborn as sns\n",
        "from sklearn.model_selection import train_test_split, GridSearchCV\n",
        "from sklearn.feature_extraction.text import TfidfVectorizer\n",
        "from sklearn.svm import SVC\n",
        "from sklearn.naive_bayes import MultinomialNB\n",
        "from sklearn.metrics import classification_report, accuracy_score, confusion_matrix\n",
        "from sklearn.utils.class_weight import compute_class_weight\n",
        "import torch\n",
        "import torch.nn as nn\n",
        "from torch.utils.data import Dataset, DataLoader\n",
        "from collections import Counter\n",
        "from transformers import AutoTokenizer, AutoModelForSequenceClassification, Trainer, TrainingArguments\n",
        "from datasets import Dataset as HFDataset\n",
        "import optuna\n",
        "import warnings\n"
      ]
    },
    {
      "cell_type": "code",
      "execution_count": 3,
      "metadata": {
        "colab": {
          "base_uri": "https://localhost:8080/"
        },
        "id": "iLtCIu0D-ebx",
        "outputId": "fa6aa82f-92c6-468c-cd1a-864d8b214ec9"
      },
      "outputs": [
        {
          "name": "stdout",
          "output_type": "stream",
          "text": [
            "Drive already mounted at /content/drive; to attempt to forcibly remount, call drive.mount(\"/content/drive\", force_remount=True).\n"
          ]
        }
      ],
      "source": [
        "from google.colab import drive\n",
        "drive.mount('/content/drive')"
      ]
    },
    {
      "cell_type": "code",
      "execution_count": 4,
      "metadata": {
        "id": "VYCwDFhU-MEJ"
      },
      "outputs": [],
      "source": [
        "warnings.filterwarnings(\"ignore\", category=UserWarning)\n",
        "warnings.filterwarnings(\"ignore\", category=FutureWarning)"
      ]
    },
    {
      "cell_type": "code",
      "execution_count": 5,
      "metadata": {
        "id": "BrUg67WV-MEK"
      },
      "outputs": [],
      "source": [
        "def plot_confusion_matrix(y_true, y_pred, labels, title):\n",
        "    \"\"\"Fungsi untuk membuat dan menampilkan confusion matrix.\"\"\"\n",
        "    cm = confusion_matrix(y_true, y_pred)\n",
        "    plt.figure(figsize=(6, 4))\n",
        "    sns.heatmap(cm, annot=True, fmt='d', cmap='Blues',\n",
        "                xticklabels=labels, yticklabels=labels)\n",
        "    plt.title(title)\n",
        "    plt.xlabel('Predicted Label')\n",
        "    plt.ylabel('True Label')\n",
        "    plt.savefig(f'{title}.png')\n",
        "    plt.show()\n"
      ]
    },
    {
      "cell_type": "markdown",
      "metadata": {
        "id": "Xyfy8nGe-MEK"
      },
      "source": [
        "# --- 1. Memuat Data dan EDA ---"
      ]
    },
    {
      "cell_type": "code",
      "execution_count": 6,
      "metadata": {
        "colab": {
          "base_uri": "https://localhost:8080/",
          "height": 633
        },
        "id": "rIfvfvOH-MEL",
        "outputId": "13a10ea7-6eac-4794-b0e1-4854256dbf1c"
      },
      "outputs": [
        {
          "name": "stdout",
          "output_type": "stream",
          "text": [
            "--- 1. Memuat Data dan Exploratory Data Analysis (EDA) ---\n",
            "File CSV berhasil dimuat.\n",
            "\n",
            "Visualisasi EDA disimpan sebagai 'label_distribution.png'\n"
          ]
        },
        {
          "data": {
            "image/png": "[encoded data removed]",
            "text/plain": [
              "<Figure size 800x600 with 1 Axes>"
            ]
          },
          "metadata": {},
          "output_type": "display_data"
        }
      ],
      "source": [
        "print(\"--- 1. Memuat Data dan Exploratory Data Analysis (EDA) ---\")\n",
        "\n",
        "try:\n",
        "    df = pd.read_csv('/content/drive/MyDrive/SKRIPSI CODE ETC/Datasets/results_model_only_for_comparison.csv')\n",
        "    if 'label' in df.columns and 'sentiment' not in df.columns:\n",
        "        df.rename(columns={'label': 'sentiment'}, inplace=True)\n",
        "    print(\"File CSV berhasil dimuat.\")\n",
        "except FileNotFoundError:\n",
        "    print(\"Error: File tidak ditemukan. Pastikan path file CSV sudah benar.\")\n",
        "    exit()\n",
        "\n",
        "plt.figure(figsize=(8, 6))\n",
        "sns.countplot(x='sentiment', data=df, order=df['sentiment'].value_counts().index, palette='viridis')\n",
        "plt.title('Distribusi Label Sentimen')\n",
        "plt.xlabel('Sentimen')\n",
        "plt.ylabel('Jumlah')\n",
        "plt.savefig('label_distribution.png')\n",
        "print(\"\\nVisualisasi EDA disimpan sebagai 'label_distribution.png'\")\n",
        "plt.show()"
      ]
    },
    {
      "cell_type": "markdown",
      "metadata": {
        "id": "OVUBUK6L-MEL"
      },
      "source": [
        "# --- 2. Persiapan Data ---"
      ]
    },
    {
      "cell_type": "code",
      "execution_count": 7,
      "metadata": {
        "colab": {
          "base_uri": "https://localhost:8080/"
        },
        "id": "JctRWzY4-MEM",
        "outputId": "d19dc225-c099-4507-f81d-7f2aab797f9c"
      },
      "outputs": [
        {
          "name": "stdout",
          "output_type": "stream",
          "text": [
            "\n",
            "--- 2. Persiapan Data ---\n",
            "Ukuran data latih: 7636\n",
            "Ukuran data uji: 1910\n"
          ]
        }
      ],
      "source": [
        "print(\"\\n--- 2. Persiapan Data ---\")\n",
        "label_map = {'positive': 2, 'neutral': 1, 'negative': 0}\n",
        "df['final_label_encoded'] = df['sentiment'].map(label_map)\n",
        "df.dropna(subset=['final_label_encoded'], inplace=True)\n",
        "df['final_label_encoded'] = df['final_label_encoded'].astype(int)\n",
        "\n",
        "train_df, test_df = train_test_split(\n",
        "    df,\n",
        "    test_size=0.2,\n",
        "    random_state=42,\n",
        "    stratify=df['final_label_encoded']\n",
        ")\n",
        "y_train = train_df['final_label_encoded']\n",
        "y_test = test_df['final_label_encoded']\n",
        "\n",
        "print(f\"Ukuran data latih: {train_df.shape[0]}\")\n",
        "print(f\"Ukuran data uji: {test_df.shape[0]}\")\n",
        "\n",
        "final_results = {}\n"
      ]
    },
    {
      "cell_type": "markdown",
      "metadata": {
        "id": "PotUnmxr-MEN"
      },
      "source": [
        "# --- 3. Skenario 1: SVM & Naive Bayes ---"
      ]
    },
    {
      "cell_type": "code",
      "execution_count": 8,
      "metadata": {
        "colab": {
          "base_uri": "https://localhost:8080/",
          "height": 1000
        },
        "id": "Er5updpp-MEN",
        "outputId": "0dfc3130-d2d1-4af6-ad23-cd28feb2d52f"
      },
      "outputs": [
        {
          "name": "stdout",
          "output_type": "stream",
          "text": [
            "\n",
            "--- 3. Skenario 1: SVM & Naive Bayes (Baseline) ---\n",
            "\n",
            "--- HASIL MODEL SVM (BASELINE) ---\n",
            "Akurasi SVM (Baseline): 0.8534\n",
            "Laporan Klasifikasi SVM (Baseline):\n",
            "              precision    recall  f1-score   support\n",
            "\n",
            "    positive       0.85      0.99      0.91      1461\n",
            "     neutral       0.86      0.32      0.46       206\n",
            "    negative       0.92      0.49      0.64       243\n",
            "\n",
            "    accuracy                           0.85      1910\n",
            "   macro avg       0.87      0.60      0.67      1910\n",
            "weighted avg       0.86      0.85      0.83      1910\n",
            "\n"
          ]
        },
        {
          "data": {
            "image/png": "[encoded data removed]",
            "text/plain": [
              "<Figure size 600x400 with 2 Axes>"
            ]
          },
          "metadata": {},
          "output_type": "display_data"
        },
        {
          "name": "stdout",
          "output_type": "stream",
          "text": [
            "\n",
            "--- HASIL MODEL NAIVE BAYES (BASELINE) ---\n",
            "Akurasi Naive Bayes (Baseline): 0.7738\n",
            "Laporan Klasifikasi Naive Bayes (Baseline):\n",
            "              precision    recall  f1-score   support\n",
            "\n",
            "    positive       0.77      1.00      0.87      1461\n",
            "     neutral       0.50      0.00      0.01       206\n",
            "    negative       0.94      0.07      0.13       243\n",
            "\n",
            "    accuracy                           0.77      1910\n",
            "   macro avg       0.74      0.36      0.34      1910\n",
            "weighted avg       0.76      0.77      0.68      1910\n",
            "\n"
          ]
        },
        {
          "data": {
            "image/png": "[encoded data removed]",
            "text/plain": [
              "<Figure size 600x400 with 2 Axes>"
            ]
          },
          "metadata": {},
          "output_type": "display_data"
        },
        {
          "name": "stdout",
          "output_type": "stream",
          "text": [
            "\n",
            "--- 3. Skenario 1: SVM & Naive Bayes (Optimized) ---\n",
            "\n",
            "Memulai tuning hyperparameter untuk SVM...\n",
            "\n",
            "--- HASIL MODEL SVM (OPTIMIZED) ---\n",
            "Parameter Terbaik: {'C': 10, 'kernel': 'rbf'}\n",
            "Akurasi SVM: 0.8733\n",
            "Laporan Klasifikasi SVM:\n",
            "              precision    recall  f1-score   support\n",
            "\n",
            "    positive       0.89      0.97      0.92      1461\n",
            "     neutral       0.70      0.48      0.57       206\n",
            "    negative       0.89      0.65      0.75       243\n",
            "\n",
            "    accuracy                           0.87      1910\n",
            "   macro avg       0.83      0.70      0.75      1910\n",
            "weighted avg       0.87      0.87      0.86      1910\n",
            "\n"
          ]
        },
        {
          "data": {
            "image/png": "[encoded data removed]",
            "text/plain": [
              "<Figure size 600x400 with 2 Axes>"
            ]
          },
          "metadata": {},
          "output_type": "display_data"
        },
        {
          "name": "stdout",
          "output_type": "stream",
          "text": [
            "\n",
            "Memulai tuning hyperparameter untuk Naive Bayes...\n",
            "\n",
            "--- HASIL MODEL NAIVE BAYES (OPTIMIZED) ---\n",
            "Parameter Terbaik: {'alpha': 0.1}\n",
            "Akurasi Naive Bayes: 0.8094\n",
            "Laporan Klasifikasi Naive Bayes:\n",
            "              precision    recall  f1-score   support\n",
            "\n",
            "    positive       0.81      0.98      0.89      1461\n",
            "     neutral       0.66      0.22      0.33       206\n",
            "    negative       0.81      0.30      0.44       243\n",
            "\n",
            "    accuracy                           0.81      1910\n",
            "   macro avg       0.76      0.50      0.55      1910\n",
            "weighted avg       0.80      0.81      0.77      1910\n",
            "\n"
          ]
        },
        {
          "data": {
            "image/png": "[encoded data removed]",
            "text/plain": [
              "<Figure size 600x400 with 2 Axes>"
            ]
          },
          "metadata": {},
          "output_type": "display_data"
        }
      ],
      "source": [
        "print(\"\\n--- 3. Skenario 1: SVM & Naive Bayes (Baseline) ---\")\n",
        "X_train_classic = train_df['text_lexicon'].astype(str)\n",
        "X_test_classic = test_df['text_lexicon'].astype(str)\n",
        "\n",
        "tfidf_vectorizer = TfidfVectorizer(max_features=5000)\n",
        "X_train_tfidf = tfidf_vectorizer.fit_transform(X_train_classic)\n",
        "X_test_tfidf = tfidf_vectorizer.transform(X_test_classic)\n",
        "\n",
        "# Baseline SVM\n",
        "print(\"\\n--- HASIL MODEL SVM (BASELINE) ---\")\n",
        "svm_base = SVC(random_state=42)\n",
        "svm_base.fit(X_train_tfidf, y_train)\n",
        "y_pred_svm_base = svm_base.predict(X_test_tfidf)\n",
        "final_results['Baseline SVM'] = classification_report(y_test, y_pred_svm_base, output_dict=True)['weighted avg']\n",
        "print(f\"Akurasi SVM (Baseline): {accuracy_score(y_test, y_pred_svm_base):.4f}\")\n",
        "print(\"Laporan Klasifikasi SVM (Baseline):\")\n",
        "print(classification_report(y_test, y_pred_svm_base, target_names=label_map.keys()))\n",
        "plot_confusion_matrix(y_test, y_pred_svm_base, label_map.keys(), \"Confusion Matrix - Baseline SVM\")\n",
        "\n",
        "\n",
        "# Baseline Naive Bayes\n",
        "print(\"\\n--- HASIL MODEL NAIVE BAYES (BASELINE) ---\")\n",
        "nb_base = MultinomialNB()\n",
        "nb_base.fit(X_train_tfidf, y_train)\n",
        "y_pred_nb_base = nb_base.predict(X_test_tfidf)\n",
        "final_results['Baseline Naive Bayes'] = classification_report(y_test, y_pred_nb_base, output_dict=True)['weighted avg']\n",
        "print(f\"Akurasi Naive Bayes (Baseline): {accuracy_score(y_test, y_pred_nb_base):.4f}\")\n",
        "print(\"Laporan Klasifikasi Naive Bayes (Baseline):\")\n",
        "print(classification_report(y_test, y_pred_nb_base, target_names=label_map.keys()))\n",
        "plot_confusion_matrix(y_test, y_pred_nb_base, label_map.keys(), \"Confusion Matrix - Baseline Naive Bayes\")\n",
        "\n",
        "\n",
        "print(\"\\n--- 3. Skenario 1: SVM & Naive Bayes (Optimized) ---\")\n",
        "# Tuning dan Evaluasi SVM\n",
        "print(\"\\nMemulai tuning hyperparameter untuk SVM...\")\n",
        "param_grid_svm = {'C': [0.1, 1, 10], 'kernel': ['linear', 'rbf']}\n",
        "grid_svm = GridSearchCV(SVC(random_state=42, class_weight='balanced'), param_grid_svm, refit=True, verbose=0, cv=3)\n",
        "grid_svm.fit(X_train_tfidf, y_train)\n",
        "y_pred_svm = grid_svm.best_estimator_.predict(X_test_tfidf)\n",
        "final_results['Optimized SVM'] = classification_report(y_test, y_pred_svm, output_dict=True)['weighted avg']\n",
        "\n",
        "print(\"\\n--- HASIL MODEL SVM (OPTIMIZED) ---\")\n",
        "print(f\"Parameter Terbaik: {grid_svm.best_params_}\")\n",
        "print(f\"Akurasi SVM: {accuracy_score(y_test, y_pred_svm):.4f}\")\n",
        "print(\"Laporan Klasifikasi SVM:\")\n",
        "print(classification_report(y_test, y_pred_svm, target_names=label_map.keys()))\n",
        "plot_confusion_matrix(y_test, y_pred_svm, label_map.keys(), \"Confusion Matrix - Optimized SVM\")\n",
        "\n",
        "# Tuning dan Evaluasi Naive Bayes\n",
        "print(\"\\nMemulai tuning hyperparameter untuk Naive Bayes...\")\n",
        "param_grid_nb = {'alpha': [0.01, 0.1, 0.5, 1.0]}\n",
        "grid_nb = GridSearchCV(MultinomialNB(), param_grid_nb, refit=True, verbose=0, cv=3)\n",
        "grid_nb.fit(X_train_tfidf, y_train)\n",
        "y_pred_nb = grid_nb.best_estimator_.predict(X_test_tfidf)\n",
        "final_results['Optimized Naive Bayes'] = classification_report(y_test, y_pred_nb, output_dict=True)['weighted avg']\n",
        "\n",
        "print(\"\\n--- HASIL MODEL NAIVE BAYES (OPTIMIZED) ---\")\n",
        "print(f\"Parameter Terbaik: {grid_nb.best_params_}\")\n",
        "print(f\"Akurasi Naive Bayes: {accuracy_score(y_test, y_pred_nb):.4f}\")\n",
        "print(\"Laporan Klasifikasi Naive Bayes:\")\n",
        "print(classification_report(y_test, y_pred_nb, target_names=label_map.keys()))\n",
        "plot_confusion_matrix(y_test, y_pred_nb, label_map.keys(), \"Confusion Matrix - Optimized Naive Bayes\")"
      ]
    },
    {
      "cell_type": "markdown",
      "metadata": {
        "id": "CpH7cCAS-MEN"
      },
      "source": [
        "# --- Menghitung Class Weight untuk Model Deep Learning ---"
      ]
    },
    {
      "cell_type": "code",
      "execution_count": 9,
      "metadata": {
        "colab": {
          "base_uri": "https://localhost:8080/"
        },
        "id": "7Fov1SjB-MEO",
        "outputId": "f1485fa1-0bcd-48a4-dfb4-19a20bbfefe0"
      },
      "outputs": [
        {
          "name": "stdout",
          "output_type": "stream",
          "text": [
            "\n",
            "Menghitung Class Weight untuk Model Deep Learning...\n",
            "Bobot Kelas yang dihitung: tensor([0.4357, 3.0928, 2.6214])\n"
          ]
        }
      ],
      "source": [
        "print(\"\\nMenghitung Class Weight untuk Model Deep Learning...\")\n",
        "class_weights = compute_class_weight(\n",
        "    class_weight='balanced',\n",
        "    classes=np.unique(y_train),\n",
        "    y=y_train\n",
        ")\n",
        "class_weights_tensor = torch.tensor(class_weights, dtype=torch.float)\n",
        "print(f\"Bobot Kelas yang dihitung: {class_weights_tensor}\")"
      ]
    },
    {
      "cell_type": "markdown",
      "metadata": {
        "id": "oGhrb0El-MEO"
      },
      "source": [
        "# --- 4. Skenario 2: BiLSTM ---"
      ]
    },
    {
      "cell_type": "code",
      "execution_count": 10,
      "metadata": {
        "colab": {
          "base_uri": "https://localhost:8080/",
          "height": 1000
        },
        "id": "vxoe-8si-MEO",
        "outputId": "2ae201ee-4fe7-4d56-8c89-b9f8ab4c6d68"
      },
      "outputs": [
        {
          "name": "stdout",
          "output_type": "stream",
          "text": [
            "\n",
            "\n",
            "--- 4. Skenario 2: BiLSTM (Baseline) ---\n",
            "\n",
            "--- HASIL MODEL BiLSTM (BASELINE) ---\n",
            "Akurasi BiLSTM (Baseline): 0.7613\n",
            "Laporan Klasifikasi BiLSTM (Baseline):\n",
            "              precision    recall  f1-score   support\n",
            "\n",
            "    positive       0.95      0.77      0.85      1461\n",
            "     neutral       0.41      0.69      0.51       206\n",
            "    negative       0.51      0.79      0.62       243\n",
            "\n",
            "    accuracy                           0.76      1910\n",
            "   macro avg       0.62      0.75      0.66      1910\n",
            "weighted avg       0.83      0.76      0.78      1910\n",
            "\n"
          ]
        },
        {
          "data": {
            "image/png": "[encoded data removed]",
            "text/plain": [
              "<Figure size 600x400 with 2 Axes>"
            ]
          },
          "metadata": {},
          "output_type": "display_data"
        },
        {
          "name": "stderr",
          "output_type": "stream",
          "text": [
            "[I 2025-10-14 14:08:27,705] A new study created in memory with name: no-name-8e2eb762-89a8-45a3-905e-5dc88e8ef99e\n"
          ]
        },
        {
          "name": "stdout",
          "output_type": "stream",
          "text": [
            "\n",
            "\n",
            "--- 4. Skenario 2: BiLSTM (Optimized) ---\n",
            "\n",
            "Memulai tuning hyperparameter untuk BiLSTM dengan Optuna...\n"
          ]
        },
        {
          "name": "stderr",
          "output_type": "stream",
          "text": [
            "[I 2025-10-14 14:08:32,097] Trial 0 finished with value: 0.5989528795811518 and parameters: {'emb_dim': 200, 'hid_dim': 128, 'n_layers': 1, 'dropout': 0.30616585587582673, 'lr': 0.00017475102811663975}. Best is trial 0 with value: 0.5989528795811518.\n",
            "[I 2025-10-14 14:08:40,554] Trial 1 finished with value: 0.8214659685863874 and parameters: {'emb_dim': 200, 'hid_dim': 128, 'n_layers': 2, 'dropout': 0.4865950495794543, 'lr': 0.0074362214103054275}. Best is trial 1 with value: 0.8214659685863874.\n",
            "[I 2025-10-14 14:08:49,948] Trial 2 finished with value: 0.7638743455497382 and parameters: {'emb_dim': 300, 'hid_dim': 128, 'n_layers': 2, 'dropout': 0.3009521926167058, 'lr': 0.0008390872994808901}. Best is trial 1 with value: 0.8214659685863874.\n",
            "[I 2025-10-14 14:09:11,893] Trial 3 finished with value: 0.7586387434554974 and parameters: {'emb_dim': 100, 'hid_dim': 256, 'n_layers': 2, 'dropout': 0.40081019976896104, 'lr': 0.006791766606763561}. Best is trial 1 with value: 0.8214659685863874.\n",
            "[I 2025-10-14 14:09:36,763] Trial 4 finished with value: 0.7795811518324607 and parameters: {'emb_dim': 300, 'hid_dim': 256, 'n_layers': 2, 'dropout': 0.592682796245515, 'lr': 0.005561339237494426}. Best is trial 1 with value: 0.8214659685863874.\n",
            "[I 2025-10-14 14:10:02,211] Trial 5 finished with value: 0.8073298429319372 and parameters: {'emb_dim': 200, 'hid_dim': 256, 'n_layers': 2, 'dropout': 0.3148940970356794, 'lr': 0.005679883309672449}. Best is trial 1 with value: 0.8214659685863874.\n",
            "[I 2025-10-14 14:10:14,466] Trial 6 finished with value: 0.6890052356020943 and parameters: {'emb_dim': 300, 'hid_dim': 256, 'n_layers': 1, 'dropout': 0.5808751714180731, 'lr': 0.0022636292248894574}. Best is trial 1 with value: 0.8214659685863874.\n",
            "[I 2025-10-14 14:10:25,275] Trial 7 finished with value: 0.7094240837696335 and parameters: {'emb_dim': 200, 'hid_dim': 256, 'n_layers': 1, 'dropout': 0.3555225537799351, 'lr': 0.0002510452705472318}. Best is trial 1 with value: 0.8214659685863874.\n",
            "[I 2025-10-14 14:10:34,430] Trial 8 finished with value: 0.7785340314136125 and parameters: {'emb_dim': 200, 'hid_dim': 128, 'n_layers': 2, 'dropout': 0.4343845665363446, 'lr': 0.0020819369549623665}. Best is trial 1 with value: 0.8214659685863874.\n",
            "[I 2025-10-14 14:10:46,816] Trial 9 finished with value: 0.6146596858638743 and parameters: {'emb_dim': 300, 'hid_dim': 256, 'n_layers': 1, 'dropout': 0.4528356945817763, 'lr': 0.0002610322715790031}. Best is trial 1 with value: 0.8214659685863874.\n"
          ]
        },
        {
          "name": "stdout",
          "output_type": "stream",
          "text": [
            "\n",
            "Melatih model final BiLSTM dengan parameter terbaik...\n",
            "\n",
            "--- HASIL MODEL BiLSTM (OPTIMIZED) ---\n",
            "Parameter Terbaik: {'emb_dim': 200, 'hid_dim': 128, 'n_layers': 2, 'dropout': 0.4865950495794543, 'lr': 0.0074362214103054275}\n",
            "Akurasi BiLSTM: 0.8178\n",
            "Laporan Klasifikasi BiLSTM:\n",
            "              precision    recall  f1-score   support\n",
            "\n",
            "    positive       0.92      0.87      0.89      1461\n",
            "     neutral       0.55      0.54      0.55       206\n",
            "    negative       0.56      0.74      0.64       243\n",
            "\n",
            "    accuracy                           0.82      1910\n",
            "   macro avg       0.68      0.72      0.69      1910\n",
            "weighted avg       0.83      0.82      0.82      1910\n",
            "\n"
          ]
        },
        {
          "data": {
            "image/png": "[encoded data removed]",
            "text/plain": [
              "<Figure size 600x400 with 2 Axes>"
            ]
          },
          "metadata": {},
          "output_type": "display_data"
        }
      ],
      "source": [
        "print(\"\\n\\n--- 4. Skenario 2: BiLSTM (Baseline) ---\")\n",
        "device = torch.device('cuda' if torch.cuda.is_available() else 'cpu')\n",
        "class_weights_tensor = class_weights_tensor.to(device)\n",
        "\n",
        "X_train_dl = train_df['text_clean'].astype(str)\n",
        "X_test_dl = test_df['text_clean'].astype(str)\n",
        "word_counts = Counter(word for text in X_train_dl for word in text.split())\n",
        "vocab = sorted(word_counts, key=word_counts.get, reverse=True)\n",
        "word_to_idx = {word: i + 2 for i, word in enumerate(vocab)}; word_to_idx['<PAD>'] = 0; word_to_idx['<UNK>'] = 1\n",
        "\n",
        "def text_to_sequence(text, w2i): return [w2i.get(word, 1) for word in text.split()]\n",
        "X_train_seq = [text_to_sequence(text, word_to_idx) for text in X_train_dl]\n",
        "X_test_seq = [text_to_sequence(text, word_to_idx) for text in X_test_dl]\n",
        "\n",
        "def pad_sequences(sequences, max_len=100):\n",
        "    padded = np.zeros((len(sequences), max_len), dtype=np.int64)\n",
        "    for i, seq in enumerate(sequences):\n",
        "        seq_len = len(seq)\n",
        "        if seq_len > 0: padded[i, :min(seq_len, max_len)] = seq[:max_len]\n",
        "    return padded\n",
        "\n",
        "X_train_pad = pad_sequences(X_train_seq); X_test_pad = pad_sequences(X_test_seq)\n",
        "\n",
        "class TorchSentimentDataset(Dataset):\n",
        "    def __init__(self, X, y): self.X = torch.from_numpy(X).long(); self.y = torch.from_numpy(y).long()\n",
        "    def __len__(self): return len(self.y)\n",
        "    def __getitem__(self, idx): return self.X[idx], self.y[idx]\n",
        "\n",
        "train_dataset_lstm = TorchSentimentDataset(X_train_pad, y_train.to_numpy())\n",
        "val_dataset_lstm = TorchSentimentDataset(X_test_pad, y_test.to_numpy())\n",
        "\n",
        "class BiLSTMClassifier(nn.Module):\n",
        "    def __init__(self, vocab_size, emb_dim, hid_dim, out_dim, n_layers, dropout):\n",
        "        super().__init__(); self.embedding = nn.Embedding(vocab_size, emb_dim, padding_idx=0); self.lstm = nn.LSTM(emb_dim, hid_dim, num_layers=n_layers, bidirectional=True, batch_first=True, dropout=dropout); self.fc = nn.Linear(hid_dim * 2, out_dim); self.dropout = nn.Dropout(dropout)\n",
        "    def forward(self, text):\n",
        "        embedded = self.dropout(self.embedding(text)); outputs, (hidden, cell) = self.lstm(embedded); hidden = self.dropout(torch.cat((hidden[-2,:,:], hidden[-1,:,:]), dim=1)); return self.fc(hidden)\n",
        "\n",
        "# Baseline BiLSTM\n",
        "print(\"\\n--- HASIL MODEL BiLSTM (BASELINE) ---\")\n",
        "bilstm_base = BiLSTMClassifier(len(word_to_idx), 100, 128, 3, 1, 0.5).to(device)\n",
        "optimizer_base = torch.optim.Adam(bilstm_base.parameters())\n",
        "criterion_base = nn.CrossEntropyLoss(weight=class_weights_tensor).to(device)\n",
        "train_loader_base = DataLoader(train_dataset_lstm, batch_size=64, shuffle=True)\n",
        "\n",
        "for epoch in range(15):\n",
        "    bilstm_base.train()\n",
        "    for data, target in train_loader_base:\n",
        "        data, target = data.to(device), target.to(device); optimizer_base.zero_grad(); output = bilstm_base(data); loss = criterion_base(output, target); loss.backward(); optimizer_base.step()\n",
        "\n",
        "bilstm_base.eval(); all_preds_bilstm_base = []\n",
        "test_loader_base = DataLoader(val_dataset_lstm, batch_size=64)\n",
        "with torch.no_grad():\n",
        "    for data, _ in test_loader_base:\n",
        "        outputs = bilstm_base(data.to(device)); _, predicted = torch.max(outputs.data, 1); all_preds_bilstm_base.extend(predicted.cpu().numpy())\n",
        "y_pred_bilstm_base = np.array(all_preds_bilstm_base)\n",
        "final_results['Baseline BiLSTM'] = classification_report(y_test, y_pred_bilstm_base, output_dict=True)['weighted avg']\n",
        "print(f\"Akurasi BiLSTM (Baseline): {accuracy_score(y_test, y_pred_bilstm_base):.4f}\")\n",
        "print(\"Laporan Klasifikasi BiLSTM (Baseline):\")\n",
        "print(classification_report(y_test, y_pred_bilstm_base, target_names=label_map.keys()))\n",
        "plot_confusion_matrix(y_test, y_pred_bilstm_base, label_map.keys(), \"Confusion Matrix - Baseline BiLSTM\")\n",
        "\n",
        "\n",
        "print(\"\\n\\n--- 4. Skenario 2: BiLSTM (Optimized) ---\")\n",
        "def objective_bilstm(trial):\n",
        "    emb_dim = trial.suggest_categorical(\"emb_dim\", [100, 200, 300])\n",
        "    hid_dim = trial.suggest_categorical(\"hid_dim\", [128, 256])\n",
        "    n_layers = trial.suggest_int(\"n_layers\", 1, 2)\n",
        "    dropout = trial.suggest_float(\"dropout\", 0.3, 0.6)\n",
        "    lr = trial.suggest_float(\"lr\", 1e-4, 1e-2, log=True)\n",
        "\n",
        "    model = BiLSTMClassifier(len(word_to_idx), emb_dim, hid_dim, 3, n_layers, dropout).to(device)\n",
        "    optimizer = torch.optim.Adam(model.parameters(), lr=lr)\n",
        "    criterion = nn.CrossEntropyLoss(weight=class_weights_tensor).to(device)\n",
        "    train_loader = DataLoader(train_dataset_lstm, batch_size=64, shuffle=True)\n",
        "    val_loader = DataLoader(val_dataset_lstm, batch_size=64)\n",
        "\n",
        "    model.train()\n",
        "    for epoch in range(5):\n",
        "        for data, target in train_loader:\n",
        "            data, target = data.to(device), target.to(device); optimizer.zero_grad(); output = model(data); loss = criterion(output, target); loss.backward(); optimizer.step()\n",
        "\n",
        "    model.eval(); correct = 0; total = 0\n",
        "    with torch.no_grad():\n",
        "        for data, target in val_loader:\n",
        "            outputs = model(data.to(device)); _, predicted = torch.max(outputs.data, 1); total += target.size(0); correct += (predicted == target.to(device)).sum().item()\n",
        "    return correct / total\n",
        "\n",
        "print(\"\\nMemulai tuning hyperparameter untuk BiLSTM dengan Optuna...\")\n",
        "study_bilstm = optuna.create_study(direction=\"maximize\")\n",
        "study_bilstm.optimize(objective_bilstm, n_trials=10)\n",
        "best_params_bilstm = study_bilstm.best_params\n",
        "model_params_bilstm = {k: v for k, v in best_params_bilstm.items() if k != 'lr'}\n",
        "\n",
        "print(\"\\nMelatih model final BiLSTM dengan parameter terbaik...\")\n",
        "final_bilstm_model = BiLSTMClassifier(vocab_size=len(word_to_idx), out_dim=3, **model_params_bilstm).to(device)\n",
        "optimizer = torch.optim.Adam(final_bilstm_model.parameters(), lr=best_params_bilstm['lr'])\n",
        "criterion = nn.CrossEntropyLoss(weight=class_weights_tensor).to(device)\n",
        "train_loader_final = DataLoader(train_dataset_lstm, batch_size=64, shuffle=True)\n",
        "\n",
        "for epoch in range(15):\n",
        "    final_bilstm_model.train()\n",
        "    for data, target in train_loader_final:\n",
        "        data, target = data.to(device), target.to(device); optimizer.zero_grad(); output = final_bilstm_model(data); loss = criterion(output, target); loss.backward(); optimizer.step()\n",
        "\n",
        "# Evaluasi BiLSTM\n",
        "final_bilstm_model.eval(); all_preds_bilstm = []\n",
        "test_loader_final = DataLoader(val_dataset_lstm, batch_size=64)\n",
        "with torch.no_grad():\n",
        "    for data, _ in test_loader_final:\n",
        "        outputs = final_bilstm_model(data.to(device)); _, predicted = torch.max(outputs.data, 1); all_preds_bilstm.extend(predicted.cpu().numpy())\n",
        "y_pred_bilstm = np.array(all_preds_bilstm)\n",
        "final_results['Optimized BiLSTM'] = classification_report(y_test, y_pred_bilstm, output_dict=True)['weighted avg']\n",
        "\n",
        "print(\"\\n--- HASIL MODEL BiLSTM (OPTIMIZED) ---\")\n",
        "print(f\"Parameter Terbaik: {best_params_bilstm}\")\n",
        "print(f\"Akurasi BiLSTM: {accuracy_score(y_test, y_pred_bilstm):.4f}\")\n",
        "print(\"Laporan Klasifikasi BiLSTM:\")\n",
        "print(classification_report(y_test, y_pred_bilstm, target_names=label_map.keys()))\n",
        "plot_confusion_matrix(y_test, y_pred_bilstm, label_map.keys(), \"Confusion Matrix - Optimized BiLSTM\")"
      ]
    },
    {
      "cell_type": "markdown",
      "metadata": {
        "id": "3BV0AeyP-MEO"
      },
      "source": [
        "# --- 5. Skenario 3: IndoBERT ---"
      ]
    },
    {
      "cell_type": "code",
      "execution_count": 11,
      "metadata": {
        "colab": {
          "base_uri": "https://localhost:8080/",
          "height": 1000,
          "referenced_widgets": [
            "52200d99402e4e1bb5e11211960c0ca1",
            "1a9ff74bbe8d4f138a8cfe66854ba969",
            "e01f7b7a749a4af9b19ff44171f9920d",
            "cf57c2a2d3b74162a1267da2ebcd8aca",
            "f6a03c38a67d4ff382748b0d5e8bd066",
            "324685a8285149b1a1fd781ab44ed522",
            "c95adf56d96a4e758699a7d815bb7123",
            "33df0a3e94464ad99197ac9cecf052f8",
            "a325080a25b043089d4cf1923df7cf95",
            "45179e74b8f745259349399e4a1f6fc7",
            "f9fd41edf3944b219a4e903c56f35639",
            "f0122270299945f0a74d1e7cf8539b7d",
            "8319f28850244f07855f53452c43c409",
            "609be325823c4fdd9aa75d530a991ca9",
            "c121bdeb4cf348d08ed7904e487d4336",
            "1feb90acc255465f90bf1d305fa2cefe",
            "e9c80dbbda1a47e9aa22b5801eaeb9cf",
            "d061a82fa3dd40ee903c0c53a530f504",
            "51752fd67ef7476685564f78346e085a",
            "4fb8050bc65f46d8a619849519aa0d55",
            "c3990a10805045049772d56b44e81908",
            "1c47185a0c5340879ec4e45ae6069862",
            "06e316bee4b54b3390783251cd3a6499",
            "21f65a8726b540929ddabb92b72df947",
            "ff7c6fee34a246eca4da0972f0269e33",
            "016ece89078947c8a64063fd80867595",
            "619f53b32e8d44258661eba4a6b53b6e",
            "5c690db26f3249cead95faf76b937f53",
            "5fc11b6233534d638be3c111b8441547",
            "eb85d0c94d3f41978788131d31f440ae",
            "9af499813d474163b4b434473fb3ad01",
            "19fc2a90c8234a97823ac8427131ed5c",
            "5a5114249f3e4d789dd14a7b1da545a9",
            "1532e8148169420883939f0f0653871f",
            "fd31e53ede4f42b58b6a452f0dc91403",
            "8ac9b4e25956495a9c75455178da6add",
            "3a7195e68c464cf0a13d109fe62a3c23",
            "467ef9acd77d469ca39a7c85b54396cb",
            "11d7bb87643b4eeba33446f3b07683df",
            "596ea5624e9a418ebe8e8ea862f78346",
            "e1194351a23648a8b517b8c2a03321fe",
            "c58bb75aebfc483392c36827dff126d8",
            "b4ae3cd163ef4190b5bae5f6a67bf7f1",
            "57c37f7160824f5994d5c267d01e2a4c",
            "7eb506ac91b9425f8d08088042e2eee6",
            "652bccfc7b7746f681445ce781a87807",
            "5748671e70884ae3bb8da7e1490293c1",
            "300a387774c64823889984d5e24cbaa1",
            "ce009088d56943ee98025fdc38e3d54f",
            "23e101e3763e4e6f91a1a4e1eabe5128",
            "2673b5ffdd1749f39c73216a32aaaf4d",
            "d4f337aa44e24eda83f15bb7ee3bfaf7",
            "1df40054050d4d199a721d6d322704c4",
            "10e1dc1e4d6448899e651a3ec707d866",
            "575b174ebf62449f93f38e4b6fb86cb6",
            "c19dff75fe344451b276bf6d634b22e6",
            "0d4192a4de244249b1a2f44fc0cfdf09",
            "cd9eb87e1a55423c8a0893209b56c796",
            "6b2f991bb5a24f188b7f158943c537a5",
            "a86fb0f579fb4a63823e4af50c57c77c",
            "3bec2062585e4a8bb4197999c72da888",
            "9ab45033e7f8482081fc23f6633f8a12",
            "38c3805fc8fd46d595b90c84ca0d57b9",
            "662fbf386dc241409afb24dca0f1af3b",
            "7e2eb1894bb6477f8cb41aa9c97b3cda",
            "d68973ecaf274394bc5a51ae3a6a7e3e",
            "99319fd9907f40fdbbd6a9d1a1fd8390",
            "5f39e6024dce4c008977c4c538ba0faa",
            "c7870bdca4f744a3b9c62b00741d7a68",
            "903897f94124434580f7c2647ba0a7af",
            "e6e5c6ec58db441eba59f3ea75ad4f06",
            "9030e200fcb640209b56f0b7077f13a1",
            "b122c6b66d3e4b23bae92c8a5ffa55b4",
            "b81660c1d59c4d54b00a7ddfc6000ab2",
            "79e8292558be40628efb0806b2ebee80",
            "6b993271151b477a8e15c0df1d3cff29",
            "67885985bdd2477b984fe70e701fde01",
            "55bd6d315822421f88f822f6b7274886",
            "d99f9364f3484674892f56963878b06e",
            "97b2bfaaba65411aa2442600efd30ee5",
            "84fa54a18f0546159603dd1779762c54",
            "0b6517dd9fc34a50953710e8687f21fd",
            "bae0138775d740ce8c378d1d0421de46",
            "cac51ed2bf334a2cb60ee66821a085a3",
            "3b6a0eacb157428588ad9e7fa9ddbba5",
            "5928199ed43b4bba81ea0daee41ed478",
            "f5949056f08e429190829add4b066e2d",
            "b53caa61dece4e62ac70c33cd263c14f"
          ]
        },
        "id": "V4SoItRA-MEO",
        "outputId": "4ee34582-c63e-4311-e3bc-2e0f398f60d5"
      },
      "outputs": [
        {
          "name": "stdout",
          "output_type": "stream",
          "text": [
            "\n",
            "\n",
            "--- 5. Skenario 3: IndoBERT (Baseline) ---\n"
          ]
        },
        {
          "data": {
            "application/vnd.jupyter.widget-view+json": {
              "model_id": "52200d99402e4e1bb5e11211960c0ca1",
              "version_major": 2,
              "version_minor": 0
            },
            "text/plain": [
              "tokenizer_config.json:   0%|          | 0.00/2.00 [00:00<?, ?B/s]"
            ]
          },
          "metadata": {},
          "output_type": "display_data"
        },
        {
          "data": {
            "application/vnd.jupyter.widget-view+json": {
              "model_id": "f0122270299945f0a74d1e7cf8539b7d",
              "version_major": 2,
              "version_minor": 0
            },
            "text/plain": [
              "config.json: 0.00B [00:00, ?B/s]"
            ]
          },
          "metadata": {},
          "output_type": "display_data"
        },
        {
          "data": {
            "application/vnd.jupyter.widget-view+json": {
              "model_id": "06e316bee4b54b3390783251cd3a6499",
              "version_major": 2,
              "version_minor": 0
            },
            "text/plain": [
              "vocab.txt: 0.00B [00:00, ?B/s]"
            ]
          },
          "metadata": {},
          "output_type": "display_data"
        },
        {
          "data": {
            "application/vnd.jupyter.widget-view+json": {
              "model_id": "1532e8148169420883939f0f0653871f",
              "version_major": 2,
              "version_minor": 0
            },
            "text/plain": [
              "special_tokens_map.json:   0%|          | 0.00/112 [00:00<?, ?B/s]"
            ]
          },
          "metadata": {},
          "output_type": "display_data"
        },
        {
          "data": {
            "application/vnd.jupyter.widget-view+json": {
              "model_id": "7eb506ac91b9425f8d08088042e2eee6",
              "version_major": 2,
              "version_minor": 0
            },
            "text/plain": [
              "Map:   0%|          | 0/7636 [00:00<?, ? examples/s]"
            ]
          },
          "metadata": {},
          "output_type": "display_data"
        },
        {
          "data": {
            "application/vnd.jupyter.widget-view+json": {
              "model_id": "c19dff75fe344451b276bf6d634b22e6",
              "version_major": 2,
              "version_minor": 0
            },
            "text/plain": [
              "Map:   0%|          | 0/1910 [00:00<?, ? examples/s]"
            ]
          },
          "metadata": {},
          "output_type": "display_data"
        },
        {
          "name": "stdout",
          "output_type": "stream",
          "text": [
            "\n",
            "--- HASIL MODEL IndoBERT (BASELINE) ---\n"
          ]
        },
        {
          "data": {
            "application/vnd.jupyter.widget-view+json": {
              "model_id": "99319fd9907f40fdbbd6a9d1a1fd8390",
              "version_major": 2,
              "version_minor": 0
            },
            "text/plain": [
              "pytorch_model.bin:   0%|          | 0.00/498M [00:00<?, ?B/s]"
            ]
          },
          "metadata": {},
          "output_type": "display_data"
        },
        {
          "name": "stderr",
          "output_type": "stream",
          "text": [
            "Some weights of BertForSequenceClassification were not initialized from the model checkpoint at indobenchmark/indobert-base-p1 and are newly initialized: ['classifier.bias', 'classifier.weight']\n",
            "You should probably TRAIN this model on a down-stream task to be able to use it for predictions and inference.\n"
          ]
        },
        {
          "data": {
            "application/vnd.jupyter.widget-view+json": {
              "model_id": "55bd6d315822421f88f822f6b7274886",
              "version_major": 2,
              "version_minor": 0
            },
            "text/plain": [
              "model.safetensors:   0%|          | 0.00/498M [00:00<?, ?B/s]"
            ]
          },
          "metadata": {},
          "output_type": "display_data"
        },
        {
          "name": "stderr",
          "output_type": "stream",
          "text": [
            "Some weights of BertForSequenceClassification were not initialized from the model checkpoint at indobenchmark/indobert-base-p1 and are newly initialized: ['classifier.bias', 'classifier.weight']\n",
            "You should probably TRAIN this model on a down-stream task to be able to use it for predictions and inference.\n"
          ]
        },
        {
          "data": {
            "text/html": [
              "\n",
              "    <div>\n",
              "      \n",
              "      <progress value='955' max='955' style='width:300px; height:20px; vertical-align: middle;'></progress>\n",
              "      [955/955 03:35, Epoch 1/1]\n",
              "    </div>\n",
              "    <table border=\"1\" class=\"dataframe\">\n",
              "  <thead>\n",
              " <tr style=\"text-align: left;\">\n",
              "      <th>Step</th>\n",
              "      <th>Training Loss</th>\n",
              "    </tr>\n",
              "  </thead>\n",
              "  <tbody>\n",
              "    <tr>\n",
              "      <td>100</td>\n",
              "      <td>0.929400</td>\n",
              "    </tr>\n",
              "    <tr>\n",
              "      <td>200</td>\n",
              "      <td>0.874000</td>\n",
              "    </tr>\n",
              "    <tr>\n",
              "      <td>300</td>\n",
              "      <td>0.759400</td>\n",
              "    </tr>\n",
              "    <tr>\n",
              "      <td>400</td>\n",
              "      <td>0.701100</td>\n",
              "    </tr>\n",
              "    <tr>\n",
              "      <td>500</td>\n",
              "      <td>0.637200</td>\n",
              "    </tr>\n",
              "    <tr>\n",
              "      <td>600</td>\n",
              "      <td>0.678800</td>\n",
              "    </tr>\n",
              "    <tr>\n",
              "      <td>700</td>\n",
              "      <td>0.652600</td>\n",
              "    </tr>\n",
              "    <tr>\n",
              "      <td>800</td>\n",
              "      <td>0.525600</td>\n",
              "    </tr>\n",
              "    <tr>\n",
              "      <td>900</td>\n",
              "      <td>0.580000</td>\n",
              "    </tr>\n",
              "  </tbody>\n",
              "</table><p>"
            ],
            "text/plain": [
              "<IPython.core.display.HTML object>"
            ]
          },
          "metadata": {},
          "output_type": "display_data"
        },
        {
          "data": {
            "text/html": [],
            "text/plain": [
              "<IPython.core.display.HTML object>"
            ]
          },
          "metadata": {},
          "output_type": "display_data"
        },
        {
          "name": "stdout",
          "output_type": "stream",
          "text": [
            "Akurasi IndoBERT (Baseline): 0.8796\n",
            "Laporan Klasifikasi IndoBERT (Baseline):\n",
            "              precision    recall  f1-score   support\n",
            "\n",
            "    positive       0.96      0.90      0.93      1461\n",
            "     neutral       0.62      0.78      0.69       206\n",
            "    negative       0.72      0.83      0.77       243\n",
            "\n",
            "    accuracy                           0.88      1910\n",
            "   macro avg       0.77      0.84      0.80      1910\n",
            "weighted avg       0.89      0.88      0.88      1910\n",
            "\n"
          ]
        },
        {
          "data": {
            "image/png": "[encoded data removed]",
            "text/plain": [
              "<Figure size 600x400 with 2 Axes>"
            ]
          },
          "metadata": {},
          "output_type": "display_data"
        },
        {
          "name": "stderr",
          "output_type": "stream",
          "text": [
            "[I 2025-10-14 14:15:22,594] A new study created in memory with name: no-name-6d46d18a-3cd7-4d63-86c1-9deb234cd213\n"
          ]
        },
        {
          "name": "stdout",
          "output_type": "stream",
          "text": [
            "\n",
            "\n",
            "--- 5. Skenario 3: IndoBERT (Optimized) ---\n",
            "\n",
            "Memulai tuning hyperparameter untuk IndoBERT dengan Optuna...\n"
          ]
        },
        {
          "name": "stderr",
          "output_type": "stream",
          "text": [
            "Some weights of BertForSequenceClassification were not initialized from the model checkpoint at indobenchmark/indobert-base-p1 and are newly initialized: ['classifier.bias', 'classifier.weight']\n",
            "You should probably TRAIN this model on a down-stream task to be able to use it for predictions and inference.\n",
            "Some weights of BertForSequenceClassification were not initialized from the model checkpoint at indobenchmark/indobert-base-p1 and are newly initialized: ['classifier.bias', 'classifier.weight']\n",
            "You should probably TRAIN this model on a down-stream task to be able to use it for predictions and inference.\n"
          ]
        },
        {
          "name": "stdout",
          "output_type": "stream",
          "text": [
            "{'loss': 0.7694, 'grad_norm': 20.796899795532227, 'learning_rate': 2.7447291362423293e-05, 'epoch': 0.5235602094240838}\n",
            "{'eval_loss': 0.49928799271583557, 'eval_accuracy': 0.8465968586387435, 'eval_runtime': 13.4752, 'eval_samples_per_second': 141.741, 'eval_steps_per_second': 17.736, 'epoch': 1.0}\n",
            "{'loss': 0.6515, 'grad_norm': 0.3588060438632965, 'learning_rate': 2.164693393164914e-05, 'epoch': 1.0471204188481675}\n",
            "{'loss': 0.4262, 'grad_norm': 52.07154846191406, 'learning_rate': 1.584657650087499e-05, 'epoch': 1.5706806282722514}\n",
            "{'eval_loss': 0.8295227289199829, 'eval_accuracy': 0.9104712041884817, 'eval_runtime': 14.1037, 'eval_samples_per_second': 135.426, 'eval_steps_per_second': 16.946, 'epoch': 2.0}\n",
            "{'loss': 0.3102, 'grad_norm': 0.028301361948251724, 'learning_rate': 1.0046219070100834e-05, 'epoch': 2.094240837696335}\n",
            "{'loss': 0.1386, 'grad_norm': 8.338031768798828, 'learning_rate': 4.245861639326681e-06, 'epoch': 2.6178010471204187}\n",
            "{'eval_loss': 0.8448033928871155, 'eval_accuracy': 0.918848167539267, 'eval_runtime': 13.2953, 'eval_samples_per_second': 143.66, 'eval_steps_per_second': 17.976, 'epoch': 3.0}\n",
            "{'train_runtime': 588.864, 'train_samples_per_second': 38.902, 'train_steps_per_second': 4.865, 'train_loss': 0.4231412344994137, 'epoch': 3.0}\n"
          ]
        },
        {
          "name": "stderr",
          "output_type": "stream",
          "text": [
            "[I 2025-10-14 14:25:26,858] Trial 0 finished with value: 0.918848167539267 and parameters: {'learning_rate': 3.32360480783359e-05, 'num_train_epochs': 3, 'weight_decay': 0.06462501812409503}. Best is trial 0 with value: 0.918848167539267.\n"
          ]
        },
        {
          "name": "stdout",
          "output_type": "stream",
          "text": [
            "{'eval_loss': 0.8448033928871155, 'eval_accuracy': 0.918848167539267, 'eval_runtime': 13.2721, 'eval_samples_per_second': 143.911, 'eval_steps_per_second': 18.008, 'epoch': 3.0}\n"
          ]
        },
        {
          "name": "stderr",
          "output_type": "stream",
          "text": [
            "Some weights of BertForSequenceClassification were not initialized from the model checkpoint at indobenchmark/indobert-base-p1 and are newly initialized: ['classifier.bias', 'classifier.weight']\n",
            "You should probably TRAIN this model on a down-stream task to be able to use it for predictions and inference.\n",
            "Some weights of BertForSequenceClassification were not initialized from the model checkpoint at indobenchmark/indobert-base-p1 and are newly initialized: ['classifier.bias', 'classifier.weight']\n",
            "You should probably TRAIN this model on a down-stream task to be able to use it for predictions and inference.\n"
          ]
        },
        {
          "name": "stdout",
          "output_type": "stream",
          "text": [
            "{'loss': 0.6298, 'grad_norm': 30.236034393310547, 'learning_rate': 7.829487197174745e-06, 'epoch': 0.5235602094240838}\n",
            "{'eval_loss': 0.4299960434436798, 'eval_accuracy': 0.8623036649214659, 'eval_runtime': 13.3272, 'eval_samples_per_second': 143.315, 'eval_steps_per_second': 17.933, 'epoch': 1.0}\n",
            "{'loss': 0.4705, 'grad_norm': 2.3135006427764893, 'learning_rate': 5.055040989813035e-06, 'epoch': 1.0471204188481675}\n",
            "{'loss': 0.2612, 'grad_norm': 105.38089752197266, 'learning_rate': 2.280594782451325e-06, 'epoch': 1.5706806282722514}\n",
            "{'eval_loss': 0.4868084788322449, 'eval_accuracy': 0.9277486910994764, 'eval_runtime': 13.3121, 'eval_samples_per_second': 143.478, 'eval_steps_per_second': 17.954, 'epoch': 2.0}\n",
            "{'train_runtime': 387.4975, 'train_samples_per_second': 39.412, 'train_steps_per_second': 4.929, 'train_loss': 0.4142396697199157, 'epoch': 2.0}\n"
          ]
        },
        {
          "name": "stderr",
          "output_type": "stream",
          "text": [
            "[I 2025-10-14 14:32:09,757] Trial 1 finished with value: 0.9277486910994764 and parameters: {'learning_rate': 1.059838451212173e-05, 'num_train_epochs': 2, 'weight_decay': 0.058742805328707105}. Best is trial 1 with value: 0.9277486910994764.\n"
          ]
        },
        {
          "name": "stdout",
          "output_type": "stream",
          "text": [
            "{'eval_loss': 0.4868084788322449, 'eval_accuracy': 0.9277486910994764, 'eval_runtime': 13.2697, 'eval_samples_per_second': 143.937, 'eval_steps_per_second': 18.011, 'epoch': 2.0}\n"
          ]
        },
        {
          "name": "stderr",
          "output_type": "stream",
          "text": [
            "Some weights of BertForSequenceClassification were not initialized from the model checkpoint at indobenchmark/indobert-base-p1 and are newly initialized: ['classifier.bias', 'classifier.weight']\n",
            "You should probably TRAIN this model on a down-stream task to be able to use it for predictions and inference.\n",
            "Some weights of BertForSequenceClassification were not initialized from the model checkpoint at indobenchmark/indobert-base-p1 and are newly initialized: ['classifier.bias', 'classifier.weight']\n",
            "You should probably TRAIN this model on a down-stream task to be able to use it for predictions and inference.\n"
          ]
        },
        {
          "name": "stdout",
          "output_type": "stream",
          "text": [
            "{'loss': 0.6727, 'grad_norm': 33.436134338378906, 'learning_rate': 1.4958850374466994e-05, 'epoch': 0.5235602094240838}\n",
            "{'eval_loss': 0.5009875297546387, 'eval_accuracy': 0.8591623036649214, 'eval_runtime': 13.3153, 'eval_samples_per_second': 143.443, 'eval_steps_per_second': 17.949, 'epoch': 1.0}\n",
            "{'loss': 0.5537, 'grad_norm': 1.632895827293396, 'learning_rate': 1.1797639390851822e-05, 'epoch': 1.0471204188481675}\n",
            "{'loss': 0.3418, 'grad_norm': 99.79956817626953, 'learning_rate': 8.636428407236652e-06, 'epoch': 1.5706806282722514}\n",
            "{'eval_loss': 0.6431615948677063, 'eval_accuracy': 0.9272251308900523, 'eval_runtime': 13.3212, 'eval_samples_per_second': 143.38, 'eval_steps_per_second': 17.941, 'epoch': 2.0}\n",
            "{'loss': 0.2777, 'grad_norm': 89.23284149169922, 'learning_rate': 5.475217423621479e-06, 'epoch': 2.094240837696335}\n",
            "{'loss': 0.1151, 'grad_norm': 23.04714584350586, 'learning_rate': 2.3140064400063064e-06, 'epoch': 2.6178010471204187}\n",
            "{'eval_loss': 0.7010793089866638, 'eval_accuracy': 0.9324607329842932, 'eval_runtime': 13.2998, 'eval_samples_per_second': 143.611, 'eval_steps_per_second': 17.97, 'epoch': 3.0}\n",
            "{'train_runtime': 580.5035, 'train_samples_per_second': 39.462, 'train_steps_per_second': 4.935, 'train_loss': 0.3584013001873023, 'epoch': 3.0}\n"
          ]
        },
        {
          "name": "stderr",
          "output_type": "stream",
          "text": [
            "[I 2025-10-14 14:42:05,703] Trial 2 finished with value: 0.9324607329842932 and parameters: {'learning_rate': 1.8113738936114938e-05, 'num_train_epochs': 3, 'weight_decay': 0.09128036493529229}. Best is trial 2 with value: 0.9324607329842932.\n"
          ]
        },
        {
          "name": "stdout",
          "output_type": "stream",
          "text": [
            "{'eval_loss': 0.7010793089866638, 'eval_accuracy': 0.9324607329842932, 'eval_runtime': 13.2832, 'eval_samples_per_second': 143.79, 'eval_steps_per_second': 17.993, 'epoch': 3.0}\n"
          ]
        },
        {
          "name": "stderr",
          "output_type": "stream",
          "text": [
            "Some weights of BertForSequenceClassification were not initialized from the model checkpoint at indobenchmark/indobert-base-p1 and are newly initialized: ['classifier.bias', 'classifier.weight']\n",
            "You should probably TRAIN this model on a down-stream task to be able to use it for predictions and inference.\n",
            "Some weights of BertForSequenceClassification were not initialized from the model checkpoint at indobenchmark/indobert-base-p1 and are newly initialized: ['classifier.bias', 'classifier.weight']\n",
            "You should probably TRAIN this model on a down-stream task to be able to use it for predictions and inference.\n"
          ]
        },
        {
          "name": "stdout",
          "output_type": "stream",
          "text": [
            "{'loss': 0.7965, 'grad_norm': 21.71935272216797, 'learning_rate': 3.0482859468905886e-05, 'epoch': 0.5235602094240838}\n",
            "{'eval_loss': 0.5499459505081177, 'eval_accuracy': 0.8539267015706806, 'eval_runtime': 13.2984, 'eval_samples_per_second': 143.626, 'eval_steps_per_second': 17.972, 'epoch': 1.0}\n",
            "{'loss': 0.6314, 'grad_norm': 0.29004672169685364, 'learning_rate': 1.9680995730810252e-05, 'epoch': 1.0471204188481675}\n",
            "{'loss': 0.3862, 'grad_norm': 93.61341857910156, 'learning_rate': 8.879131992714614e-06, 'epoch': 1.5706806282722514}\n",
            "{'eval_loss': 0.6524434685707092, 'eval_accuracy': 0.9178010471204189, 'eval_runtime': 13.2973, 'eval_samples_per_second': 143.638, 'eval_steps_per_second': 17.974, 'epoch': 2.0}\n",
            "{'train_runtime': 386.9256, 'train_samples_per_second': 39.47, 'train_steps_per_second': 4.936, 'train_loss': 0.5322626603211408, 'epoch': 2.0}\n"
          ]
        },
        {
          "name": "stderr",
          "output_type": "stream",
          "text": [
            "[I 2025-10-14 14:48:48,177] Trial 3 finished with value: 0.9178010471204189 and parameters: {'learning_rate': 4.1263119479525335e-05, 'num_train_epochs': 2, 'weight_decay': 0.06309954846417175}. Best is trial 2 with value: 0.9324607329842932.\n"
          ]
        },
        {
          "name": "stdout",
          "output_type": "stream",
          "text": [
            "{'eval_loss': 0.6524434685707092, 'eval_accuracy': 0.9178010471204189, 'eval_runtime': 13.3072, 'eval_samples_per_second': 143.532, 'eval_steps_per_second': 17.96, 'epoch': 2.0}\n"
          ]
        },
        {
          "name": "stderr",
          "output_type": "stream",
          "text": [
            "Some weights of BertForSequenceClassification were not initialized from the model checkpoint at indobenchmark/indobert-base-p1 and are newly initialized: ['classifier.bias', 'classifier.weight']\n",
            "You should probably TRAIN this model on a down-stream task to be able to use it for predictions and inference.\n",
            "Some weights of BertForSequenceClassification were not initialized from the model checkpoint at indobenchmark/indobert-base-p1 and are newly initialized: ['classifier.bias', 'classifier.weight']\n",
            "You should probably TRAIN this model on a down-stream task to be able to use it for predictions and inference.\n"
          ]
        },
        {
          "name": "stdout",
          "output_type": "stream",
          "text": [
            "{'loss': 0.6482, 'grad_norm': 28.274656295776367, 'learning_rate': 1.1073799631996864e-05, 'epoch': 0.5235602094240838}\n",
            "{'eval_loss': 0.4919698238372803, 'eval_accuracy': 0.8722513089005236, 'eval_runtime': 13.3055, 'eval_samples_per_second': 143.549, 'eval_steps_per_second': 17.962, 'epoch': 1.0}\n",
            "{'loss': 0.4993, 'grad_norm': 2.8018248081207275, 'learning_rate': 7.149703376859776e-06, 'epoch': 1.0471204188481675}\n",
            "{'loss': 0.2706, 'grad_norm': 115.39940643310547, 'learning_rate': 3.225607121722687e-06, 'epoch': 1.5706806282722514}\n",
            "{'eval_loss': 0.5652364492416382, 'eval_accuracy': 0.9204188481675393, 'eval_runtime': 13.3758, 'eval_samples_per_second': 142.796, 'eval_steps_per_second': 17.868, 'epoch': 2.0}\n",
            "{'train_runtime': 387.5996, 'train_samples_per_second': 39.401, 'train_steps_per_second': 4.928, 'train_loss': 0.43016957787319005, 'epoch': 2.0}\n"
          ]
        },
        {
          "name": "stderr",
          "output_type": "stream",
          "text": [
            "[I 2025-10-14 14:55:30,941] Trial 4 finished with value: 0.9204188481675393 and parameters: {'learning_rate': 1.4990047694623679e-05, 'num_train_epochs': 2, 'weight_decay': 0.059551889701481765}. Best is trial 2 with value: 0.9324607329842932.\n"
          ]
        },
        {
          "name": "stdout",
          "output_type": "stream",
          "text": [
            "{'eval_loss': 0.5652364492416382, 'eval_accuracy': 0.9204188481675393, 'eval_runtime': 13.3233, 'eval_samples_per_second': 143.358, 'eval_steps_per_second': 17.938, 'epoch': 2.0}\n"
          ]
        },
        {
          "name": "stderr",
          "output_type": "stream",
          "text": [
            "Some weights of BertForSequenceClassification were not initialized from the model checkpoint at indobenchmark/indobert-base-p1 and are newly initialized: ['classifier.bias', 'classifier.weight']\n",
            "You should probably TRAIN this model on a down-stream task to be able to use it for predictions and inference.\n",
            "Some weights of BertForSequenceClassification were not initialized from the model checkpoint at indobenchmark/indobert-base-p1 and are newly initialized: ['classifier.bias', 'classifier.weight']\n",
            "You should probably TRAIN this model on a down-stream task to be able to use it for predictions and inference.\n"
          ]
        },
        {
          "name": "stdout",
          "output_type": "stream",
          "text": [
            "{'loss': 0.8018, 'grad_norm': 24.830684661865234, 'learning_rate': 3.3885475632647334e-05, 'epoch': 0.5235602094240838}\n",
            "{'eval_loss': 0.5755475759506226, 'eval_accuracy': 0.7942408376963351, 'eval_runtime': 13.3427, 'eval_samples_per_second': 143.15, 'eval_steps_per_second': 17.912, 'epoch': 1.0}\n",
            "{'loss': 0.6337, 'grad_norm': 0.06474548578262329, 'learning_rate': 2.187786555729392e-05, 'epoch': 1.0471204188481675}\n",
            "{'loss': 0.3608, 'grad_norm': 136.00820922851562, 'learning_rate': 9.870255481940506e-06, 'epoch': 1.5706806282722514}\n",
            "{'eval_loss': 0.6823663115501404, 'eval_accuracy': 0.9162303664921466, 'eval_runtime': 13.3075, 'eval_samples_per_second': 143.529, 'eval_steps_per_second': 17.96, 'epoch': 2.0}\n",
            "{'train_runtime': 387.763, 'train_samples_per_second': 39.385, 'train_steps_per_second': 4.926, 'train_loss': 0.5310895070979732, 'epoch': 2.0}\n"
          ]
        },
        {
          "name": "stderr",
          "output_type": "stream",
          "text": [
            "[I 2025-10-14 15:02:14,070] Trial 5 finished with value: 0.9162303664921466 and parameters: {'learning_rate': 4.5869070487850045e-05, 'num_train_epochs': 2, 'weight_decay': 0.09333853994814097}. Best is trial 2 with value: 0.9324607329842932.\n"
          ]
        },
        {
          "name": "stdout",
          "output_type": "stream",
          "text": [
            "{'eval_loss': 0.6823663115501404, 'eval_accuracy': 0.9162303664921466, 'eval_runtime': 13.2819, 'eval_samples_per_second': 143.805, 'eval_steps_per_second': 17.994, 'epoch': 2.0}\n"
          ]
        },
        {
          "name": "stderr",
          "output_type": "stream",
          "text": [
            "Some weights of BertForSequenceClassification were not initialized from the model checkpoint at indobenchmark/indobert-base-p1 and are newly initialized: ['classifier.bias', 'classifier.weight']\n",
            "You should probably TRAIN this model on a down-stream task to be able to use it for predictions and inference.\n",
            "Some weights of BertForSequenceClassification were not initialized from the model checkpoint at indobenchmark/indobert-base-p1 and are newly initialized: ['classifier.bias', 'classifier.weight']\n",
            "You should probably TRAIN this model on a down-stream task to be able to use it for predictions and inference.\n"
          ]
        },
        {
          "name": "stdout",
          "output_type": "stream",
          "text": [
            "{'loss': 0.8137, 'grad_norm': 40.68885803222656, 'learning_rate': 3.761864800707281e-05, 'epoch': 0.5235602094240838}\n",
            "{'eval_loss': 0.627232551574707, 'eval_accuracy': 0.8109947643979057, 'eval_runtime': 13.3301, 'eval_samples_per_second': 143.285, 'eval_steps_per_second': 17.929, 'epoch': 1.0}\n",
            "{'loss': 0.6637, 'grad_norm': 0.33721742033958435, 'learning_rate': 2.9668806923583204e-05, 'epoch': 1.0471204188481675}\n",
            "{'loss': 0.4552, 'grad_norm': 49.74980926513672, 'learning_rate': 2.17189658400936e-05, 'epoch': 1.5706806282722514}\n",
            "{'eval_loss': 0.790436327457428, 'eval_accuracy': 0.9130890052356021, 'eval_runtime': 13.3099, 'eval_samples_per_second': 143.502, 'eval_steps_per_second': 17.957, 'epoch': 2.0}\n",
            "{'loss': 0.3733, 'grad_norm': 69.62350463867188, 'learning_rate': 1.3769124756603997e-05, 'epoch': 2.094240837696335}\n",
            "{'loss': 0.1522, 'grad_norm': 4.486546039581299, 'learning_rate': 5.819283673114392e-06, 'epoch': 2.6178010471204187}\n",
            "{'eval_loss': 0.8490816950798035, 'eval_accuracy': 0.9256544502617801, 'eval_runtime': 13.3203, 'eval_samples_per_second': 143.39, 'eval_steps_per_second': 17.943, 'epoch': 3.0}\n",
            "{'train_runtime': 581.3917, 'train_samples_per_second': 39.402, 'train_steps_per_second': 4.928, 'train_loss': 0.44859762274990117, 'epoch': 3.0}\n"
          ]
        },
        {
          "name": "stderr",
          "output_type": "stream",
          "text": [
            "[I 2025-10-14 15:12:11,066] Trial 6 finished with value: 0.9256544502617801 and parameters: {'learning_rate': 4.5552589408395436e-05, 'num_train_epochs': 3, 'weight_decay': 0.06373817339678987}. Best is trial 2 with value: 0.9324607329842932.\n"
          ]
        },
        {
          "name": "stdout",
          "output_type": "stream",
          "text": [
            "{'eval_loss': 0.8490816950798035, 'eval_accuracy': 0.9256544502617801, 'eval_runtime': 13.2918, 'eval_samples_per_second': 143.698, 'eval_steps_per_second': 17.981, 'epoch': 3.0}\n"
          ]
        },
        {
          "name": "stderr",
          "output_type": "stream",
          "text": [
            "Some weights of BertForSequenceClassification were not initialized from the model checkpoint at indobenchmark/indobert-base-p1 and are newly initialized: ['classifier.bias', 'classifier.weight']\n",
            "You should probably TRAIN this model on a down-stream task to be able to use it for predictions and inference.\n",
            "Some weights of BertForSequenceClassification were not initialized from the model checkpoint at indobenchmark/indobert-base-p1 and are newly initialized: ['classifier.bias', 'classifier.weight']\n",
            "You should probably TRAIN this model on a down-stream task to be able to use it for predictions and inference.\n"
          ]
        },
        {
          "name": "stdout",
          "output_type": "stream",
          "text": [
            "{'loss': 0.7767, 'grad_norm': 27.391361236572266, 'learning_rate': 2.821747518487282e-05, 'epoch': 0.5235602094240838}\n",
            "{'eval_loss': 0.5252754092216492, 'eval_accuracy': 0.8712041884816754, 'eval_runtime': 13.2992, 'eval_samples_per_second': 143.618, 'eval_steps_per_second': 17.971, 'epoch': 1.0}\n",
            "{'loss': 0.6265, 'grad_norm': 0.4817362427711487, 'learning_rate': 2.2254357013936044e-05, 'epoch': 1.0471204188481675}\n",
            "{'loss': 0.4298, 'grad_norm': 35.106468200683594, 'learning_rate': 1.629123884299927e-05, 'epoch': 1.5706806282722514}\n",
            "{'eval_loss': 0.8289393186569214, 'eval_accuracy': 0.9130890052356021, 'eval_runtime': 13.3026, 'eval_samples_per_second': 143.581, 'eval_steps_per_second': 17.966, 'epoch': 2.0}\n",
            "{'loss': 0.3545, 'grad_norm': 0.6527928113937378, 'learning_rate': 1.0328120672062495e-05, 'epoch': 2.094240837696335}\n",
            "{'loss': 0.1313, 'grad_norm': 66.60256958007812, 'learning_rate': 4.36500250112572e-06, 'epoch': 2.6178010471204187}\n",
            "{'eval_loss': 0.8865073323249817, 'eval_accuracy': 0.9225130890052357, 'eval_runtime': 13.2761, 'eval_samples_per_second': 143.868, 'eval_steps_per_second': 18.002, 'epoch': 3.0}\n",
            "{'train_runtime': 580.3829, 'train_samples_per_second': 39.47, 'train_steps_per_second': 4.936, 'train_loss': 0.42214342553370077, 'epoch': 3.0}\n"
          ]
        },
        {
          "name": "stderr",
          "output_type": "stream",
          "text": [
            "[I 2025-10-14 15:22:06,965] Trial 7 finished with value: 0.9225130890052357 and parameters: {'learning_rate': 3.416866711946772e-05, 'num_train_epochs': 3, 'weight_decay': 0.07712146603708225}. Best is trial 2 with value: 0.9324607329842932.\n"
          ]
        },
        {
          "name": "stdout",
          "output_type": "stream",
          "text": [
            "{'eval_loss': 0.8865073323249817, 'eval_accuracy': 0.9225130890052357, 'eval_runtime': 13.2609, 'eval_samples_per_second': 144.032, 'eval_steps_per_second': 18.023, 'epoch': 3.0}\n"
          ]
        },
        {
          "name": "stderr",
          "output_type": "stream",
          "text": [
            "Some weights of BertForSequenceClassification were not initialized from the model checkpoint at indobenchmark/indobert-base-p1 and are newly initialized: ['classifier.bias', 'classifier.weight']\n",
            "You should probably TRAIN this model on a down-stream task to be able to use it for predictions and inference.\n",
            "Some weights of BertForSequenceClassification were not initialized from the model checkpoint at indobenchmark/indobert-base-p1 and are newly initialized: ['classifier.bias', 'classifier.weight']\n",
            "You should probably TRAIN this model on a down-stream task to be able to use it for predictions and inference.\n"
          ]
        },
        {
          "name": "stdout",
          "output_type": "stream",
          "text": [
            "{'loss': 0.757, 'grad_norm': 39.84821701049805, 'learning_rate': 2.3332628479285317e-05, 'epoch': 0.5235602094240838}\n",
            "{'eval_loss': 0.48929962515830994, 'eval_accuracy': 0.8869109947643979, 'eval_runtime': 13.3187, 'eval_samples_per_second': 143.407, 'eval_steps_per_second': 17.945, 'epoch': 1.0}\n",
            "{'loss': 0.5748, 'grad_norm': 0.11829917132854462, 'learning_rate': 1.5064510662387614e-05, 'epoch': 1.0471204188481675}\n",
            "{'loss': 0.34, 'grad_norm': 43.38922119140625, 'learning_rate': 6.796392845489911e-06, 'epoch': 1.5706806282722514}\n",
            "{'eval_loss': 0.617939293384552, 'eval_accuracy': 0.9183246073298429, 'eval_runtime': 13.3395, 'eval_samples_per_second': 143.184, 'eval_steps_per_second': 17.917, 'epoch': 2.0}\n",
            "{'train_runtime': 386.8967, 'train_samples_per_second': 39.473, 'train_steps_per_second': 4.937, 'train_loss': 0.49690512612227994, 'epoch': 2.0}\n"
          ]
        },
        {
          "name": "stderr",
          "output_type": "stream",
          "text": [
            "[I 2025-10-14 15:28:49,608] Trial 8 finished with value: 0.9183246073298429 and parameters: {'learning_rate': 3.1584210060549224e-05, 'num_train_epochs': 2, 'weight_decay': 0.026030306169743493}. Best is trial 2 with value: 0.9324607329842932.\n"
          ]
        },
        {
          "name": "stdout",
          "output_type": "stream",
          "text": [
            "{'eval_loss': 0.617939293384552, 'eval_accuracy': 0.9183246073298429, 'eval_runtime': 13.3052, 'eval_samples_per_second': 143.553, 'eval_steps_per_second': 17.963, 'epoch': 2.0}\n"
          ]
        },
        {
          "name": "stderr",
          "output_type": "stream",
          "text": [
            "Some weights of BertForSequenceClassification were not initialized from the model checkpoint at indobenchmark/indobert-base-p1 and are newly initialized: ['classifier.bias', 'classifier.weight']\n",
            "You should probably TRAIN this model on a down-stream task to be able to use it for predictions and inference.\n",
            "Some weights of BertForSequenceClassification were not initialized from the model checkpoint at indobenchmark/indobert-base-p1 and are newly initialized: ['classifier.bias', 'classifier.weight']\n",
            "You should probably TRAIN this model on a down-stream task to be able to use it for predictions and inference.\n"
          ]
        },
        {
          "name": "stdout",
          "output_type": "stream",
          "text": [
            "{'loss': 0.805, 'grad_norm': 36.41098403930664, 'learning_rate': 3.64515125750398e-05, 'epoch': 0.5235602094240838}\n",
            "{'eval_loss': 0.5434932112693787, 'eval_accuracy': 0.8303664921465969, 'eval_runtime': 13.298, 'eval_samples_per_second': 143.631, 'eval_steps_per_second': 17.973, 'epoch': 1.0}\n",
            "{'loss': 0.6267, 'grad_norm': 0.06731930375099182, 'learning_rate': 2.3534605213225552e-05, 'epoch': 1.0471204188481675}\n",
            "{'loss': 0.4067, 'grad_norm': 143.10951232910156, 'learning_rate': 1.0617697851411308e-05, 'epoch': 1.5706806282722514}\n",
            "{'eval_loss': 0.6866212487220764, 'eval_accuracy': 0.9178010471204189, 'eval_runtime': 13.3031, 'eval_samples_per_second': 143.576, 'eval_steps_per_second': 17.966, 'epoch': 2.0}\n",
            "{'train_runtime': 387.1903, 'train_samples_per_second': 39.443, 'train_steps_per_second': 4.933, 'train_loss': 0.5422436938860029, 'epoch': 2.0}\n"
          ]
        },
        {
          "name": "stderr",
          "output_type": "stream",
          "text": [
            "[I 2025-10-14 15:35:32,472] Trial 9 finished with value: 0.9178010471204189 and parameters: {'learning_rate': 4.9342586122130414e-05, 'num_train_epochs': 2, 'weight_decay': 0.04497914825931054}. Best is trial 2 with value: 0.9324607329842932.\n"
          ]
        },
        {
          "name": "stdout",
          "output_type": "stream",
          "text": [
            "{'eval_loss': 0.6866212487220764, 'eval_accuracy': 0.9178010471204189, 'eval_runtime': 13.2781, 'eval_samples_per_second': 143.846, 'eval_steps_per_second': 18.0, 'epoch': 2.0}\n",
            "\n",
            "Melatih model final IndoBERT dengan parameter terbaik...\n"
          ]
        },
        {
          "name": "stderr",
          "output_type": "stream",
          "text": [
            "Some weights of BertForSequenceClassification were not initialized from the model checkpoint at indobenchmark/indobert-base-p1 and are newly initialized: ['classifier.bias', 'classifier.weight']\n",
            "You should probably TRAIN this model on a down-stream task to be able to use it for predictions and inference.\n",
            "Some weights of BertForSequenceClassification were not initialized from the model checkpoint at indobenchmark/indobert-base-p1 and are newly initialized: ['classifier.bias', 'classifier.weight']\n",
            "You should probably TRAIN this model on a down-stream task to be able to use it for predictions and inference.\n"
          ]
        },
        {
          "data": {
            "text/html": [
              "\n",
              "    <div>\n",
              "      \n",
              "      <progress value='2865' max='2865' style='width:300px; height:20px; vertical-align: middle;'></progress>\n",
              "      [2865/2865 12:55, Epoch 3/3]\n",
              "    </div>\n",
              "    <table border=\"1\" class=\"dataframe\">\n",
              "  <thead>\n",
              " <tr style=\"text-align: left;\">\n",
              "      <th>Epoch</th>\n",
              "      <th>Training Loss</th>\n",
              "      <th>Validation Loss</th>\n",
              "      <th>Accuracy</th>\n",
              "    </tr>\n",
              "  </thead>\n",
              "  <tbody>\n",
              "    <tr>\n",
              "      <td>1</td>\n",
              "      <td>0.548400</td>\n",
              "      <td>0.500988</td>\n",
              "      <td>0.859162</td>\n",
              "    </tr>\n",
              "    <tr>\n",
              "      <td>2</td>\n",
              "      <td>0.342500</td>\n",
              "      <td>0.643162</td>\n",
              "      <td>0.927225</td>\n",
              "    </tr>\n",
              "    <tr>\n",
              "      <td>3</td>\n",
              "      <td>0.170300</td>\n",
              "      <td>0.701079</td>\n",
              "      <td>0.932461</td>\n",
              "    </tr>\n",
              "  </tbody>\n",
              "</table><p>"
            ],
            "text/plain": [
              "<IPython.core.display.HTML object>"
            ]
          },
          "metadata": {},
          "output_type": "display_data"
        },
        {
          "data": {
            "text/html": [],
            "text/plain": [
              "<IPython.core.display.HTML object>"
            ]
          },
          "metadata": {},
          "output_type": "display_data"
        },
        {
          "name": "stdout",
          "output_type": "stream",
          "text": [
            "\n",
            "--- HASIL MODEL IndoBERT (OPTIMIZED) ---\n",
            "Parameter Terbaik: {'learning_rate': 1.8113738936114938e-05, 'num_train_epochs': 3, 'weight_decay': 0.09128036493529229}\n",
            "Akurasi IndoBERT: 0.9325\n",
            "Laporan Klasifikasi IndoBERT:\n",
            "              precision    recall  f1-score   support\n",
            "\n",
            "    positive       0.96      0.97      0.96      1461\n",
            "     neutral       0.82      0.78      0.80       206\n",
            "    negative       0.85      0.87      0.86       243\n",
            "\n",
            "    accuracy                           0.93      1910\n",
            "   macro avg       0.88      0.87      0.87      1910\n",
            "weighted avg       0.93      0.93      0.93      1910\n",
            "\n"
          ]
        },
        {
          "data": {
            "image/png": "[encoded data removed]",
            "text/plain": [
              "<Figure size 600x400 with 2 Axes>"
            ]
          },
          "metadata": {},
          "output_type": "display_data"
        }
      ],
      "source": [
        "# --- 5. Skenario 3: IndoBERT (Baseline) ---\n",
        "print(\"\\n\\n--- 5. Skenario 3: IndoBERT (Baseline) ---\")\n",
        "\n",
        "class CustomTrainer(Trainer):\n",
        "    def compute_loss(self, model, inputs, return_outputs=False, **kwargs):\n",
        "        labels = inputs.pop(\"labels\")\n",
        "        outputs = model(**inputs)\n",
        "        logits = outputs.get(\"logits\")\n",
        "        loss_fct = nn.CrossEntropyLoss(weight=class_weights_tensor.to(model.device))\n",
        "        loss = loss_fct(logits.view(-1, self.model.config.num_labels), labels.view(-1))\n",
        "        return (loss, outputs) if return_outputs else loss\n",
        "\n",
        "MODEL_NAME = \"indobenchmark/indobert-base-p1\"\n",
        "tokenizer_bert = AutoTokenizer.from_pretrained(MODEL_NAME)\n",
        "train_df_hf = pd.DataFrame({'text': train_df['text_clean'].astype(str), 'label': y_train})\n",
        "test_df_hf = pd.DataFrame({'text': test_df['text_clean'].astype(str), 'label': y_test})\n",
        "train_dataset_hf = HFDataset.from_pandas(train_df_hf)\n",
        "test_dataset_hf = HFDataset.from_pandas(test_df_hf)\n",
        "\n",
        "def tokenize_function(e):\n",
        "    return tokenizer_bert(e['text'], padding='max_length', truncation=True, max_length=128)\n",
        "\n",
        "train_tokenized = train_dataset_hf.map(tokenize_function, batched=True)\n",
        "test_tokenized = test_dataset_hf.map(tokenize_function, batched=True)\n",
        "\n",
        "def model_init():\n",
        "    return AutoModelForSequenceClassification.from_pretrained(MODEL_NAME, num_labels=3)\n",
        "\n",
        "def compute_metrics(p):\n",
        "    return {\"accuracy\": accuracy_score(p.label_ids, np.argmax(p.predictions, axis=1))}\n",
        "\n",
        "\n",
        "# Baseline IndoBERT\n",
        "print(\"\\n--- HASIL MODEL IndoBERT (BASELINE) ---\")\n",
        "training_args_base = TrainingArguments(\n",
        "    output_dir='./results_base_bert',\n",
        "    num_train_epochs=1,\n",
        "    per_device_train_batch_size=8,\n",
        "    logging_steps=100,\n",
        "    report_to=\"none\" \n",
        ")\n",
        "trainer_base = CustomTrainer(\n",
        "    model_init=model_init,\n",
        "    args=training_args_base,\n",
        "    train_dataset=train_tokenized,\n",
        "    eval_dataset=test_tokenized,\n",
        "    compute_metrics=compute_metrics\n",
        ")\n",
        "trainer_base.train()\n",
        "predictions_base = trainer_base.predict(test_tokenized)\n",
        "y_pred_bert_base = np.argmax(predictions_base.predictions, axis=1)\n",
        "final_results['Baseline IndoBERT'] = classification_report(y_test, y_pred_bert_base, output_dict=True)['weighted avg']\n",
        "print(f\"Akurasi IndoBERT (Baseline): {accuracy_score(y_test, y_pred_bert_base):.4f}\")\n",
        "print(\"Laporan Klasifikasi IndoBERT (Baseline):\")\n",
        "print(classification_report(y_test, y_pred_bert_base, target_names=label_map.keys()))\n",
        "plot_confusion_matrix(y_test, y_pred_bert_base, label_map.keys(), \"Confusion Matrix - Baseline IndoBERT\")\n",
        "\n",
        "\n",
        "print(\"\\n\\n--- 5. Skenario 3: IndoBERT (Optimized) ---\")\n",
        "def objective_indobert(trial):\n",
        "    training_args = TrainingArguments(\n",
        "        output_dir='./results_optuna_bert',\n",
        "        eval_strategy=\"epoch\",\n",
        "        learning_rate=trial.suggest_float(\"learning_rate\", 1e-5, 5e-5, log=True),\n",
        "        per_device_train_batch_size=8,\n",
        "        num_train_epochs=trial.suggest_int(\"num_train_epochs\", 2, 3),\n",
        "        weight_decay=trial.suggest_float(\"weight_decay\", 0.01, 0.1),\n",
        "        logging_steps=500,\n",
        "        disable_tqdm=True,\n",
        "        save_strategy=\"no\",\n",
        "        report_to=\"none\"  \n",
        "    )\n",
        "    trainer = CustomTrainer(\n",
        "        model_init=model_init,\n",
        "        args=training_args,\n",
        "        train_dataset=train_tokenized,\n",
        "        eval_dataset=test_tokenized,\n",
        "        compute_metrics=compute_metrics\n",
        "    )\n",
        "    trainer.train()\n",
        "    return trainer.evaluate()['eval_accuracy']\n",
        "\n",
        "print(\"\\nMemulai tuning hyperparameter untuk IndoBERT dengan Optuna...\")\n",
        "study_bert = optuna.create_study(direction=\"maximize\")\n",
        "study_bert.optimize(objective_indobert, n_trials=10) \n",
        "best_params_bert = study_bert.best_params\n",
        "\n",
        "print(\"\\nMelatih model final IndoBERT dengan parameter terbaik...\")\n",
        "final_training_args = TrainingArguments(\n",
        "    output_dir='./results_final_bert',\n",
        "    eval_strategy=\"epoch\",\n",
        "    save_strategy=\"epoch\",\n",
        "    learning_rate=best_params_bert['learning_rate'],\n",
        "    per_device_train_batch_size=8,\n",
        "    num_train_epochs=best_params_bert['num_train_epochs'],\n",
        "    weight_decay=best_params_bert['weight_decay'],\n",
        "    logging_steps=100,\n",
        "    save_total_limit=1,\n",
        "    load_best_model_at_end=True,\n",
        "    metric_for_best_model=\"accuracy\",\n",
        "    report_to=\"none\" \n",
        ")\n",
        "final_trainer = CustomTrainer(\n",
        "    model_init=model_init,\n",
        "    args=final_training_args,\n",
        "    train_dataset=train_tokenized,\n",
        "    eval_dataset=test_tokenized,\n",
        "    compute_metrics=compute_metrics\n",
        ")\n",
        "final_trainer.train()\n",
        "\n",
        "# Evaluasi IndoBERT\n",
        "predictions = final_trainer.predict(test_tokenized)\n",
        "y_pred_bert = np.argmax(predictions.predictions, axis=1)\n",
        "final_results['Optimized IndoBERT'] = classification_report(y_test, y_pred_bert, output_dict=True)['weighted avg']\n",
        "\n",
        "print(\"\\n--- HASIL MODEL IndoBERT (OPTIMIZED) ---\")\n",
        "print(f\"Parameter Terbaik: {best_params_bert}\")\n",
        "print(f\"Akurasi IndoBERT: {accuracy_score(y_test, y_pred_bert):.4f}\")\n",
        "print(\"Laporan Klasifikasi IndoBERT:\")\n",
        "print(classification_report(y_test, y_pred_bert, target_names=label_map.keys()))\n",
        "plot_confusion_matrix(y_test, y_pred_bert, label_map.keys(), \"Confusion Matrix - Optimized IndoBERT\")"
      ]
    },
    {
      "cell_type": "markdown",
      "metadata": {
        "id": "eyvMaOQ9-MEP"
      },
      "source": [
        "# --- 6. Perbandingan Akhir Semua Model ---"
      ]
    },
    {
      "cell_type": "code",
      "execution_count": 12,
      "metadata": {
        "colab": {
          "base_uri": "https://localhost:8080/",
          "height": 1000
        },
        "id": "geVuwsZW-MEP",
        "outputId": "79e2048a-5af6-4d19-91c6-3e070b9ba328"
      },
      "outputs": [
        {
          "name": "stdout",
          "output_type": "stream",
          "text": [
            "\n",
            "\n",
            "--- 6. RANGKUMAN AKHIR SEMUA MODEL ---\n",
            "\n",
            "=== Tabel Perbandingan Performa Akhir ===\n",
            "\n",
            "                       Accuracy  Precision    Recall  F1-Score\n",
            "Baseline SVM           0.853403   0.857809  0.853403  0.829841\n",
            "Baseline Naive Bayes   0.773822   0.764975  0.773822  0.684149\n",
            "Optimized SVM          0.873298   0.867063  0.873298  0.864420\n",
            "Optimized Naive Bayes  0.809424   0.798214  0.809424  0.771467\n",
            "Baseline BiLSTM        0.761257   0.833859  0.761257  0.782044\n",
            "Optimized BiLSTM       0.817801   0.832042  0.817801  0.822733\n",
            "Baseline IndoBERT      0.879581   0.893279  0.879581  0.884327\n",
            "Optimized IndoBERT     0.932461   0.932057  0.932461  0.932188\n",
            "\n",
            "Plot perbandingan akhir disimpan sebagai 'model_comparison_optimized_final.png'\n"
          ]
        },
        {
          "data": {
            "image/png": "[encoded data removed]",
            "text/plain": [
              "<Figure size 1200x800 with 1 Axes>"
            ]
          },
          "metadata": {},
          "output_type": "display_data"
        }
      ],
      "source": [
        "print(\"\\n\\n--- 6. RANGKUMAN AKHIR SEMUA MODEL ---\")\n",
        "results_df = pd.DataFrame(final_results).T\n",
        "results_df.rename(columns={'precision': 'Precision', 'recall': 'Recall', 'f1-score': 'F1-Score'}, inplace=True)\n",
        "results_df['Accuracy'] = [\n",
        "    accuracy_score(y_test, y_pred_svm_base),\n",
        "    accuracy_score(y_test, y_pred_nb_base),\n",
        "    accuracy_score(y_test, y_pred_svm),\n",
        "    accuracy_score(y_test, y_pred_nb),\n",
        "    accuracy_score(y_test, y_pred_bilstm_base),\n",
        "    accuracy_score(y_test, y_pred_bilstm),\n",
        "    accuracy_score(y_test, y_pred_bert_base),\n",
        "    accuracy_score(y_test, y_pred_bert)\n",
        "]\n",
        "results_df = results_df[['Accuracy', 'Precision', 'Recall', 'F1-Score']]\n",
        "print(\"\\n=== Tabel Perbandingan Performa Akhir ===\\n\")\n",
        "print(results_df)\n",
        "\n",
        "# Plot perbandingan\n",
        "results_df.sort_values('F1-Score').plot(kind='barh', figsize=(12, 8))\n",
        "plt.title('Perbandingan Performa Model Sebelum dan Sesudah Optimisasi Hyperparameter Tanpa Hybrid Labeling')\n",
        "plt.xlabel('Skor'); plt.xlim(0, 1.1); plt.tight_layout()\n",
        "plt.savefig('model_comparison_optimized_final.png')\n",
        "print(\"\\nPlot perbandingan akhir disimpan sebagai 'model_comparison_optimized_final.png'\")\n",
        "plt.show()"
      ]
    }
  ],
  "metadata": {
    "accelerator": "GPU",
    "colab": {
      "gpuType": "T4",
      "provenance": []
    },
    "kernelspec": {
      "display_name": "Python 3",
      "name": "python3"
    },
    "language_info": {
      "codemirror_mode": {
        "name": "ipython",
        "version": 3
      },
      "file_extension": ".py",
      "mimetype": "text/x-python",
      "name": "python",
      "nbconvert_exporter": "python",
      "pygments_lexer": "ipython3",
      "version": "3.12.2"
    },
    "widgets": {
      "application/vnd.jupyter.widget-state+json": {
        "016ece89078947c8a64063fd80867595": {
          "model_module": "@jupyter-widgets/controls",
          "model_module_version": "1.5.0",
          "model_name": "HTMLModel",
          "state": {
            "_dom_classes": [],
            "_model_module": "@jupyter-widgets/controls",
            "_model_module_version": "1.5.0",
            "_model_name": "HTMLModel",
            "_view_count": null,
            "_view_module": "@jupyter-widgets/controls",
            "_view_module_version": "1.5.0",
            "_view_name": "HTMLView",
            "description": "",
            "description_tooltip": null,
            "layout": "IPY_MODEL_19fc2a90c8234a97823ac8427131ed5c",
            "placeholder": "​",
            "style": "IPY_MODEL_5a5114249f3e4d789dd14a7b1da545a9",
            "value": " 229k/? [00:00&lt;00:00, 7.78MB/s]"
          }
        },
        "06e316bee4b54b3390783251cd3a6499": {
          "model_module": "@jupyter-widgets/controls",
          "model_module_version": "1.5.0",
          "model_name": "HBoxModel",
          "state": {
            "_dom_classes": [],
            "_model_module": "@jupyter-widgets/controls",
            "_model_module_version": "1.5.0",
            "_model_name": "HBoxModel",
            "_view_count": null,
            "_view_module": "@jupyter-widgets/controls",
            "_view_module_version": "1.5.0",
            "_view_name": "HBoxView",
            "box_style": "",
            "children": [
              "IPY_MODEL_21f65a8726b540929ddabb92b72df947",
              "IPY_MODEL_ff7c6fee34a246eca4da0972f0269e33",
              "IPY_MODEL_016ece89078947c8a64063fd80867595"
            ],
            "layout": "IPY_MODEL_619f53b32e8d44258661eba4a6b53b6e"
          }
        },
        "0b6517dd9fc34a50953710e8687f21fd": {
          "model_module": "@jupyter-widgets/base",
          "model_module_version": "1.2.0",
          "model_name": "LayoutModel",
          "state": {
            "_model_module": "@jupyter-widgets/base",
            "_model_module_version": "1.2.0",
            "_model_name": "LayoutModel",
            "_view_count": null,
            "_view_module": "@jupyter-widgets/base",
            "_view_module_version": "1.2.0",
            "_view_name": "LayoutView",
            "align_content": null,
            "align_items": null,
            "align_self": null,
            "border": null,
            "bottom": null,
            "display": null,
            "flex": null,
            "flex_flow": null,
            "grid_area": null,
            "grid_auto_columns": null,
            "grid_auto_flow": null,
            "grid_auto_rows": null,
            "grid_column": null,
            "grid_gap": null,
            "grid_row": null,
            "grid_template_areas": null,
            "grid_template_columns": null,
            "grid_template_rows": null,
            "height": null,
            "justify_content": null,
            "justify_items": null,
            "left": null,
            "margin": null,
            "max_height": null,
            "max_width": null,
            "min_height": null,
            "min_width": null,
            "object_fit": null,
            "object_position": null,
            "order": null,
            "overflow": null,
            "overflow_x": null,
            "overflow_y": null,
            "padding": null,
            "right": null,
            "top": null,
            "visibility": null,
            "width": null
          }
        },
        "0d4192a4de244249b1a2f44fc0cfdf09": {
          "model_module": "@jupyter-widgets/controls",
          "model_module_version": "1.5.0",
          "model_name": "HTMLModel",
          "state": {
            "_dom_classes": [],
            "_model_module": "@jupyter-widgets/controls",
            "_model_module_version": "1.5.0",
            "_model_name": "HTMLModel",
            "_view_count": null,
            "_view_module": "@jupyter-widgets/controls",
            "_view_module_version": "1.5.0",
            "_view_name": "HTMLView",
            "description": "",
            "description_tooltip": null,
            "layout": "IPY_MODEL_3bec2062585e4a8bb4197999c72da888",
            "placeholder": "​",
            "style": "IPY_MODEL_9ab45033e7f8482081fc23f6633f8a12",
            "value": "Map: 100%"
          }
        },
        "10e1dc1e4d6448899e651a3ec707d866": {
          "model_module": "@jupyter-widgets/base",
          "model_module_version": "1.2.0",
          "model_name": "LayoutModel",
          "state": {
            "_model_module": "@jupyter-widgets/base",
            "_model_module_version": "1.2.0",
            "_model_name": "LayoutModel",
            "_view_count": null,
            "_view_module": "@jupyter-widgets/base",
            "_view_module_version": "1.2.0",
            "_view_name": "LayoutView",
            "align_content": null,
            "align_items": null,
            "align_self": null,
            "border": null,
            "bottom": null,
            "display": null,
            "flex": null,
            "flex_flow": null,
            "grid_area": null,
            "grid_auto_columns": null,
            "grid_auto_flow": null,
            "grid_auto_rows": null,
            "grid_column": null,
            "grid_gap": null,
            "grid_row": null,
            "grid_template_areas": null,
            "grid_template_columns": null,
            "grid_template_rows": null,
            "height": null,
            "justify_content": null,
            "justify_items": null,
            "left": null,
            "margin": null,
            "max_height": null,
            "max_width": null,
            "min_height": null,
            "min_width": null,
            "object_fit": null,
            "object_position": null,
            "order": null,
            "overflow": null,
            "overflow_x": null,
            "overflow_y": null,
            "padding": null,
            "right": null,
            "top": null,
            "visibility": null,
            "width": null
          }
        },
        "11d7bb87643b4eeba33446f3b07683df": {
          "model_module": "@jupyter-widgets/base",
          "model_module_version": "1.2.0",
          "model_name": "LayoutModel",
          "state": {
            "_model_module": "@jupyter-widgets/base",
            "_model_module_version": "1.2.0",
            "_model_name": "LayoutModel",
            "_view_count": null,
            "_view_module": "@jupyter-widgets/base",
            "_view_module_version": "1.2.0",
            "_view_name": "LayoutView",
            "align_content": null,
            "align_items": null,
            "align_self": null,
            "border": null,
            "bottom": null,
            "display": null,
            "flex": null,
            "flex_flow": null,
            "grid_area": null,
            "grid_auto_columns": null,
            "grid_auto_flow": null,
            "grid_auto_rows": null,
            "grid_column": null,
            "grid_gap": null,
            "grid_row": null,
            "grid_template_areas": null,
            "grid_template_columns": null,
            "grid_template_rows": null,
            "height": null,
            "justify_content": null,
            "justify_items": null,
            "left": null,
            "margin": null,
            "max_height": null,
            "max_width": null,
            "min_height": null,
            "min_width": null,
            "object_fit": null,
            "object_position": null,
            "order": null,
            "overflow": null,
            "overflow_x": null,
            "overflow_y": null,
            "padding": null,
            "right": null,
            "top": null,
            "visibility": null,
            "width": null
          }
        },
        "1532e8148169420883939f0f0653871f": {
          "model_module": "@jupyter-widgets/controls",
          "model_module_version": "1.5.0",
          "model_name": "HBoxModel",
          "state": {
            "_dom_classes": [],
            "_model_module": "@jupyter-widgets/controls",
            "_model_module_version": "1.5.0",
            "_model_name": "HBoxModel",
            "_view_count": null,
            "_view_module": "@jupyter-widgets/controls",
            "_view_module_version": "1.5.0",
            "_view_name": "HBoxView",
            "box_style": "",
            "children": [
              "IPY_MODEL_fd31e53ede4f42b58b6a452f0dc91403",
              "IPY_MODEL_8ac9b4e25956495a9c75455178da6add",
              "IPY_MODEL_3a7195e68c464cf0a13d109fe62a3c23"
            ],
            "layout": "IPY_MODEL_467ef9acd77d469ca39a7c85b54396cb"
          }
        },
        "19fc2a90c8234a97823ac8427131ed5c": {
          "model_module": "@jupyter-widgets/base",
          "model_module_version": "1.2.0",
          "model_name": "LayoutModel",
          "state": {
            "_model_module": "@jupyter-widgets/base",
            "_model_module_version": "1.2.0",
            "_model_name": "LayoutModel",
            "_view_count": null,
            "_view_module": "@jupyter-widgets/base",
            "_view_module_version": "1.2.0",
            "_view_name": "LayoutView",
            "align_content": null,
            "align_items": null,
            "align_self": null,
            "border": null,
            "bottom": null,
            "display": null,
            "flex": null,
            "flex_flow": null,
            "grid_area": null,
            "grid_auto_columns": null,
            "grid_auto_flow": null,
            "grid_auto_rows": null,
            "grid_column": null,
            "grid_gap": null,
            "grid_row": null,
            "grid_template_areas": null,
            "grid_template_columns": null,
            "grid_template_rows": null,
            "height": null,
            "justify_content": null,
            "justify_items": null,
            "left": null,
            "margin": null,
            "max_height": null,
            "max_width": null,
            "min_height": null,
            "min_width": null,
            "object_fit": null,
            "object_position": null,
            "order": null,
            "overflow": null,
            "overflow_x": null,
            "overflow_y": null,
            "padding": null,
            "right": null,
            "top": null,
            "visibility": null,
            "width": null
          }
        },
        "1a9ff74bbe8d4f138a8cfe66854ba969": {
          "model_module": "@jupyter-widgets/controls",
          "model_module_version": "1.5.0",
          "model_name": "HTMLModel",
          "state": {
            "_dom_classes": [],
            "_model_module": "@jupyter-widgets/controls",
            "_model_module_version": "1.5.0",
            "_model_name": "HTMLModel",
            "_view_count": null,
            "_view_module": "@jupyter-widgets/controls",
            "_view_module_version": "1.5.0",
            "_view_name": "HTMLView",
            "description": "",
            "description_tooltip": null,
            "layout": "IPY_MODEL_324685a8285149b1a1fd781ab44ed522",
            "placeholder": "​",
            "style": "IPY_MODEL_c95adf56d96a4e758699a7d815bb7123",
            "value": "tokenizer_config.json: 100%"
          }
        },
        "1c47185a0c5340879ec4e45ae6069862": {
          "model_module": "@jupyter-widgets/controls",
          "model_module_version": "1.5.0",
          "model_name": "DescriptionStyleModel",
          "state": {
            "_model_module": "@jupyter-widgets/controls",
            "_model_module_version": "1.5.0",
            "_model_name": "DescriptionStyleModel",
            "_view_count": null,
            "_view_module": "@jupyter-widgets/base",
            "_view_module_version": "1.2.0",
            "_view_name": "StyleView",
            "description_width": ""
          }
        },
        "1df40054050d4d199a721d6d322704c4": {
          "model_module": "@jupyter-widgets/controls",
          "model_module_version": "1.5.0",
          "model_name": "ProgressStyleModel",
          "state": {
            "_model_module": "@jupyter-widgets/controls",
            "_model_module_version": "1.5.0",
            "_model_name": "ProgressStyleModel",
            "_view_count": null,
            "_view_module": "@jupyter-widgets/base",
            "_view_module_version": "1.2.0",
            "_view_name": "StyleView",
            "bar_color": null,
            "description_width": ""
          }
        },
        "1feb90acc255465f90bf1d305fa2cefe": {
          "model_module": "@jupyter-widgets/base",
          "model_module_version": "1.2.0",
          "model_name": "LayoutModel",
          "state": {
            "_model_module": "@jupyter-widgets/base",
            "_model_module_version": "1.2.0",
            "_model_name": "LayoutModel",
            "_view_count": null,
            "_view_module": "@jupyter-widgets/base",
            "_view_module_version": "1.2.0",
            "_view_name": "LayoutView",
            "align_content": null,
            "align_items": null,
            "align_self": null,
            "border": null,
            "bottom": null,
            "display": null,
            "flex": null,
            "flex_flow": null,
            "grid_area": null,
            "grid_auto_columns": null,
            "grid_auto_flow": null,
            "grid_auto_rows": null,
            "grid_column": null,
            "grid_gap": null,
            "grid_row": null,
            "grid_template_areas": null,
            "grid_template_columns": null,
            "grid_template_rows": null,
            "height": null,
            "justify_content": null,
            "justify_items": null,
            "left": null,
            "margin": null,
            "max_height": null,
            "max_width": null,
            "min_height": null,
            "min_width": null,
            "object_fit": null,
            "object_position": null,
            "order": null,
            "overflow": null,
            "overflow_x": null,
            "overflow_y": null,
            "padding": null,
            "right": null,
            "top": null,
            "visibility": null,
            "width": null
          }
        },
        "21f65a8726b540929ddabb92b72df947": {
          "model_module": "@jupyter-widgets/controls",
          "model_module_version": "1.5.0",
          "model_name": "HTMLModel",
          "state": {
            "_dom_classes": [],
            "_model_module": "@jupyter-widgets/controls",
            "_model_module_version": "1.5.0",
            "_model_name": "HTMLModel",
            "_view_count": null,
            "_view_module": "@jupyter-widgets/controls",
            "_view_module_version": "1.5.0",
            "_view_name": "HTMLView",
            "description": "",
            "description_tooltip": null,
            "layout": "IPY_MODEL_5c690db26f3249cead95faf76b937f53",
            "placeholder": "​",
            "style": "IPY_MODEL_5fc11b6233534d638be3c111b8441547",
            "value": "vocab.txt: "
          }
        },
        "23e101e3763e4e6f91a1a4e1eabe5128": {
          "model_module": "@jupyter-widgets/base",
          "model_module_version": "1.2.0",
          "model_name": "LayoutModel",
          "state": {
            "_model_module": "@jupyter-widgets/base",
            "_model_module_version": "1.2.0",
            "_model_name": "LayoutModel",
            "_view_count": null,
            "_view_module": "@jupyter-widgets/base",
            "_view_module_version": "1.2.0",
            "_view_name": "LayoutView",
            "align_content": null,
            "align_items": null,
            "align_self": null,
            "border": null,
            "bottom": null,
            "display": null,
            "flex": null,
            "flex_flow": null,
            "grid_area": null,
            "grid_auto_columns": null,
            "grid_auto_flow": null,
            "grid_auto_rows": null,
            "grid_column": null,
            "grid_gap": null,
            "grid_row": null,
            "grid_template_areas": null,
            "grid_template_columns": null,
            "grid_template_rows": null,
            "height": null,
            "justify_content": null,
            "justify_items": null,
            "left": null,
            "margin": null,
            "max_height": null,
            "max_width": null,
            "min_height": null,
            "min_width": null,
            "object_fit": null,
            "object_position": null,
            "order": null,
            "overflow": null,
            "overflow_x": null,
            "overflow_y": null,
            "padding": null,
            "right": null,
            "top": null,
            "visibility": null,
            "width": null
          }
        },
        "2673b5ffdd1749f39c73216a32aaaf4d": {
          "model_module": "@jupyter-widgets/controls",
          "model_module_version": "1.5.0",
          "model_name": "DescriptionStyleModel",
          "state": {
            "_model_module": "@jupyter-widgets/controls",
            "_model_module_version": "1.5.0",
            "_model_name": "DescriptionStyleModel",
            "_view_count": null,
            "_view_module": "@jupyter-widgets/base",
            "_view_module_version": "1.2.0",
            "_view_name": "StyleView",
            "description_width": ""
          }
        },
        "300a387774c64823889984d5e24cbaa1": {
          "model_module": "@jupyter-widgets/controls",
          "model_module_version": "1.5.0",
          "model_name": "HTMLModel",
          "state": {
            "_dom_classes": [],
            "_model_module": "@jupyter-widgets/controls",
            "_model_module_version": "1.5.0",
            "_model_name": "HTMLModel",
            "_view_count": null,
            "_view_module": "@jupyter-widgets/controls",
            "_view_module_version": "1.5.0",
            "_view_name": "HTMLView",
            "description": "",
            "description_tooltip": null,
            "layout": "IPY_MODEL_10e1dc1e4d6448899e651a3ec707d866",
            "placeholder": "​",
            "style": "IPY_MODEL_575b174ebf62449f93f38e4b6fb86cb6",
            "value": " 7636/7636 [00:01&lt;00:00, 7485.45 examples/s]"
          }
        },
        "324685a8285149b1a1fd781ab44ed522": {
          "model_module": "@jupyter-widgets/base",
          "model_module_version": "1.2.0",
          "model_name": "LayoutModel",
          "state": {
            "_model_module": "@jupyter-widgets/base",
            "_model_module_version": "1.2.0",
            "_model_name": "LayoutModel",
            "_view_count": null,
            "_view_module": "@jupyter-widgets/base",
            "_view_module_version": "1.2.0",
            "_view_name": "LayoutView",
            "align_content": null,
            "align_items": null,
            "align_self": null,
            "border": null,
            "bottom": null,
            "display": null,
            "flex": null,
            "flex_flow": null,
            "grid_area": null,
            "grid_auto_columns": null,
            "grid_auto_flow": null,
            "grid_auto_rows": null,
            "grid_column": null,
            "grid_gap": null,
            "grid_row": null,
            "grid_template_areas": null,
            "grid_template_columns": null,
            "grid_template_rows": null,
            "height": null,
            "justify_content": null,
            "justify_items": null,
            "left": null,
            "margin": null,
            "max_height": null,
            "max_width": null,
            "min_height": null,
            "min_width": null,
            "object_fit": null,
            "object_position": null,
            "order": null,
            "overflow": null,
            "overflow_x": null,
            "overflow_y": null,
            "padding": null,
            "right": null,
            "top": null,
            "visibility": null,
            "width": null
          }
        },
        "33df0a3e94464ad99197ac9cecf052f8": {
          "model_module": "@jupyter-widgets/base",
          "model_module_version": "1.2.0",
          "model_name": "LayoutModel",
          "state": {
            "_model_module": "@jupyter-widgets/base",
            "_model_module_version": "1.2.0",
            "_model_name": "LayoutModel",
            "_view_count": null,
            "_view_module": "@jupyter-widgets/base",
            "_view_module_version": "1.2.0",
            "_view_name": "LayoutView",
            "align_content": null,
            "align_items": null,
            "align_self": null,
            "border": null,
            "bottom": null,
            "display": null,
            "flex": null,
            "flex_flow": null,
            "grid_area": null,
            "grid_auto_columns": null,
            "grid_auto_flow": null,
            "grid_auto_rows": null,
            "grid_column": null,
            "grid_gap": null,
            "grid_row": null,
            "grid_template_areas": null,
            "grid_template_columns": null,
            "grid_template_rows": null,
            "height": null,
            "justify_content": null,
            "justify_items": null,
            "left": null,
            "margin": null,
            "max_height": null,
            "max_width": null,
            "min_height": null,
            "min_width": null,
            "object_fit": null,
            "object_position": null,
            "order": null,
            "overflow": null,
            "overflow_x": null,
            "overflow_y": null,
            "padding": null,
            "right": null,
            "top": null,
            "visibility": null,
            "width": null
          }
        },
        "38c3805fc8fd46d595b90c84ca0d57b9": {
          "model_module": "@jupyter-widgets/base",
          "model_module_version": "1.2.0",
          "model_name": "LayoutModel",
          "state": {
            "_model_module": "@jupyter-widgets/base",
            "_model_module_version": "1.2.0",
            "_model_name": "LayoutModel",
            "_view_count": null,
            "_view_module": "@jupyter-widgets/base",
            "_view_module_version": "1.2.0",
            "_view_name": "LayoutView",
            "align_content": null,
            "align_items": null,
            "align_self": null,
            "border": null,
            "bottom": null,
            "display": null,
            "flex": null,
            "flex_flow": null,
            "grid_area": null,
            "grid_auto_columns": null,
            "grid_auto_flow": null,
            "grid_auto_rows": null,
            "grid_column": null,
            "grid_gap": null,
            "grid_row": null,
            "grid_template_areas": null,
            "grid_template_columns": null,
            "grid_template_rows": null,
            "height": null,
            "justify_content": null,
            "justify_items": null,
            "left": null,
            "margin": null,
            "max_height": null,
            "max_width": null,
            "min_height": null,
            "min_width": null,
            "object_fit": null,
            "object_position": null,
            "order": null,
            "overflow": null,
            "overflow_x": null,
            "overflow_y": null,
            "padding": null,
            "right": null,
            "top": null,
            "visibility": null,
            "width": null
          }
        },
        "3a7195e68c464cf0a13d109fe62a3c23": {
          "model_module": "@jupyter-widgets/controls",
          "model_module_version": "1.5.0",
          "model_name": "HTMLModel",
          "state": {
            "_dom_classes": [],
            "_model_module": "@jupyter-widgets/controls",
            "_model_module_version": "1.5.0",
            "_model_name": "HTMLModel",
            "_view_count": null,
            "_view_module": "@jupyter-widgets/controls",
            "_view_module_version": "1.5.0",
            "_view_name": "HTMLView",
            "description": "",
            "description_tooltip": null,
            "layout": "IPY_MODEL_b4ae3cd163ef4190b5bae5f6a67bf7f1",
            "placeholder": "​",
            "style": "IPY_MODEL_57c37f7160824f5994d5c267d01e2a4c",
            "value": " 112/112 [00:00&lt;00:00, 12.8kB/s]"
          }
        },
        "3b6a0eacb157428588ad9e7fa9ddbba5": {
          "model_module": "@jupyter-widgets/base",
          "model_module_version": "1.2.0",
          "model_name": "LayoutModel",
          "state": {
            "_model_module": "@jupyter-widgets/base",
            "_model_module_version": "1.2.0",
            "_model_name": "LayoutModel",
            "_view_count": null,
            "_view_module": "@jupyter-widgets/base",
            "_view_module_version": "1.2.0",
            "_view_name": "LayoutView",
            "align_content": null,
            "align_items": null,
            "align_self": null,
            "border": null,
            "bottom": null,
            "display": null,
            "flex": null,
            "flex_flow": null,
            "grid_area": null,
            "grid_auto_columns": null,
            "grid_auto_flow": null,
            "grid_auto_rows": null,
            "grid_column": null,
            "grid_gap": null,
            "grid_row": null,
            "grid_template_areas": null,
            "grid_template_columns": null,
            "grid_template_rows": null,
            "height": null,
            "justify_content": null,
            "justify_items": null,
            "left": null,
            "margin": null,
            "max_height": null,
            "max_width": null,
            "min_height": null,
            "min_width": null,
            "object_fit": null,
            "object_position": null,
            "order": null,
            "overflow": null,
            "overflow_x": null,
            "overflow_y": null,
            "padding": null,
            "right": null,
            "top": null,
            "visibility": null,
            "width": null
          }
        },
        "3bec2062585e4a8bb4197999c72da888": {
          "model_module": "@jupyter-widgets/base",
          "model_module_version": "1.2.0",
          "model_name": "LayoutModel",
          "state": {
            "_model_module": "@jupyter-widgets/base",
            "_model_module_version": "1.2.0",
            "_model_name": "LayoutModel",
            "_view_count": null,
            "_view_module": "@jupyter-widgets/base",
            "_view_module_version": "1.2.0",
            "_view_name": "LayoutView",
            "align_content": null,
            "align_items": null,
            "align_self": null,
            "border": null,
            "bottom": null,
            "display": null,
            "flex": null,
            "flex_flow": null,
            "grid_area": null,
            "grid_auto_columns": null,
            "grid_auto_flow": null,
            "grid_auto_rows": null,
            "grid_column": null,
            "grid_gap": null,
            "grid_row": null,
            "grid_template_areas": null,
            "grid_template_columns": null,
            "grid_template_rows": null,
            "height": null,
            "justify_content": null,
            "justify_items": null,
            "left": null,
            "margin": null,
            "max_height": null,
            "max_width": null,
            "min_height": null,
            "min_width": null,
            "object_fit": null,
            "object_position": null,
            "order": null,
            "overflow": null,
            "overflow_x": null,
            "overflow_y": null,
            "padding": null,
            "right": null,
            "top": null,
            "visibility": null,
            "width": null
          }
        },
        "45179e74b8f745259349399e4a1f6fc7": {
          "model_module": "@jupyter-widgets/base",
          "model_module_version": "1.2.0",
          "model_name": "LayoutModel",
          "state": {
            "_model_module": "@jupyter-widgets/base",
            "_model_module_version": "1.2.0",
            "_model_name": "LayoutModel",
            "_view_count": null,
            "_view_module": "@jupyter-widgets/base",
            "_view_module_version": "1.2.0",
            "_view_name": "LayoutView",
            "align_content": null,
            "align_items": null,
            "align_self": null,
            "border": null,
            "bottom": null,
            "display": null,
            "flex": null,
            "flex_flow": null,
            "grid_area": null,
            "grid_auto_columns": null,
            "grid_auto_flow": null,
            "grid_auto_rows": null,
            "grid_column": null,
            "grid_gap": null,
            "grid_row": null,
            "grid_template_areas": null,
            "grid_template_columns": null,
            "grid_template_rows": null,
            "height": null,
            "justify_content": null,
            "justify_items": null,
            "left": null,
            "margin": null,
            "max_height": null,
            "max_width": null,
            "min_height": null,
            "min_width": null,
            "object_fit": null,
            "object_position": null,
            "order": null,
            "overflow": null,
            "overflow_x": null,
            "overflow_y": null,
            "padding": null,
            "right": null,
            "top": null,
            "visibility": null,
            "width": null
          }
        },
        "467ef9acd77d469ca39a7c85b54396cb": {
          "model_module": "@jupyter-widgets/base",
          "model_module_version": "1.2.0",
          "model_name": "LayoutModel",
          "state": {
            "_model_module": "@jupyter-widgets/base",
            "_model_module_version": "1.2.0",
            "_model_name": "LayoutModel",
            "_view_count": null,
            "_view_module": "@jupyter-widgets/base",
            "_view_module_version": "1.2.0",
            "_view_name": "LayoutView",
            "align_content": null,
            "align_items": null,
            "align_self": null,
            "border": null,
            "bottom": null,
            "display": null,
            "flex": null,
            "flex_flow": null,
            "grid_area": null,
            "grid_auto_columns": null,
            "grid_auto_flow": null,
            "grid_auto_rows": null,
            "grid_column": null,
            "grid_gap": null,
            "grid_row": null,
            "grid_template_areas": null,
            "grid_template_columns": null,
            "grid_template_rows": null,
            "height": null,
            "justify_content": null,
            "justify_items": null,
            "left": null,
            "margin": null,
            "max_height": null,
            "max_width": null,
            "min_height": null,
            "min_width": null,
            "object_fit": null,
            "object_position": null,
            "order": null,
            "overflow": null,
            "overflow_x": null,
            "overflow_y": null,
            "padding": null,
            "right": null,
            "top": null,
            "visibility": null,
            "width": null
          }
        },
        "4fb8050bc65f46d8a619849519aa0d55": {
          "model_module": "@jupyter-widgets/controls",
          "model_module_version": "1.5.0",
          "model_name": "ProgressStyleModel",
          "state": {
            "_model_module": "@jupyter-widgets/controls",
            "_model_module_version": "1.5.0",
            "_model_name": "ProgressStyleModel",
            "_view_count": null,
            "_view_module": "@jupyter-widgets/base",
            "_view_module_version": "1.2.0",
            "_view_name": "StyleView",
            "bar_color": null,
            "description_width": ""
          }
        },
        "51752fd67ef7476685564f78346e085a": {
          "model_module": "@jupyter-widgets/base",
          "model_module_version": "1.2.0",
          "model_name": "LayoutModel",
          "state": {
            "_model_module": "@jupyter-widgets/base",
            "_model_module_version": "1.2.0",
            "_model_name": "LayoutModel",
            "_view_count": null,
            "_view_module": "@jupyter-widgets/base",
            "_view_module_version": "1.2.0",
            "_view_name": "LayoutView",
            "align_content": null,
            "align_items": null,
            "align_self": null,
            "border": null,
            "bottom": null,
            "display": null,
            "flex": null,
            "flex_flow": null,
            "grid_area": null,
            "grid_auto_columns": null,
            "grid_auto_flow": null,
            "grid_auto_rows": null,
            "grid_column": null,
            "grid_gap": null,
            "grid_row": null,
            "grid_template_areas": null,
            "grid_template_columns": null,
            "grid_template_rows": null,
            "height": null,
            "justify_content": null,
            "justify_items": null,
            "left": null,
            "margin": null,
            "max_height": null,
            "max_width": null,
            "min_height": null,
            "min_width": null,
            "object_fit": null,
            "object_position": null,
            "order": null,
            "overflow": null,
            "overflow_x": null,
            "overflow_y": null,
            "padding": null,
            "right": null,
            "top": null,
            "visibility": null,
            "width": "20px"
          }
        },
        "52200d99402e4e1bb5e11211960c0ca1": {
          "model_module": "@jupyter-widgets/controls",
          "model_module_version": "1.5.0",
          "model_name": "HBoxModel",
          "state": {
            "_dom_classes": [],
            "_model_module": "@jupyter-widgets/controls",
            "_model_module_version": "1.5.0",
            "_model_name": "HBoxModel",
            "_view_count": null,
            "_view_module": "@jupyter-widgets/controls",
            "_view_module_version": "1.5.0",
            "_view_name": "HBoxView",
            "box_style": "",
            "children": [
              "IPY_MODEL_1a9ff74bbe8d4f138a8cfe66854ba969",
              "IPY_MODEL_e01f7b7a749a4af9b19ff44171f9920d",
              "IPY_MODEL_cf57c2a2d3b74162a1267da2ebcd8aca"
            ],
            "layout": "IPY_MODEL_f6a03c38a67d4ff382748b0d5e8bd066"
          }
        },
        "55bd6d315822421f88f822f6b7274886": {
          "model_module": "@jupyter-widgets/controls",
          "model_module_version": "1.5.0",
          "model_name": "HBoxModel",
          "state": {
            "_dom_classes": [],
            "_model_module": "@jupyter-widgets/controls",
            "_model_module_version": "1.5.0",
            "_model_name": "HBoxModel",
            "_view_count": null,
            "_view_module": "@jupyter-widgets/controls",
            "_view_module_version": "1.5.0",
            "_view_name": "HBoxView",
            "box_style": "",
            "children": [
              "IPY_MODEL_d99f9364f3484674892f56963878b06e",
              "IPY_MODEL_97b2bfaaba65411aa2442600efd30ee5",
              "IPY_MODEL_84fa54a18f0546159603dd1779762c54"
            ],
            "layout": "IPY_MODEL_0b6517dd9fc34a50953710e8687f21fd"
          }
        },
        "5748671e70884ae3bb8da7e1490293c1": {
          "model_module": "@jupyter-widgets/controls",
          "model_module_version": "1.5.0",
          "model_name": "FloatProgressModel",
          "state": {
            "_dom_classes": [],
            "_model_module": "@jupyter-widgets/controls",
            "_model_module_version": "1.5.0",
            "_model_name": "FloatProgressModel",
            "_view_count": null,
            "_view_module": "@jupyter-widgets/controls",
            "_view_module_version": "1.5.0",
            "_view_name": "ProgressView",
            "bar_style": "success",
            "description": "",
            "description_tooltip": null,
            "layout": "IPY_MODEL_d4f337aa44e24eda83f15bb7ee3bfaf7",
            "max": 7636,
            "min": 0,
            "orientation": "horizontal",
            "style": "IPY_MODEL_1df40054050d4d199a721d6d322704c4",
            "value": 7636
          }
        },
        "575b174ebf62449f93f38e4b6fb86cb6": {
          "model_module": "@jupyter-widgets/controls",
          "model_module_version": "1.5.0",
          "model_name": "DescriptionStyleModel",
          "state": {
            "_model_module": "@jupyter-widgets/controls",
            "_model_module_version": "1.5.0",
            "_model_name": "DescriptionStyleModel",
            "_view_count": null,
            "_view_module": "@jupyter-widgets/base",
            "_view_module_version": "1.2.0",
            "_view_name": "StyleView",
            "description_width": ""
          }
        },
        "57c37f7160824f5994d5c267d01e2a4c": {
          "model_module": "@jupyter-widgets/controls",
          "model_module_version": "1.5.0",
          "model_name": "DescriptionStyleModel",
          "state": {
            "_model_module": "@jupyter-widgets/controls",
            "_model_module_version": "1.5.0",
            "_model_name": "DescriptionStyleModel",
            "_view_count": null,
            "_view_module": "@jupyter-widgets/base",
            "_view_module_version": "1.2.0",
            "_view_name": "StyleView",
            "description_width": ""
          }
        },
        "5928199ed43b4bba81ea0daee41ed478": {
          "model_module": "@jupyter-widgets/controls",
          "model_module_version": "1.5.0",
          "model_name": "ProgressStyleModel",
          "state": {
            "_model_module": "@jupyter-widgets/controls",
            "_model_module_version": "1.5.0",
            "_model_name": "ProgressStyleModel",
            "_view_count": null,
            "_view_module": "@jupyter-widgets/base",
            "_view_module_version": "1.2.0",
            "_view_name": "StyleView",
            "bar_color": null,
            "description_width": ""
          }
        },
        "596ea5624e9a418ebe8e8ea862f78346": {
          "model_module": "@jupyter-widgets/controls",
          "model_module_version": "1.5.0",
          "model_name": "DescriptionStyleModel",
          "state": {
            "_model_module": "@jupyter-widgets/controls",
            "_model_module_version": "1.5.0",
            "_model_name": "DescriptionStyleModel",
            "_view_count": null,
            "_view_module": "@jupyter-widgets/base",
            "_view_module_version": "1.2.0",
            "_view_name": "StyleView",
            "description_width": ""
          }
        },
        "5a5114249f3e4d789dd14a7b1da545a9": {
          "model_module": "@jupyter-widgets/controls",
          "model_module_version": "1.5.0",
          "model_name": "DescriptionStyleModel",
          "state": {
            "_model_module": "@jupyter-widgets/controls",
            "_model_module_version": "1.5.0",
            "_model_name": "DescriptionStyleModel",
            "_view_count": null,
            "_view_module": "@jupyter-widgets/base",
            "_view_module_version": "1.2.0",
            "_view_name": "StyleView",
            "description_width": ""
          }
        },
        "5c690db26f3249cead95faf76b937f53": {
          "model_module": "@jupyter-widgets/base",
          "model_module_version": "1.2.0",
          "model_name": "LayoutModel",
          "state": {
            "_model_module": "@jupyter-widgets/base",
            "_model_module_version": "1.2.0",
            "_model_name": "LayoutModel",
            "_view_count": null,
            "_view_module": "@jupyter-widgets/base",
            "_view_module_version": "1.2.0",
            "_view_name": "LayoutView",
            "align_content": null,
            "align_items": null,
            "align_self": null,
            "border": null,
            "bottom": null,
            "display": null,
            "flex": null,
            "flex_flow": null,
            "grid_area": null,
            "grid_auto_columns": null,
            "grid_auto_flow": null,
            "grid_auto_rows": null,
            "grid_column": null,
            "grid_gap": null,
            "grid_row": null,
            "grid_template_areas": null,
            "grid_template_columns": null,
            "grid_template_rows": null,
            "height": null,
            "justify_content": null,
            "justify_items": null,
            "left": null,
            "margin": null,
            "max_height": null,
            "max_width": null,
            "min_height": null,
            "min_width": null,
            "object_fit": null,
            "object_position": null,
            "order": null,
            "overflow": null,
            "overflow_x": null,
            "overflow_y": null,
            "padding": null,
            "right": null,
            "top": null,
            "visibility": null,
            "width": null
          }
        },
        "5f39e6024dce4c008977c4c538ba0faa": {
          "model_module": "@jupyter-widgets/controls",
          "model_module_version": "1.5.0",
          "model_name": "HTMLModel",
          "state": {
            "_dom_classes": [],
            "_model_module": "@jupyter-widgets/controls",
            "_model_module_version": "1.5.0",
            "_model_name": "HTMLModel",
            "_view_count": null,
            "_view_module": "@jupyter-widgets/controls",
            "_view_module_version": "1.5.0",
            "_view_name": "HTMLView",
            "description": "",
            "description_tooltip": null,
            "layout": "IPY_MODEL_9030e200fcb640209b56f0b7077f13a1",
            "placeholder": "​",
            "style": "IPY_MODEL_b122c6b66d3e4b23bae92c8a5ffa55b4",
            "value": "pytorch_model.bin: 100%"
          }
        },
        "5fc11b6233534d638be3c111b8441547": {
          "model_module": "@jupyter-widgets/controls",
          "model_module_version": "1.5.0",
          "model_name": "DescriptionStyleModel",
          "state": {
            "_model_module": "@jupyter-widgets/controls",
            "_model_module_version": "1.5.0",
            "_model_name": "DescriptionStyleModel",
            "_view_count": null,
            "_view_module": "@jupyter-widgets/base",
            "_view_module_version": "1.2.0",
            "_view_name": "StyleView",
            "description_width": ""
          }
        },
        "609be325823c4fdd9aa75d530a991ca9": {
          "model_module": "@jupyter-widgets/controls",
          "model_module_version": "1.5.0",
          "model_name": "FloatProgressModel",
          "state": {
            "_dom_classes": [],
            "_model_module": "@jupyter-widgets/controls",
            "_model_module_version": "1.5.0",
            "_model_name": "FloatProgressModel",
            "_view_count": null,
            "_view_module": "@jupyter-widgets/controls",
            "_view_module_version": "1.5.0",
            "_view_name": "ProgressView",
            "bar_style": "success",
            "description": "",
            "description_tooltip": null,
            "layout": "IPY_MODEL_51752fd67ef7476685564f78346e085a",
            "max": 1,
            "min": 0,
            "orientation": "horizontal",
            "style": "IPY_MODEL_4fb8050bc65f46d8a619849519aa0d55",
            "value": 1
          }
        },
        "619f53b32e8d44258661eba4a6b53b6e": {
          "model_module": "@jupyter-widgets/base",
          "model_module_version": "1.2.0",
          "model_name": "LayoutModel",
          "state": {
            "_model_module": "@jupyter-widgets/base",
            "_model_module_version": "1.2.0",
            "_model_name": "LayoutModel",
            "_view_count": null,
            "_view_module": "@jupyter-widgets/base",
            "_view_module_version": "1.2.0",
            "_view_name": "LayoutView",
            "align_content": null,
            "align_items": null,
            "align_self": null,
            "border": null,
            "bottom": null,
            "display": null,
            "flex": null,
            "flex_flow": null,
            "grid_area": null,
            "grid_auto_columns": null,
            "grid_auto_flow": null,
            "grid_auto_rows": null,
            "grid_column": null,
            "grid_gap": null,
            "grid_row": null,
            "grid_template_areas": null,
            "grid_template_columns": null,
            "grid_template_rows": null,
            "height": null,
            "justify_content": null,
            "justify_items": null,
            "left": null,
            "margin": null,
            "max_height": null,
            "max_width": null,
            "min_height": null,
            "min_width": null,
            "object_fit": null,
            "object_position": null,
            "order": null,
            "overflow": null,
            "overflow_x": null,
            "overflow_y": null,
            "padding": null,
            "right": null,
            "top": null,
            "visibility": null,
            "width": null
          }
        },
        "652bccfc7b7746f681445ce781a87807": {
          "model_module": "@jupyter-widgets/controls",
          "model_module_version": "1.5.0",
          "model_name": "HTMLModel",
          "state": {
            "_dom_classes": [],
            "_model_module": "@jupyter-widgets/controls",
            "_model_module_version": "1.5.0",
            "_model_name": "HTMLModel",
            "_view_count": null,
            "_view_module": "@jupyter-widgets/controls",
            "_view_module_version": "1.5.0",
            "_view_name": "HTMLView",
            "description": "",
            "description_tooltip": null,
            "layout": "IPY_MODEL_23e101e3763e4e6f91a1a4e1eabe5128",
            "placeholder": "​",
            "style": "IPY_MODEL_2673b5ffdd1749f39c73216a32aaaf4d",
            "value": "Map: 100%"
          }
        },
        "662fbf386dc241409afb24dca0f1af3b": {
          "model_module": "@jupyter-widgets/controls",
          "model_module_version": "1.5.0",
          "model_name": "ProgressStyleModel",
          "state": {
            "_model_module": "@jupyter-widgets/controls",
            "_model_module_version": "1.5.0",
            "_model_name": "ProgressStyleModel",
            "_view_count": null,
            "_view_module": "@jupyter-widgets/base",
            "_view_module_version": "1.2.0",
            "_view_name": "StyleView",
            "bar_color": null,
            "description_width": ""
          }
        },
        "67885985bdd2477b984fe70e701fde01": {
          "model_module": "@jupyter-widgets/controls",
          "model_module_version": "1.5.0",
          "model_name": "DescriptionStyleModel",
          "state": {
            "_model_module": "@jupyter-widgets/controls",
            "_model_module_version": "1.5.0",
            "_model_name": "DescriptionStyleModel",
            "_view_count": null,
            "_view_module": "@jupyter-widgets/base",
            "_view_module_version": "1.2.0",
            "_view_name": "StyleView",
            "description_width": ""
          }
        },
        "6b2f991bb5a24f188b7f158943c537a5": {
          "model_module": "@jupyter-widgets/controls",
          "model_module_version": "1.5.0",
          "model_name": "HTMLModel",
          "state": {
            "_dom_classes": [],
            "_model_module": "@jupyter-widgets/controls",
            "_model_module_version": "1.5.0",
            "_model_name": "HTMLModel",
            "_view_count": null,
            "_view_module": "@jupyter-widgets/controls",
            "_view_module_version": "1.5.0",
            "_view_name": "HTMLView",
            "description": "",
            "description_tooltip": null,
            "layout": "IPY_MODEL_7e2eb1894bb6477f8cb41aa9c97b3cda",
            "placeholder": "​",
            "style": "IPY_MODEL_d68973ecaf274394bc5a51ae3a6a7e3e",
            "value": " 1910/1910 [00:00&lt;00:00, 7400.59 examples/s]"
          }
        },
        "6b993271151b477a8e15c0df1d3cff29": {
          "model_module": "@jupyter-widgets/base",
          "model_module_version": "1.2.0",
          "model_name": "LayoutModel",
          "state": {
            "_model_module": "@jupyter-widgets/base",
            "_model_module_version": "1.2.0",
            "_model_name": "LayoutModel",
            "_view_count": null,
            "_view_module": "@jupyter-widgets/base",
            "_view_module_version": "1.2.0",
            "_view_name": "LayoutView",
            "align_content": null,
            "align_items": null,
            "align_self": null,
            "border": null,
            "bottom": null,
            "display": null,
            "flex": null,
            "flex_flow": null,
            "grid_area": null,
            "grid_auto_columns": null,
            "grid_auto_flow": null,
            "grid_auto_rows": null,
            "grid_column": null,
            "grid_gap": null,
            "grid_row": null,
            "grid_template_areas": null,
            "grid_template_columns": null,
            "grid_template_rows": null,
            "height": null,
            "justify_content": null,
            "justify_items": null,
            "left": null,
            "margin": null,
            "max_height": null,
            "max_width": null,
            "min_height": null,
            "min_width": null,
            "object_fit": null,
            "object_position": null,
            "order": null,
            "overflow": null,
            "overflow_x": null,
            "overflow_y": null,
            "padding": null,
            "right": null,
            "top": null,
            "visibility": null,
            "width": null
          }
        },
        "79e8292558be40628efb0806b2ebee80": {
          "model_module": "@jupyter-widgets/controls",
          "model_module_version": "1.5.0",
          "model_name": "ProgressStyleModel",
          "state": {
            "_model_module": "@jupyter-widgets/controls",
            "_model_module_version": "1.5.0",
            "_model_name": "ProgressStyleModel",
            "_view_count": null,
            "_view_module": "@jupyter-widgets/base",
            "_view_module_version": "1.2.0",
            "_view_name": "StyleView",
            "bar_color": null,
            "description_width": ""
          }
        },
        "7e2eb1894bb6477f8cb41aa9c97b3cda": {
          "model_module": "@jupyter-widgets/base",
          "model_module_version": "1.2.0",
          "model_name": "LayoutModel",
          "state": {
            "_model_module": "@jupyter-widgets/base",
            "_model_module_version": "1.2.0",
            "_model_name": "LayoutModel",
            "_view_count": null,
            "_view_module": "@jupyter-widgets/base",
            "_view_module_version": "1.2.0",
            "_view_name": "LayoutView",
            "align_content": null,
            "align_items": null,
            "align_self": null,
            "border": null,
            "bottom": null,
            "display": null,
            "flex": null,
            "flex_flow": null,
            "grid_area": null,
            "grid_auto_columns": null,
            "grid_auto_flow": null,
            "grid_auto_rows": null,
            "grid_column": null,
            "grid_gap": null,
            "grid_row": null,
            "grid_template_areas": null,
            "grid_template_columns": null,
            "grid_template_rows": null,
            "height": null,
            "justify_content": null,
            "justify_items": null,
            "left": null,
            "margin": null,
            "max_height": null,
            "max_width": null,
            "min_height": null,
            "min_width": null,
            "object_fit": null,
            "object_position": null,
            "order": null,
            "overflow": null,
            "overflow_x": null,
            "overflow_y": null,
            "padding": null,
            "right": null,
            "top": null,
            "visibility": null,
            "width": null
          }
        },
        "7eb506ac91b9425f8d08088042e2eee6": {
          "model_module": "@jupyter-widgets/controls",
          "model_module_version": "1.5.0",
          "model_name": "HBoxModel",
          "state": {
            "_dom_classes": [],
            "_model_module": "@jupyter-widgets/controls",
            "_model_module_version": "1.5.0",
            "_model_name": "HBoxModel",
            "_view_count": null,
            "_view_module": "@jupyter-widgets/controls",
            "_view_module_version": "1.5.0",
            "_view_name": "HBoxView",
            "box_style": "",
            "children": [
              "IPY_MODEL_652bccfc7b7746f681445ce781a87807",
              "IPY_MODEL_5748671e70884ae3bb8da7e1490293c1",
              "IPY_MODEL_300a387774c64823889984d5e24cbaa1"
            ],
            "layout": "IPY_MODEL_ce009088d56943ee98025fdc38e3d54f"
          }
        },
        "8319f28850244f07855f53452c43c409": {
          "model_module": "@jupyter-widgets/controls",
          "model_module_version": "1.5.0",
          "model_name": "HTMLModel",
          "state": {
            "_dom_classes": [],
            "_model_module": "@jupyter-widgets/controls",
            "_model_module_version": "1.5.0",
            "_model_name": "HTMLModel",
            "_view_count": null,
            "_view_module": "@jupyter-widgets/controls",
            "_view_module_version": "1.5.0",
            "_view_name": "HTMLView",
            "description": "",
            "description_tooltip": null,
            "layout": "IPY_MODEL_e9c80dbbda1a47e9aa22b5801eaeb9cf",
            "placeholder": "​",
            "style": "IPY_MODEL_d061a82fa3dd40ee903c0c53a530f504",
            "value": "config.json: "
          }
        },
        "84fa54a18f0546159603dd1779762c54": {
          "model_module": "@jupyter-widgets/controls",
          "model_module_version": "1.5.0",
          "model_name": "HTMLModel",
          "state": {
            "_dom_classes": [],
            "_model_module": "@jupyter-widgets/controls",
            "_model_module_version": "1.5.0",
            "_model_name": "HTMLModel",
            "_view_count": null,
            "_view_module": "@jupyter-widgets/controls",
            "_view_module_version": "1.5.0",
            "_view_name": "HTMLView",
            "description": "",
            "description_tooltip": null,
            "layout": "IPY_MODEL_f5949056f08e429190829add4b066e2d",
            "placeholder": "​",
            "style": "IPY_MODEL_b53caa61dece4e62ac70c33cd263c14f",
            "value": " 498M/498M [00:10&lt;00:00, 82.5MB/s]"
          }
        },
        "8ac9b4e25956495a9c75455178da6add": {
          "model_module": "@jupyter-widgets/controls",
          "model_module_version": "1.5.0",
          "model_name": "FloatProgressModel",
          "state": {
            "_dom_classes": [],
            "_model_module": "@jupyter-widgets/controls",
            "_model_module_version": "1.5.0",
            "_model_name": "FloatProgressModel",
            "_view_count": null,
            "_view_module": "@jupyter-widgets/controls",
            "_view_module_version": "1.5.0",
            "_view_name": "ProgressView",
            "bar_style": "success",
            "description": "",
            "description_tooltip": null,
            "layout": "IPY_MODEL_e1194351a23648a8b517b8c2a03321fe",
            "max": 112,
            "min": 0,
            "orientation": "horizontal",
            "style": "IPY_MODEL_c58bb75aebfc483392c36827dff126d8",
            "value": 112
          }
        },
        "9030e200fcb640209b56f0b7077f13a1": {
          "model_module": "@jupyter-widgets/base",
          "model_module_version": "1.2.0",
          "model_name": "LayoutModel",
          "state": {
            "_model_module": "@jupyter-widgets/base",
            "_model_module_version": "1.2.0",
            "_model_name": "LayoutModel",
            "_view_count": null,
            "_view_module": "@jupyter-widgets/base",
            "_view_module_version": "1.2.0",
            "_view_name": "LayoutView",
            "align_content": null,
            "align_items": null,
            "align_self": null,
            "border": null,
            "bottom": null,
            "display": null,
            "flex": null,
            "flex_flow": null,
            "grid_area": null,
            "grid_auto_columns": null,
            "grid_auto_flow": null,
            "grid_auto_rows": null,
            "grid_column": null,
            "grid_gap": null,
            "grid_row": null,
            "grid_template_areas": null,
            "grid_template_columns": null,
            "grid_template_rows": null,
            "height": null,
            "justify_content": null,
            "justify_items": null,
            "left": null,
            "margin": null,
            "max_height": null,
            "max_width": null,
            "min_height": null,
            "min_width": null,
            "object_fit": null,
            "object_position": null,
            "order": null,
            "overflow": null,
            "overflow_x": null,
            "overflow_y": null,
            "padding": null,
            "right": null,
            "top": null,
            "visibility": null,
            "width": null
          }
        },
        "903897f94124434580f7c2647ba0a7af": {
          "model_module": "@jupyter-widgets/controls",
          "model_module_version": "1.5.0",
          "model_name": "HTMLModel",
          "state": {
            "_dom_classes": [],
            "_model_module": "@jupyter-widgets/controls",
            "_model_module_version": "1.5.0",
            "_model_name": "HTMLModel",
            "_view_count": null,
            "_view_module": "@jupyter-widgets/controls",
            "_view_module_version": "1.5.0",
            "_view_name": "HTMLView",
            "description": "",
            "description_tooltip": null,
            "layout": "IPY_MODEL_6b993271151b477a8e15c0df1d3cff29",
            "placeholder": "​",
            "style": "IPY_MODEL_67885985bdd2477b984fe70e701fde01",
            "value": " 498M/498M [00:10&lt;00:00, 52.0MB/s]"
          }
        },
        "97b2bfaaba65411aa2442600efd30ee5": {
          "model_module": "@jupyter-widgets/controls",
          "model_module_version": "1.5.0",
          "model_name": "FloatProgressModel",
          "state": {
            "_dom_classes": [],
            "_model_module": "@jupyter-widgets/controls",
            "_model_module_version": "1.5.0",
            "_model_name": "FloatProgressModel",
            "_view_count": null,
            "_view_module": "@jupyter-widgets/controls",
            "_view_module_version": "1.5.0",
            "_view_name": "ProgressView",
            "bar_style": "success",
            "description": "",
            "description_tooltip": null,
            "layout": "IPY_MODEL_3b6a0eacb157428588ad9e7fa9ddbba5",
            "max": 497787752,
            "min": 0,
            "orientation": "horizontal",
            "style": "IPY_MODEL_5928199ed43b4bba81ea0daee41ed478",
            "value": 497787752
          }
        },
        "99319fd9907f40fdbbd6a9d1a1fd8390": {
          "model_module": "@jupyter-widgets/controls",
          "model_module_version": "1.5.0",
          "model_name": "HBoxModel",
          "state": {
            "_dom_classes": [],
            "_model_module": "@jupyter-widgets/controls",
            "_model_module_version": "1.5.0",
            "_model_name": "HBoxModel",
            "_view_count": null,
            "_view_module": "@jupyter-widgets/controls",
            "_view_module_version": "1.5.0",
            "_view_name": "HBoxView",
            "box_style": "",
            "children": [
              "IPY_MODEL_5f39e6024dce4c008977c4c538ba0faa",
              "IPY_MODEL_c7870bdca4f744a3b9c62b00741d7a68",
              "IPY_MODEL_903897f94124434580f7c2647ba0a7af"
            ],
            "layout": "IPY_MODEL_e6e5c6ec58db441eba59f3ea75ad4f06"
          }
        },
        "9ab45033e7f8482081fc23f6633f8a12": {
          "model_module": "@jupyter-widgets/controls",
          "model_module_version": "1.5.0",
          "model_name": "DescriptionStyleModel",
          "state": {
            "_model_module": "@jupyter-widgets/controls",
            "_model_module_version": "1.5.0",
            "_model_name": "DescriptionStyleModel",
            "_view_count": null,
            "_view_module": "@jupyter-widgets/base",
            "_view_module_version": "1.2.0",
            "_view_name": "StyleView",
            "description_width": ""
          }
        },
        "9af499813d474163b4b434473fb3ad01": {
          "model_module": "@jupyter-widgets/controls",
          "model_module_version": "1.5.0",
          "model_name": "ProgressStyleModel",
          "state": {
            "_model_module": "@jupyter-widgets/controls",
            "_model_module_version": "1.5.0",
            "_model_name": "ProgressStyleModel",
            "_view_count": null,
            "_view_module": "@jupyter-widgets/base",
            "_view_module_version": "1.2.0",
            "_view_name": "StyleView",
            "bar_color": null,
            "description_width": ""
          }
        },
        "a325080a25b043089d4cf1923df7cf95": {
          "model_module": "@jupyter-widgets/controls",
          "model_module_version": "1.5.0",
          "model_name": "ProgressStyleModel",
          "state": {
            "_model_module": "@jupyter-widgets/controls",
            "_model_module_version": "1.5.0",
            "_model_name": "ProgressStyleModel",
            "_view_count": null,
            "_view_module": "@jupyter-widgets/base",
            "_view_module_version": "1.2.0",
            "_view_name": "StyleView",
            "bar_color": null,
            "description_width": ""
          }
        },
        "a86fb0f579fb4a63823e4af50c57c77c": {
          "model_module": "@jupyter-widgets/base",
          "model_module_version": "1.2.0",
          "model_name": "LayoutModel",
          "state": {
            "_model_module": "@jupyter-widgets/base",
            "_model_module_version": "1.2.0",
            "_model_name": "LayoutModel",
            "_view_count": null,
            "_view_module": "@jupyter-widgets/base",
            "_view_module_version": "1.2.0",
            "_view_name": "LayoutView",
            "align_content": null,
            "align_items": null,
            "align_self": null,
            "border": null,
            "bottom": null,
            "display": null,
            "flex": null,
            "flex_flow": null,
            "grid_area": null,
            "grid_auto_columns": null,
            "grid_auto_flow": null,
            "grid_auto_rows": null,
            "grid_column": null,
            "grid_gap": null,
            "grid_row": null,
            "grid_template_areas": null,
            "grid_template_columns": null,
            "grid_template_rows": null,
            "height": null,
            "justify_content": null,
            "justify_items": null,
            "left": null,
            "margin": null,
            "max_height": null,
            "max_width": null,
            "min_height": null,
            "min_width": null,
            "object_fit": null,
            "object_position": null,
            "order": null,
            "overflow": null,
            "overflow_x": null,
            "overflow_y": null,
            "padding": null,
            "right": null,
            "top": null,
            "visibility": null,
            "width": null
          }
        },
        "b122c6b66d3e4b23bae92c8a5ffa55b4": {
          "model_module": "@jupyter-widgets/controls",
          "model_module_version": "1.5.0",
          "model_name": "DescriptionStyleModel",
          "state": {
            "_model_module": "@jupyter-widgets/controls",
            "_model_module_version": "1.5.0",
            "_model_name": "DescriptionStyleModel",
            "_view_count": null,
            "_view_module": "@jupyter-widgets/base",
            "_view_module_version": "1.2.0",
            "_view_name": "StyleView",
            "description_width": ""
          }
        },
        "b4ae3cd163ef4190b5bae5f6a67bf7f1": {
          "model_module": "@jupyter-widgets/base",
          "model_module_version": "1.2.0",
          "model_name": "LayoutModel",
          "state": {
            "_model_module": "@jupyter-widgets/base",
            "_model_module_version": "1.2.0",
            "_model_name": "LayoutModel",
            "_view_count": null,
            "_view_module": "@jupyter-widgets/base",
            "_view_module_version": "1.2.0",
            "_view_name": "LayoutView",
            "align_content": null,
            "align_items": null,
            "align_self": null,
            "border": null,
            "bottom": null,
            "display": null,
            "flex": null,
            "flex_flow": null,
            "grid_area": null,
            "grid_auto_columns": null,
            "grid_auto_flow": null,
            "grid_auto_rows": null,
            "grid_column": null,
            "grid_gap": null,
            "grid_row": null,
            "grid_template_areas": null,
            "grid_template_columns": null,
            "grid_template_rows": null,
            "height": null,
            "justify_content": null,
            "justify_items": null,
            "left": null,
            "margin": null,
            "max_height": null,
            "max_width": null,
            "min_height": null,
            "min_width": null,
            "object_fit": null,
            "object_position": null,
            "order": null,
            "overflow": null,
            "overflow_x": null,
            "overflow_y": null,
            "padding": null,
            "right": null,
            "top": null,
            "visibility": null,
            "width": null
          }
        },
        "b53caa61dece4e62ac70c33cd263c14f": {
          "model_module": "@jupyter-widgets/controls",
          "model_module_version": "1.5.0",
          "model_name": "DescriptionStyleModel",
          "state": {
            "_model_module": "@jupyter-widgets/controls",
            "_model_module_version": "1.5.0",
            "_model_name": "DescriptionStyleModel",
            "_view_count": null,
            "_view_module": "@jupyter-widgets/base",
            "_view_module_version": "1.2.0",
            "_view_name": "StyleView",
            "description_width": ""
          }
        },
        "b81660c1d59c4d54b00a7ddfc6000ab2": {
          "model_module": "@jupyter-widgets/base",
          "model_module_version": "1.2.0",
          "model_name": "LayoutModel",
          "state": {
            "_model_module": "@jupyter-widgets/base",
            "_model_module_version": "1.2.0",
            "_model_name": "LayoutModel",
            "_view_count": null,
            "_view_module": "@jupyter-widgets/base",
            "_view_module_version": "1.2.0",
            "_view_name": "LayoutView",
            "align_content": null,
            "align_items": null,
            "align_self": null,
            "border": null,
            "bottom": null,
            "display": null,
            "flex": null,
            "flex_flow": null,
            "grid_area": null,
            "grid_auto_columns": null,
            "grid_auto_flow": null,
            "grid_auto_rows": null,
            "grid_column": null,
            "grid_gap": null,
            "grid_row": null,
            "grid_template_areas": null,
            "grid_template_columns": null,
            "grid_template_rows": null,
            "height": null,
            "justify_content": null,
            "justify_items": null,
            "left": null,
            "margin": null,
            "max_height": null,
            "max_width": null,
            "min_height": null,
            "min_width": null,
            "object_fit": null,
            "object_position": null,
            "order": null,
            "overflow": null,
            "overflow_x": null,
            "overflow_y": null,
            "padding": null,
            "right": null,
            "top": null,
            "visibility": null,
            "width": null
          }
        },
        "bae0138775d740ce8c378d1d0421de46": {
          "model_module": "@jupyter-widgets/base",
          "model_module_version": "1.2.0",
          "model_name": "LayoutModel",
          "state": {
            "_model_module": "@jupyter-widgets/base",
            "_model_module_version": "1.2.0",
            "_model_name": "LayoutModel",
            "_view_count": null,
            "_view_module": "@jupyter-widgets/base",
            "_view_module_version": "1.2.0",
            "_view_name": "LayoutView",
            "align_content": null,
            "align_items": null,
            "align_self": null,
            "border": null,
            "bottom": null,
            "display": null,
            "flex": null,
            "flex_flow": null,
            "grid_area": null,
            "grid_auto_columns": null,
            "grid_auto_flow": null,
            "grid_auto_rows": null,
            "grid_column": null,
            "grid_gap": null,
            "grid_row": null,
            "grid_template_areas": null,
            "grid_template_columns": null,
            "grid_template_rows": null,
            "height": null,
            "justify_content": null,
            "justify_items": null,
            "left": null,
            "margin": null,
            "max_height": null,
            "max_width": null,
            "min_height": null,
            "min_width": null,
            "object_fit": null,
            "object_position": null,
            "order": null,
            "overflow": null,
            "overflow_x": null,
            "overflow_y": null,
            "padding": null,
            "right": null,
            "top": null,
            "visibility": null,
            "width": null
          }
        },
        "c121bdeb4cf348d08ed7904e487d4336": {
          "model_module": "@jupyter-widgets/controls",
          "model_module_version": "1.5.0",
          "model_name": "HTMLModel",
          "state": {
            "_dom_classes": [],
            "_model_module": "@jupyter-widgets/controls",
            "_model_module_version": "1.5.0",
            "_model_name": "HTMLModel",
            "_view_count": null,
            "_view_module": "@jupyter-widgets/controls",
            "_view_module_version": "1.5.0",
            "_view_name": "HTMLView",
            "description": "",
            "description_tooltip": null,
            "layout": "IPY_MODEL_c3990a10805045049772d56b44e81908",
            "placeholder": "​",
            "style": "IPY_MODEL_1c47185a0c5340879ec4e45ae6069862",
            "value": " 1.53k/? [00:00&lt;00:00, 153kB/s]"
          }
        },
        "c19dff75fe344451b276bf6d634b22e6": {
          "model_module": "@jupyter-widgets/controls",
          "model_module_version": "1.5.0",
          "model_name": "HBoxModel",
          "state": {
            "_dom_classes": [],
            "_model_module": "@jupyter-widgets/controls",
            "_model_module_version": "1.5.0",
            "_model_name": "HBoxModel",
            "_view_count": null,
            "_view_module": "@jupyter-widgets/controls",
            "_view_module_version": "1.5.0",
            "_view_name": "HBoxView",
            "box_style": "",
            "children": [
              "IPY_MODEL_0d4192a4de244249b1a2f44fc0cfdf09",
              "IPY_MODEL_cd9eb87e1a55423c8a0893209b56c796",
              "IPY_MODEL_6b2f991bb5a24f188b7f158943c537a5"
            ],
            "layout": "IPY_MODEL_a86fb0f579fb4a63823e4af50c57c77c"
          }
        },
        "c3990a10805045049772d56b44e81908": {
          "model_module": "@jupyter-widgets/base",
          "model_module_version": "1.2.0",
          "model_name": "LayoutModel",
          "state": {
            "_model_module": "@jupyter-widgets/base",
            "_model_module_version": "1.2.0",
            "_model_name": "LayoutModel",
            "_view_count": null,
            "_view_module": "@jupyter-widgets/base",
            "_view_module_version": "1.2.0",
            "_view_name": "LayoutView",
            "align_content": null,
            "align_items": null,
            "align_self": null,
            "border": null,
            "bottom": null,
            "display": null,
            "flex": null,
            "flex_flow": null,
            "grid_area": null,
            "grid_auto_columns": null,
            "grid_auto_flow": null,
            "grid_auto_rows": null,
            "grid_column": null,
            "grid_gap": null,
            "grid_row": null,
            "grid_template_areas": null,
            "grid_template_columns": null,
            "grid_template_rows": null,
            "height": null,
            "justify_content": null,
            "justify_items": null,
            "left": null,
            "margin": null,
            "max_height": null,
            "max_width": null,
            "min_height": null,
            "min_width": null,
            "object_fit": null,
            "object_position": null,
            "order": null,
            "overflow": null,
            "overflow_x": null,
            "overflow_y": null,
            "padding": null,
            "right": null,
            "top": null,
            "visibility": null,
            "width": null
          }
        },
        "c58bb75aebfc483392c36827dff126d8": {
          "model_module": "@jupyter-widgets/controls",
          "model_module_version": "1.5.0",
          "model_name": "ProgressStyleModel",
          "state": {
            "_model_module": "@jupyter-widgets/controls",
            "_model_module_version": "1.5.0",
            "_model_name": "ProgressStyleModel",
            "_view_count": null,
            "_view_module": "@jupyter-widgets/base",
            "_view_module_version": "1.2.0",
            "_view_name": "StyleView",
            "bar_color": null,
            "description_width": ""
          }
        },
        "c7870bdca4f744a3b9c62b00741d7a68": {
          "model_module": "@jupyter-widgets/controls",
          "model_module_version": "1.5.0",
          "model_name": "FloatProgressModel",
          "state": {
            "_dom_classes": [],
            "_model_module": "@jupyter-widgets/controls",
            "_model_module_version": "1.5.0",
            "_model_name": "FloatProgressModel",
            "_view_count": null,
            "_view_module": "@jupyter-widgets/controls",
            "_view_module_version": "1.5.0",
            "_view_name": "ProgressView",
            "bar_style": "success",
            "description": "",
            "description_tooltip": null,
            "layout": "IPY_MODEL_b81660c1d59c4d54b00a7ddfc6000ab2",
            "max": 497810400,
            "min": 0,
            "orientation": "horizontal",
            "style": "IPY_MODEL_79e8292558be40628efb0806b2ebee80",
            "value": 497810400
          }
        },
        "c95adf56d96a4e758699a7d815bb7123": {
          "model_module": "@jupyter-widgets/controls",
          "model_module_version": "1.5.0",
          "model_name": "DescriptionStyleModel",
          "state": {
            "_model_module": "@jupyter-widgets/controls",
            "_model_module_version": "1.5.0",
            "_model_name": "DescriptionStyleModel",
            "_view_count": null,
            "_view_module": "@jupyter-widgets/base",
            "_view_module_version": "1.2.0",
            "_view_name": "StyleView",
            "description_width": ""
          }
        },
        "cac51ed2bf334a2cb60ee66821a085a3": {
          "model_module": "@jupyter-widgets/controls",
          "model_module_version": "1.5.0",
          "model_name": "DescriptionStyleModel",
          "state": {
            "_model_module": "@jupyter-widgets/controls",
            "_model_module_version": "1.5.0",
            "_model_name": "DescriptionStyleModel",
            "_view_count": null,
            "_view_module": "@jupyter-widgets/base",
            "_view_module_version": "1.2.0",
            "_view_name": "StyleView",
            "description_width": ""
          }
        },
        "cd9eb87e1a55423c8a0893209b56c796": {
          "model_module": "@jupyter-widgets/controls",
          "model_module_version": "1.5.0",
          "model_name": "FloatProgressModel",
          "state": {
            "_dom_classes": [],
            "_model_module": "@jupyter-widgets/controls",
            "_model_module_version": "1.5.0",
            "_model_name": "FloatProgressModel",
            "_view_count": null,
            "_view_module": "@jupyter-widgets/controls",
            "_view_module_version": "1.5.0",
            "_view_name": "ProgressView",
            "bar_style": "success",
            "description": "",
            "description_tooltip": null,
            "layout": "IPY_MODEL_38c3805fc8fd46d595b90c84ca0d57b9",
            "max": 1910,
            "min": 0,
            "orientation": "horizontal",
            "style": "IPY_MODEL_662fbf386dc241409afb24dca0f1af3b",
            "value": 1910
          }
        },
        "ce009088d56943ee98025fdc38e3d54f": {
          "model_module": "@jupyter-widgets/base",
          "model_module_version": "1.2.0",
          "model_name": "LayoutModel",
          "state": {
            "_model_module": "@jupyter-widgets/base",
            "_model_module_version": "1.2.0",
            "_model_name": "LayoutModel",
            "_view_count": null,
            "_view_module": "@jupyter-widgets/base",
            "_view_module_version": "1.2.0",
            "_view_name": "LayoutView",
            "align_content": null,
            "align_items": null,
            "align_self": null,
            "border": null,
            "bottom": null,
            "display": null,
            "flex": null,
            "flex_flow": null,
            "grid_area": null,
            "grid_auto_columns": null,
            "grid_auto_flow": null,
            "grid_auto_rows": null,
            "grid_column": null,
            "grid_gap": null,
            "grid_row": null,
            "grid_template_areas": null,
            "grid_template_columns": null,
            "grid_template_rows": null,
            "height": null,
            "justify_content": null,
            "justify_items": null,
            "left": null,
            "margin": null,
            "max_height": null,
            "max_width": null,
            "min_height": null,
            "min_width": null,
            "object_fit": null,
            "object_position": null,
            "order": null,
            "overflow": null,
            "overflow_x": null,
            "overflow_y": null,
            "padding": null,
            "right": null,
            "top": null,
            "visibility": null,
            "width": null
          }
        },
        "cf57c2a2d3b74162a1267da2ebcd8aca": {
          "model_module": "@jupyter-widgets/controls",
          "model_module_version": "1.5.0",
          "model_name": "HTMLModel",
          "state": {
            "_dom_classes": [],
            "_model_module": "@jupyter-widgets/controls",
            "_model_module_version": "1.5.0",
            "_model_name": "HTMLModel",
            "_view_count": null,
            "_view_module": "@jupyter-widgets/controls",
            "_view_module_version": "1.5.0",
            "_view_name": "HTMLView",
            "description": "",
            "description_tooltip": null,
            "layout": "IPY_MODEL_45179e74b8f745259349399e4a1f6fc7",
            "placeholder": "​",
            "style": "IPY_MODEL_f9fd41edf3944b219a4e903c56f35639",
            "value": " 2.00/2.00 [00:00&lt;00:00, 180B/s]"
          }
        },
        "d061a82fa3dd40ee903c0c53a530f504": {
          "model_module": "@jupyter-widgets/controls",
          "model_module_version": "1.5.0",
          "model_name": "DescriptionStyleModel",
          "state": {
            "_model_module": "@jupyter-widgets/controls",
            "_model_module_version": "1.5.0",
            "_model_name": "DescriptionStyleModel",
            "_view_count": null,
            "_view_module": "@jupyter-widgets/base",
            "_view_module_version": "1.2.0",
            "_view_name": "StyleView",
            "description_width": ""
          }
        },
        "d4f337aa44e24eda83f15bb7ee3bfaf7": {
          "model_module": "@jupyter-widgets/base",
          "model_module_version": "1.2.0",
          "model_name": "LayoutModel",
          "state": {
            "_model_module": "@jupyter-widgets/base",
            "_model_module_version": "1.2.0",
            "_model_name": "LayoutModel",
            "_view_count": null,
            "_view_module": "@jupyter-widgets/base",
            "_view_module_version": "1.2.0",
            "_view_name": "LayoutView",
            "align_content": null,
            "align_items": null,
            "align_self": null,
            "border": null,
            "bottom": null,
            "display": null,
            "flex": null,
            "flex_flow": null,
            "grid_area": null,
            "grid_auto_columns": null,
            "grid_auto_flow": null,
            "grid_auto_rows": null,
            "grid_column": null,
            "grid_gap": null,
            "grid_row": null,
            "grid_template_areas": null,
            "grid_template_columns": null,
            "grid_template_rows": null,
            "height": null,
            "justify_content": null,
            "justify_items": null,
            "left": null,
            "margin": null,
            "max_height": null,
            "max_width": null,
            "min_height": null,
            "min_width": null,
            "object_fit": null,
            "object_position": null,
            "order": null,
            "overflow": null,
            "overflow_x": null,
            "overflow_y": null,
            "padding": null,
            "right": null,
            "top": null,
            "visibility": null,
            "width": null
          }
        },
        "d68973ecaf274394bc5a51ae3a6a7e3e": {
          "model_module": "@jupyter-widgets/controls",
          "model_module_version": "1.5.0",
          "model_name": "DescriptionStyleModel",
          "state": {
            "_model_module": "@jupyter-widgets/controls",
            "_model_module_version": "1.5.0",
            "_model_name": "DescriptionStyleModel",
            "_view_count": null,
            "_view_module": "@jupyter-widgets/base",
            "_view_module_version": "1.2.0",
            "_view_name": "StyleView",
            "description_width": ""
          }
        },
        "d99f9364f3484674892f56963878b06e": {
          "model_module": "@jupyter-widgets/controls",
          "model_module_version": "1.5.0",
          "model_name": "HTMLModel",
          "state": {
            "_dom_classes": [],
            "_model_module": "@jupyter-widgets/controls",
            "_model_module_version": "1.5.0",
            "_model_name": "HTMLModel",
            "_view_count": null,
            "_view_module": "@jupyter-widgets/controls",
            "_view_module_version": "1.5.0",
            "_view_name": "HTMLView",
            "description": "",
            "description_tooltip": null,
            "layout": "IPY_MODEL_bae0138775d740ce8c378d1d0421de46",
            "placeholder": "​",
            "style": "IPY_MODEL_cac51ed2bf334a2cb60ee66821a085a3",
            "value": "model.safetensors: 100%"
          }
        },
        "e01f7b7a749a4af9b19ff44171f9920d": {
          "model_module": "@jupyter-widgets/controls",
          "model_module_version": "1.5.0",
          "model_name": "FloatProgressModel",
          "state": {
            "_dom_classes": [],
            "_model_module": "@jupyter-widgets/controls",
            "_model_module_version": "1.5.0",
            "_model_name": "FloatProgressModel",
            "_view_count": null,
            "_view_module": "@jupyter-widgets/controls",
            "_view_module_version": "1.5.0",
            "_view_name": "ProgressView",
            "bar_style": "success",
            "description": "",
            "description_tooltip": null,
            "layout": "IPY_MODEL_33df0a3e94464ad99197ac9cecf052f8",
            "max": 2,
            "min": 0,
            "orientation": "horizontal",
            "style": "IPY_MODEL_a325080a25b043089d4cf1923df7cf95",
            "value": 2
          }
        },
        "e1194351a23648a8b517b8c2a03321fe": {
          "model_module": "@jupyter-widgets/base",
          "model_module_version": "1.2.0",
          "model_name": "LayoutModel",
          "state": {
            "_model_module": "@jupyter-widgets/base",
            "_model_module_version": "1.2.0",
            "_model_name": "LayoutModel",
            "_view_count": null,
            "_view_module": "@jupyter-widgets/base",
            "_view_module_version": "1.2.0",
            "_view_name": "LayoutView",
            "align_content": null,
            "align_items": null,
            "align_self": null,
            "border": null,
            "bottom": null,
            "display": null,
            "flex": null,
            "flex_flow": null,
            "grid_area": null,
            "grid_auto_columns": null,
            "grid_auto_flow": null,
            "grid_auto_rows": null,
            "grid_column": null,
            "grid_gap": null,
            "grid_row": null,
            "grid_template_areas": null,
            "grid_template_columns": null,
            "grid_template_rows": null,
            "height": null,
            "justify_content": null,
            "justify_items": null,
            "left": null,
            "margin": null,
            "max_height": null,
            "max_width": null,
            "min_height": null,
            "min_width": null,
            "object_fit": null,
            "object_position": null,
            "order": null,
            "overflow": null,
            "overflow_x": null,
            "overflow_y": null,
            "padding": null,
            "right": null,
            "top": null,
            "visibility": null,
            "width": null
          }
        },
        "e6e5c6ec58db441eba59f3ea75ad4f06": {
          "model_module": "@jupyter-widgets/base",
          "model_module_version": "1.2.0",
          "model_name": "LayoutModel",
          "state": {
            "_model_module": "@jupyter-widgets/base",
            "_model_module_version": "1.2.0",
            "_model_name": "LayoutModel",
            "_view_count": null,
            "_view_module": "@jupyter-widgets/base",
            "_view_module_version": "1.2.0",
            "_view_name": "LayoutView",
            "align_content": null,
            "align_items": null,
            "align_self": null,
            "border": null,
            "bottom": null,
            "display": null,
            "flex": null,
            "flex_flow": null,
            "grid_area": null,
            "grid_auto_columns": null,
            "grid_auto_flow": null,
            "grid_auto_rows": null,
            "grid_column": null,
            "grid_gap": null,
            "grid_row": null,
            "grid_template_areas": null,
            "grid_template_columns": null,
            "grid_template_rows": null,
            "height": null,
            "justify_content": null,
            "justify_items": null,
            "left": null,
            "margin": null,
            "max_height": null,
            "max_width": null,
            "min_height": null,
            "min_width": null,
            "object_fit": null,
            "object_position": null,
            "order": null,
            "overflow": null,
            "overflow_x": null,
            "overflow_y": null,
            "padding": null,
            "right": null,
            "top": null,
            "visibility": null,
            "width": null
          }
        },
        "e9c80dbbda1a47e9aa22b5801eaeb9cf": {
          "model_module": "@jupyter-widgets/base",
          "model_module_version": "1.2.0",
          "model_name": "LayoutModel",
          "state": {
            "_model_module": "@jupyter-widgets/base",
            "_model_module_version": "1.2.0",
            "_model_name": "LayoutModel",
            "_view_count": null,
            "_view_module": "@jupyter-widgets/base",
            "_view_module_version": "1.2.0",
            "_view_name": "LayoutView",
            "align_content": null,
            "align_items": null,
            "align_self": null,
            "border": null,
            "bottom": null,
            "display": null,
            "flex": null,
            "flex_flow": null,
            "grid_area": null,
            "grid_auto_columns": null,
            "grid_auto_flow": null,
            "grid_auto_rows": null,
            "grid_column": null,
            "grid_gap": null,
            "grid_row": null,
            "grid_template_areas": null,
            "grid_template_columns": null,
            "grid_template_rows": null,
            "height": null,
            "justify_content": null,
            "justify_items": null,
            "left": null,
            "margin": null,
            "max_height": null,
            "max_width": null,
            "min_height": null,
            "min_width": null,
            "object_fit": null,
            "object_position": null,
            "order": null,
            "overflow": null,
            "overflow_x": null,
            "overflow_y": null,
            "padding": null,
            "right": null,
            "top": null,
            "visibility": null,
            "width": null
          }
        },
        "eb85d0c94d3f41978788131d31f440ae": {
          "model_module": "@jupyter-widgets/base",
          "model_module_version": "1.2.0",
          "model_name": "LayoutModel",
          "state": {
            "_model_module": "@jupyter-widgets/base",
            "_model_module_version": "1.2.0",
            "_model_name": "LayoutModel",
            "_view_count": null,
            "_view_module": "@jupyter-widgets/base",
            "_view_module_version": "1.2.0",
            "_view_name": "LayoutView",
            "align_content": null,
            "align_items": null,
            "align_self": null,
            "border": null,
            "bottom": null,
            "display": null,
            "flex": null,
            "flex_flow": null,
            "grid_area": null,
            "grid_auto_columns": null,
            "grid_auto_flow": null,
            "grid_auto_rows": null,
            "grid_column": null,
            "grid_gap": null,
            "grid_row": null,
            "grid_template_areas": null,
            "grid_template_columns": null,
            "grid_template_rows": null,
            "height": null,
            "justify_content": null,
            "justify_items": null,
            "left": null,
            "margin": null,
            "max_height": null,
            "max_width": null,
            "min_height": null,
            "min_width": null,
            "object_fit": null,
            "object_position": null,
            "order": null,
            "overflow": null,
            "overflow_x": null,
            "overflow_y": null,
            "padding": null,
            "right": null,
            "top": null,
            "visibility": null,
            "width": "20px"
          }
        },
        "f0122270299945f0a74d1e7cf8539b7d": {
          "model_module": "@jupyter-widgets/controls",
          "model_module_version": "1.5.0",
          "model_name": "HBoxModel",
          "state": {
            "_dom_classes": [],
            "_model_module": "@jupyter-widgets/controls",
            "_model_module_version": "1.5.0",
            "_model_name": "HBoxModel",
            "_view_count": null,
            "_view_module": "@jupyter-widgets/controls",
            "_view_module_version": "1.5.0",
            "_view_name": "HBoxView",
            "box_style": "",
            "children": [
              "IPY_MODEL_8319f28850244f07855f53452c43c409",
              "IPY_MODEL_609be325823c4fdd9aa75d530a991ca9",
              "IPY_MODEL_c121bdeb4cf348d08ed7904e487d4336"
            ],
            "layout": "IPY_MODEL_1feb90acc255465f90bf1d305fa2cefe"
          }
        },
        "f5949056f08e429190829add4b066e2d": {
          "model_module": "@jupyter-widgets/base",
          "model_module_version": "1.2.0",
          "model_name": "LayoutModel",
          "state": {
            "_model_module": "@jupyter-widgets/base",
            "_model_module_version": "1.2.0",
            "_model_name": "LayoutModel",
            "_view_count": null,
            "_view_module": "@jupyter-widgets/base",
            "_view_module_version": "1.2.0",
            "_view_name": "LayoutView",
            "align_content": null,
            "align_items": null,
            "align_self": null,
            "border": null,
            "bottom": null,
            "display": null,
            "flex": null,
            "flex_flow": null,
            "grid_area": null,
            "grid_auto_columns": null,
            "grid_auto_flow": null,
            "grid_auto_rows": null,
            "grid_column": null,
            "grid_gap": null,
            "grid_row": null,
            "grid_template_areas": null,
            "grid_template_columns": null,
            "grid_template_rows": null,
            "height": null,
            "justify_content": null,
            "justify_items": null,
            "left": null,
            "margin": null,
            "max_height": null,
            "max_width": null,
            "min_height": null,
            "min_width": null,
            "object_fit": null,
            "object_position": null,
            "order": null,
            "overflow": null,
            "overflow_x": null,
            "overflow_y": null,
            "padding": null,
            "right": null,
            "top": null,
            "visibility": null,
            "width": null
          }
        },
        "f6a03c38a67d4ff382748b0d5e8bd066": {
          "model_module": "@jupyter-widgets/base",
          "model_module_version": "1.2.0",
          "model_name": "LayoutModel",
          "state": {
            "_model_module": "@jupyter-widgets/base",
            "_model_module_version": "1.2.0",
            "_model_name": "LayoutModel",
            "_view_count": null,
            "_view_module": "@jupyter-widgets/base",
            "_view_module_version": "1.2.0",
            "_view_name": "LayoutView",
            "align_content": null,
            "align_items": null,
            "align_self": null,
            "border": null,
            "bottom": null,
            "display": null,
            "flex": null,
            "flex_flow": null,
            "grid_area": null,
            "grid_auto_columns": null,
            "grid_auto_flow": null,
            "grid_auto_rows": null,
            "grid_column": null,
            "grid_gap": null,
            "grid_row": null,
            "grid_template_areas": null,
            "grid_template_columns": null,
            "grid_template_rows": null,
            "height": null,
            "justify_content": null,
            "justify_items": null,
            "left": null,
            "margin": null,
            "max_height": null,
            "max_width": null,
            "min_height": null,
            "min_width": null,
            "object_fit": null,
            "object_position": null,
            "order": null,
            "overflow": null,
            "overflow_x": null,
            "overflow_y": null,
            "padding": null,
            "right": null,
            "top": null,
            "visibility": null,
            "width": null
          }
        },
        "f9fd41edf3944b219a4e903c56f35639": {
          "model_module": "@jupyter-widgets/controls",
          "model_module_version": "1.5.0",
          "model_name": "DescriptionStyleModel",
          "state": {
            "_model_module": "@jupyter-widgets/controls",
            "_model_module_version": "1.5.0",
            "_model_name": "DescriptionStyleModel",
            "_view_count": null,
            "_view_module": "@jupyter-widgets/base",
            "_view_module_version": "1.2.0",
            "_view_name": "StyleView",
            "description_width": ""
          }
        },
        "fd31e53ede4f42b58b6a452f0dc91403": {
          "model_module": "@jupyter-widgets/controls",
          "model_module_version": "1.5.0",
          "model_name": "HTMLModel",
          "state": {
            "_dom_classes": [],
            "_model_module": "@jupyter-widgets/controls",
            "_model_module_version": "1.5.0",
            "_model_name": "HTMLModel",
            "_view_count": null,
            "_view_module": "@jupyter-widgets/controls",
            "_view_module_version": "1.5.0",
            "_view_name": "HTMLView",
            "description": "",
            "description_tooltip": null,
            "layout": "IPY_MODEL_11d7bb87643b4eeba33446f3b07683df",
            "placeholder": "​",
            "style": "IPY_MODEL_596ea5624e9a418ebe8e8ea862f78346",
            "value": "special_tokens_map.json: 100%"
          }
        },
        "ff7c6fee34a246eca4da0972f0269e33": {
          "model_module": "@jupyter-widgets/controls",
          "model_module_version": "1.5.0",
          "model_name": "FloatProgressModel",
          "state": {
            "_dom_classes": [],
            "_model_module": "@jupyter-widgets/controls",
            "_model_module_version": "1.5.0",
            "_model_name": "FloatProgressModel",
            "_view_count": null,
            "_view_module": "@jupyter-widgets/controls",
            "_view_module_version": "1.5.0",
            "_view_name": "ProgressView",
            "bar_style": "success",
            "description": "",
            "description_tooltip": null,
            "layout": "IPY_MODEL_eb85d0c94d3f41978788131d31f440ae",
            "max": 1,
            "min": 0,
            "orientation": "horizontal",
            "style": "IPY_MODEL_9af499813d474163b4b434473fb3ad01",
            "value": 1
          }
        }
      }
    }
  },
  "nbformat": 4,
  "nbformat_minor": 0
}
