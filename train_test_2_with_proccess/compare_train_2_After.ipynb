{
  "cells": [
    {
      "cell_type": "code",
      "execution_count": 1,
      "metadata": {
        "colab": {
          "base_uri": "https://localhost:8080/"
        },
        "id": "v2NYN_d5-s96",
        "outputId": "2a93e9a9-68a7-4166-8cd6-d302a6bf031e"
      },
      "outputs": [
        {
          "name": "stdout",
          "output_type": "stream",
          "text": [
            "Collecting optuna\n",
            "  Downloading optuna-4.5.0-py3-none-any.whl.metadata (17 kB)\n",
            "Requirement already satisfied: alembic>=1.5.0 in /usr/local/lib/python3.12/dist-packages (from optuna) (1.16.5)\n",
            "Collecting colorlog (from optuna)\n",
            "  Downloading colorlog-6.9.0-py3-none-any.whl.metadata (10 kB)\n",
            "Requirement already satisfied: numpy in /usr/local/lib/python3.12/dist-packages (from optuna) (2.0.2)\n",
            "Requirement already satisfied: packaging>=20.0 in /usr/local/lib/python3.12/dist-packages (from optuna) (25.0)\n",
            "Requirement already satisfied: sqlalchemy>=1.4.2 in /usr/local/lib/python3.12/dist-packages (from optuna) (2.0.43)\n",
            "Requirement already satisfied: tqdm in /usr/local/lib/python3.12/dist-packages (from optuna) (4.67.1)\n",
            "Requirement already satisfied: PyYAML in /usr/local/lib/python3.12/dist-packages (from optuna) (6.0.3)\n",
            "Requirement already satisfied: Mako in /usr/local/lib/python3.12/dist-packages (from alembic>=1.5.0->optuna) (1.3.10)\n",
            "Requirement already satisfied: typing-extensions>=4.12 in /usr/local/lib/python3.12/dist-packages (from alembic>=1.5.0->optuna) (4.15.0)\n",
            "Requirement already satisfied: greenlet>=1 in /usr/local/lib/python3.12/dist-packages (from sqlalchemy>=1.4.2->optuna) (3.2.4)\n",
            "Requirement already satisfied: MarkupSafe>=0.9.2 in /usr/local/lib/python3.12/dist-packages (from Mako->alembic>=1.5.0->optuna) (3.0.3)\n",
            "Downloading optuna-4.5.0-py3-none-any.whl (400 kB)\n",
            "\u001b[2K   \u001b[90m━━━━━━━━━━━━━━━━━━━━━━━━━━━━━━━━━━━━━━━━\u001b[0m \u001b[32m400.9/400.9 kB\u001b[0m \u001b[31m7.1 MB/s\u001b[0m eta \u001b[36m0:00:00\u001b[0m\n",
            "\u001b[?25hDownloading colorlog-6.9.0-py3-none-any.whl (11 kB)\n",
            "Installing collected packages: colorlog, optuna\n",
            "Successfully installed colorlog-6.9.0 optuna-4.5.0\n"
          ]
        }
      ],
      "source": [
        "!pip install optuna"
      ]
    },
    {
      "cell_type": "code",
      "execution_count": 2,
      "metadata": {
        "id": "IxqPsd-_-MEG"
      },
      "outputs": [],
      "source": [
        "import pandas as pd\n",
        "import numpy as np\n",
        "import matplotlib.pyplot as plt\n",
        "import seaborn as sns\n",
        "from sklearn.model_selection import train_test_split, GridSearchCV\n",
        "from sklearn.feature_extraction.text import TfidfVectorizer\n",
        "from sklearn.svm import SVC\n",
        "from sklearn.naive_bayes import MultinomialNB\n",
        "from sklearn.metrics import classification_report, accuracy_score, confusion_matrix\n",
        "from sklearn.utils.class_weight import compute_class_weight\n",
        "import torch\n",
        "import torch.nn as nn\n",
        "from torch.utils.data import Dataset, DataLoader\n",
        "from collections import Counter\n",
        "from transformers import AutoTokenizer, AutoModelForSequenceClassification, Trainer, TrainingArguments\n",
        "from datasets import Dataset as HFDataset\n",
        "import optuna\n",
        "import warnings\n"
      ]
    },
    {
      "cell_type": "code",
      "execution_count": 3,
      "metadata": {
        "colab": {
          "base_uri": "https://localhost:8080/"
        },
        "id": "iLtCIu0D-ebx",
        "outputId": "445279be-105d-49be-c87f-cd5abcfc1474"
      },
      "outputs": [
        {
          "name": "stdout",
          "output_type": "stream",
          "text": [
            "Mounted at /content/drive\n"
          ]
        }
      ],
      "source": [
        "from google.colab import drive\n",
        "drive.mount('/content/drive')"
      ]
    },
    {
      "cell_type": "code",
      "execution_count": 4,
      "metadata": {
        "id": "VYCwDFhU-MEJ"
      },
      "outputs": [],
      "source": [
        "warnings.filterwarnings(\"ignore\", category=UserWarning)\n",
        "warnings.filterwarnings(\"ignore\", category=FutureWarning)"
      ]
    },
    {
      "cell_type": "code",
      "execution_count": 5,
      "metadata": {
        "id": "BrUg67WV-MEK"
      },
      "outputs": [],
      "source": [
        "def plot_confusion_matrix(y_true, y_pred, labels, title):\n",
        "    \"\"\"Fungsi untuk membuat dan menampilkan confusion matrix.\"\"\"\n",
        "    cm = confusion_matrix(y_true, y_pred)\n",
        "    plt.figure(figsize=(6, 4))\n",
        "    sns.heatmap(cm, annot=True, fmt='d', cmap='Blues',\n",
        "                xticklabels=labels, yticklabels=labels)\n",
        "    plt.title(title)\n",
        "    plt.xlabel('Predicted Label')\n",
        "    plt.ylabel('True Label')\n",
        "    plt.savefig(f'{title}.png')\n",
        "    plt.show()\n"
      ]
    },
    {
      "cell_type": "markdown",
      "metadata": {
        "id": "Xyfy8nGe-MEK"
      },
      "source": [
        "# --- 1. Memuat Data dan EDA ---"
      ]
    },
    {
      "cell_type": "code",
      "execution_count": 6,
      "metadata": {
        "colab": {
          "base_uri": "https://localhost:8080/",
          "height": 633
        },
        "id": "rIfvfvOH-MEL",
        "outputId": "46bbf222-f3c5-43f5-a119-ff5acd2da2b2"
      },
      "outputs": [
        {
          "name": "stdout",
          "output_type": "stream",
          "text": [
            "--- 1. Memuat Data dan Exploratory Data Analysis (EDA) ---\n",
            "File CSV berhasil dimuat.\n",
            "\n",
            "Visualisasi EDA disimpan sebagai 'label_distribution.png'\n"
          ]
        },
        {
          "data": {
            "image/png": "[encoded data removed]",
            "text/plain": [
              "<Figure size 800x600 with 1 Axes>"
            ]
          },
          "metadata": {},
          "output_type": "display_data"
        }
      ],
      "source": [
        "print(\"--- 1. Memuat Data dan Exploratory Data Analysis (EDA) ---\")\n",
        "try:\n",
        "    df = pd.read_csv('/content/drive/MyDrive/SKRIPSI CODE ETC/Datasets/merged_train_ready_full_2.csv')\n",
        "    if 'label' in df.columns and 'final_label' not in df.columns:\n",
        "        df.rename(columns={'label': 'final_label'}, inplace=True)\n",
        "    print(\"File CSV berhasil dimuat.\")\n",
        "except FileNotFoundError:\n",
        "    print(\"Error: File tidak ditemukan. Pastikan path file CSV sudah benar.\")\n",
        "    exit()\n",
        "\n",
        "plt.figure(figsize=(8, 6))\n",
        "sns.countplot(x='final_label', data=df, order=df['final_label'].value_counts().index, palette='viridis')\n",
        "plt.title('Distribusi Label Sentimen')\n",
        "plt.xlabel('Sentimen')\n",
        "plt.ylabel('Jumlah')\n",
        "plt.savefig('label_distribution.png')\n",
        "print(\"\\nVisualisasi EDA disimpan sebagai 'label_distribution.png'\")\n",
        "plt.show()"
      ]
    },
    {
      "cell_type": "markdown",
      "metadata": {
        "id": "OVUBUK6L-MEL"
      },
      "source": [
        "# --- 2. Persiapan Data ---"
      ]
    },
    {
      "cell_type": "code",
      "execution_count": 7,
      "metadata": {
        "colab": {
          "base_uri": "https://localhost:8080/"
        },
        "id": "JctRWzY4-MEM",
        "outputId": "b5acf971-c3b2-4da0-95ca-64437cabdff6"
      },
      "outputs": [
        {
          "name": "stdout",
          "output_type": "stream",
          "text": [
            "\n",
            "--- 2. Persiapan Data ---\n",
            "Ukuran data latih: 7636\n",
            "Ukuran data uji: 1910\n"
          ]
        }
      ],
      "source": [
        "print(\"\\n--- 2. Persiapan Data ---\")\n",
        "label_map = {'positive': 2, 'neutral': 1, 'negative': 0}\n",
        "df['final_label_encoded'] = df['final_label'].map(label_map)\n",
        "df.dropna(subset=['final_label_encoded'], inplace=True)\n",
        "df['final_label_encoded'] = df['final_label_encoded'].astype(int)\n",
        "\n",
        "train_df, test_df = train_test_split(\n",
        "    df,\n",
        "    test_size=0.2,\n",
        "    random_state=42,\n",
        "    stratify=df['final_label_encoded']\n",
        ")\n",
        "y_train = train_df['final_label_encoded']\n",
        "y_test = test_df['final_label_encoded']\n",
        "\n",
        "print(f\"Ukuran data latih: {train_df.shape[0]}\")\n",
        "print(f\"Ukuran data uji: {test_df.shape[0]}\")\n",
        "\n",
        "final_results = {}\n"
      ]
    },
    {
      "cell_type": "markdown",
      "metadata": {
        "id": "PotUnmxr-MEN"
      },
      "source": [
        "# --- 3. Skenario 1: SVM & Naive Bayes ---"
      ]
    },
    {
      "cell_type": "code",
      "execution_count": 8,
      "metadata": {
        "colab": {
          "base_uri": "https://localhost:8080/",
          "height": 1000
        },
        "id": "Er5updpp-MEN",
        "outputId": "86b6c9a5-15b3-42ff-d4d3-abacdcdd8603"
      },
      "outputs": [
        {
          "name": "stdout",
          "output_type": "stream",
          "text": [
            "\n",
            "--- 3. Skenario 1: SVM & Naive Bayes (Baseline) ---\n",
            "\n",
            "--- HASIL MODEL SVM (BASELINE) ---\n",
            "Akurasi SVM (Baseline): 0.8524\n",
            "Laporan Klasifikasi SVM (Baseline):\n",
            "              precision    recall  f1-score   support\n",
            "\n",
            "    positive       0.85      0.99      0.91      1445\n",
            "     neutral       0.92      0.36      0.52       217\n",
            "    negative       0.86      0.50      0.64       248\n",
            "\n",
            "    accuracy                           0.85      1910\n",
            "   macro avg       0.88      0.62      0.69      1910\n",
            "weighted avg       0.86      0.85      0.83      1910\n",
            "\n"
          ]
        },
        {
          "data": {
            "image/png": "[encoded data removed]",
            "text/plain": [
              "<Figure size 600x400 with 2 Axes>"
            ]
          },
          "metadata": {},
          "output_type": "display_data"
        },
        {
          "name": "stdout",
          "output_type": "stream",
          "text": [
            "\n",
            "--- HASIL MODEL NAIVE BAYES (BASELINE) ---\n",
            "Akurasi Naive Bayes (Baseline): 0.7644\n",
            "Laporan Klasifikasi Naive Bayes (Baseline):\n",
            "              precision    recall  f1-score   support\n",
            "\n",
            "    positive       0.76      1.00      0.87      1445\n",
            "     neutral       0.67      0.01      0.02       217\n",
            "    negative       0.83      0.06      0.11       248\n",
            "\n",
            "    accuracy                           0.76      1910\n",
            "   macro avg       0.75      0.36      0.33      1910\n",
            "weighted avg       0.76      0.76      0.67      1910\n",
            "\n"
          ]
        },
        {
          "data": {
            "image/png": "[encoded data removed]",
            "text/plain": [
              "<Figure size 600x400 with 2 Axes>"
            ]
          },
          "metadata": {},
          "output_type": "display_data"
        },
        {
          "name": "stdout",
          "output_type": "stream",
          "text": [
            "\n",
            "--- 3. Skenario 1: SVM & Naive Bayes (Optimized) ---\n",
            "\n",
            "Memulai tuning hyperparameter untuk SVM...\n",
            "\n",
            "--- HASIL MODEL SVM (OPTIMIZED) ---\n",
            "Parameter Terbaik: {'C': 10, 'kernel': 'rbf'}\n",
            "Akurasi SVM: 0.8806\n",
            "Laporan Klasifikasi SVM:\n",
            "              precision    recall  f1-score   support\n",
            "\n",
            "    positive       0.89      0.97      0.93      1445\n",
            "     neutral       0.82      0.54      0.65       217\n",
            "    negative       0.85      0.67      0.75       248\n",
            "\n",
            "    accuracy                           0.88      1910\n",
            "   macro avg       0.85      0.73      0.78      1910\n",
            "weighted avg       0.88      0.88      0.87      1910\n",
            "\n"
          ]
        },
        {
          "data": {
            "image/png": "[encoded data removed]",
            "text/plain": [
              "<Figure size 600x400 with 2 Axes>"
            ]
          },
          "metadata": {},
          "output_type": "display_data"
        },
        {
          "name": "stdout",
          "output_type": "stream",
          "text": [
            "\n",
            "Memulai tuning hyperparameter untuk Naive Bayes...\n",
            "\n",
            "--- HASIL MODEL NAIVE BAYES (OPTIMIZED) ---\n",
            "Parameter Terbaik: {'alpha': 0.1}\n",
            "Akurasi Naive Bayes: 0.8073\n",
            "Laporan Klasifikasi Naive Bayes:\n",
            "              precision    recall  f1-score   support\n",
            "\n",
            "    positive       0.81      0.98      0.89      1445\n",
            "     neutral       0.73      0.24      0.36       217\n",
            "    negative       0.76      0.33      0.46       248\n",
            "\n",
            "    accuracy                           0.81      1910\n",
            "   macro avg       0.77      0.51      0.57      1910\n",
            "weighted avg       0.80      0.81      0.77      1910\n",
            "\n"
          ]
        },
        {
          "data": {
            "image/png": "[encoded data removed]",
            "text/plain": [
              "<Figure size 600x400 with 2 Axes>"
            ]
          },
          "metadata": {},
          "output_type": "display_data"
        }
      ],
      "source": [
        "print(\"\\n--- 3. Skenario 1: SVM & Naive Bayes (Baseline) ---\")\n",
        "X_train_classic = train_df['text_lexicon'].astype(str)\n",
        "X_test_classic = test_df['text_lexicon'].astype(str)\n",
        "\n",
        "tfidf_vectorizer = TfidfVectorizer(max_features=5000)\n",
        "X_train_tfidf = tfidf_vectorizer.fit_transform(X_train_classic)\n",
        "X_test_tfidf = tfidf_vectorizer.transform(X_test_classic)\n",
        "\n",
        "# Baseline SVM\n",
        "print(\"\\n--- HASIL MODEL SVM (BASELINE) ---\")\n",
        "svm_base = SVC(random_state=42)\n",
        "svm_base.fit(X_train_tfidf, y_train)\n",
        "y_pred_svm_base = svm_base.predict(X_test_tfidf)\n",
        "final_results['Baseline SVM'] = classification_report(y_test, y_pred_svm_base, output_dict=True)['weighted avg']\n",
        "print(f\"Akurasi SVM (Baseline): {accuracy_score(y_test, y_pred_svm_base):.4f}\")\n",
        "print(\"Laporan Klasifikasi SVM (Baseline):\")\n",
        "print(classification_report(y_test, y_pred_svm_base, target_names=label_map.keys()))\n",
        "plot_confusion_matrix(y_test, y_pred_svm_base, label_map.keys(), \"Confusion Matrix - Baseline SVM\")\n",
        "\n",
        "\n",
        "# Baseline Naive Bayes\n",
        "print(\"\\n--- HASIL MODEL NAIVE BAYES (BASELINE) ---\")\n",
        "nb_base = MultinomialNB()\n",
        "nb_base.fit(X_train_tfidf, y_train)\n",
        "y_pred_nb_base = nb_base.predict(X_test_tfidf)\n",
        "final_results['Baseline Naive Bayes'] = classification_report(y_test, y_pred_nb_base, output_dict=True)['weighted avg']\n",
        "print(f\"Akurasi Naive Bayes (Baseline): {accuracy_score(y_test, y_pred_nb_base):.4f}\")\n",
        "print(\"Laporan Klasifikasi Naive Bayes (Baseline):\")\n",
        "print(classification_report(y_test, y_pred_nb_base, target_names=label_map.keys()))\n",
        "plot_confusion_matrix(y_test, y_pred_nb_base, label_map.keys(), \"Confusion Matrix - Baseline Naive Bayes\")\n",
        "\n",
        "\n",
        "print(\"\\n--- 3. Skenario 1: SVM & Naive Bayes (Optimized) ---\")\n",
        "# Tuning dan Evaluasi SVM\n",
        "print(\"\\nMemulai tuning hyperparameter untuk SVM...\")\n",
        "param_grid_svm = {'C': [0.1, 1, 10], 'kernel': ['linear', 'rbf']}\n",
        "grid_svm = GridSearchCV(SVC(random_state=42, class_weight='balanced'), param_grid_svm, refit=True, verbose=0, cv=3)\n",
        "grid_svm.fit(X_train_tfidf, y_train)\n",
        "y_pred_svm = grid_svm.best_estimator_.predict(X_test_tfidf)\n",
        "final_results['Optimized SVM'] = classification_report(y_test, y_pred_svm, output_dict=True)['weighted avg']\n",
        "\n",
        "print(\"\\n--- HASIL MODEL SVM (OPTIMIZED) ---\")\n",
        "print(f\"Parameter Terbaik: {grid_svm.best_params_}\")\n",
        "print(f\"Akurasi SVM: {accuracy_score(y_test, y_pred_svm):.4f}\")\n",
        "print(\"Laporan Klasifikasi SVM:\")\n",
        "print(classification_report(y_test, y_pred_svm, target_names=label_map.keys()))\n",
        "plot_confusion_matrix(y_test, y_pred_svm, label_map.keys(), \"Confusion Matrix - Optimized SVM\")\n",
        "\n",
        "# Tuning dan Evaluasi Naive Bayes\n",
        "print(\"\\nMemulai tuning hyperparameter untuk Naive Bayes...\")\n",
        "param_grid_nb = {'alpha': [0.01, 0.1, 0.5, 1.0]}\n",
        "grid_nb = GridSearchCV(MultinomialNB(), param_grid_nb, refit=True, verbose=0, cv=3)\n",
        "grid_nb.fit(X_train_tfidf, y_train)\n",
        "y_pred_nb = grid_nb.best_estimator_.predict(X_test_tfidf)\n",
        "final_results['Optimized Naive Bayes'] = classification_report(y_test, y_pred_nb, output_dict=True)['weighted avg']\n",
        "\n",
        "print(\"\\n--- HASIL MODEL NAIVE BAYES (OPTIMIZED) ---\")\n",
        "print(f\"Parameter Terbaik: {grid_nb.best_params_}\")\n",
        "print(f\"Akurasi Naive Bayes: {accuracy_score(y_test, y_pred_nb):.4f}\")\n",
        "print(\"Laporan Klasifikasi Naive Bayes:\")\n",
        "print(classification_report(y_test, y_pred_nb, target_names=label_map.keys()))\n",
        "plot_confusion_matrix(y_test, y_pred_nb, label_map.keys(), \"Confusion Matrix - Optimized Naive Bayes\")"
      ]
    },
    {
      "cell_type": "markdown",
      "metadata": {
        "id": "CpH7cCAS-MEN"
      },
      "source": [
        "# --- Menghitung Class Weight untuk Model Deep Learning ---"
      ]
    },
    {
      "cell_type": "code",
      "execution_count": 9,
      "metadata": {
        "colab": {
          "base_uri": "https://localhost:8080/"
        },
        "id": "7Fov1SjB-MEO",
        "outputId": "f709862b-573d-467a-b2f5-064e71ca2937"
      },
      "outputs": [
        {
          "name": "stdout",
          "output_type": "stream",
          "text": [
            "\n",
            "Menghitung Class Weight untuk Model Deep Learning...\n",
            "Bobot Kelas yang dihitung: tensor([0.4408, 2.9257, 2.5684])\n"
          ]
        }
      ],
      "source": [
        "print(\"\\nMenghitung Class Weight untuk Model Deep Learning...\")\n",
        "class_weights = compute_class_weight(\n",
        "    class_weight='balanced',\n",
        "    classes=np.unique(y_train),\n",
        "    y=y_train\n",
        ")\n",
        "class_weights_tensor = torch.tensor(class_weights, dtype=torch.float)\n",
        "print(f\"Bobot Kelas yang dihitung: {class_weights_tensor}\")"
      ]
    },
    {
      "cell_type": "markdown",
      "metadata": {
        "id": "oGhrb0El-MEO"
      },
      "source": [
        "# --- 4. Skenario 2: BiLSTM ---"
      ]
    },
    {
      "cell_type": "code",
      "execution_count": 10,
      "metadata": {
        "colab": {
          "base_uri": "https://localhost:8080/",
          "height": 1000
        },
        "id": "vxoe-8si-MEO",
        "outputId": "d90e92ce-d7e3-406d-bb9e-4c592d103cf5"
      },
      "outputs": [
        {
          "name": "stdout",
          "output_type": "stream",
          "text": [
            "\n",
            "\n",
            "--- 4. Skenario 2: BiLSTM (Baseline) ---\n",
            "\n",
            "--- HASIL MODEL BiLSTM (BASELINE) ---\n",
            "Akurasi BiLSTM (Baseline): 0.7984\n",
            "Laporan Klasifikasi BiLSTM (Baseline):\n",
            "              precision    recall  f1-score   support\n",
            "\n",
            "    positive       0.92      0.83      0.87      1445\n",
            "     neutral       0.56      0.65      0.60       217\n",
            "    negative       0.53      0.75      0.62       248\n",
            "\n",
            "    accuracy                           0.80      1910\n",
            "   macro avg       0.67      0.74      0.70      1910\n",
            "weighted avg       0.83      0.80      0.81      1910\n",
            "\n"
          ]
        },
        {
          "data": {
            "image/png": "[encoded data removed]",
            "text/plain": [
              "<Figure size 600x400 with 2 Axes>"
            ]
          },
          "metadata": {},
          "output_type": "display_data"
        },
        {
          "name": "stderr",
          "output_type": "stream",
          "text": [
            "[I 2025-10-14 09:56:06,119] A new study created in memory with name: no-name-a435572a-ae2c-4664-b8d9-bc3d032dbe01\n"
          ]
        },
        {
          "name": "stdout",
          "output_type": "stream",
          "text": [
            "\n",
            "\n",
            "--- 4. Skenario 2: BiLSTM (Optimized) ---\n",
            "\n",
            "Memulai tuning hyperparameter untuk BiLSTM dengan Optuna...\n"
          ]
        },
        {
          "name": "stderr",
          "output_type": "stream",
          "text": [
            "[I 2025-10-14 09:56:15,285] Trial 0 finished with value: 0.8230366492146597 and parameters: {'emb_dim': 300, 'hid_dim': 128, 'n_layers': 2, 'dropout': 0.3190714402545459, 'lr': 0.001207821101601563}. Best is trial 0 with value: 0.8230366492146597.\n",
            "[I 2025-10-14 09:56:24,531] Trial 1 finished with value: 0.487434554973822 and parameters: {'emb_dim': 300, 'hid_dim': 128, 'n_layers': 2, 'dropout': 0.5589872935655369, 'lr': 0.00014297711788875355}. Best is trial 0 with value: 0.8230366492146597.\n",
            "[I 2025-10-14 09:56:48,995] Trial 2 finished with value: 0.7471204188481675 and parameters: {'emb_dim': 200, 'hid_dim': 256, 'n_layers': 2, 'dropout': 0.41023057176039135, 'lr': 0.0012062967727642265}. Best is trial 0 with value: 0.8230366492146597.\n",
            "[I 2025-10-14 09:57:18,135] Trial 3 finished with value: 0.8366492146596859 and parameters: {'emb_dim': 200, 'hid_dim': 256, 'n_layers': 2, 'dropout': 0.4963174658881654, 'lr': 0.004638805341154061}. Best is trial 3 with value: 0.8366492146596859.\n",
            "[I 2025-10-14 09:57:43,172] Trial 4 finished with value: 0.7387434554973822 and parameters: {'emb_dim': 300, 'hid_dim': 256, 'n_layers': 2, 'dropout': 0.36946643365617904, 'lr': 0.0003184645811063552}. Best is trial 3 with value: 0.8366492146596859.\n",
            "[I 2025-10-14 09:57:48,676] Trial 5 finished with value: 0.8366492146596859 and parameters: {'emb_dim': 300, 'hid_dim': 128, 'n_layers': 1, 'dropout': 0.3058650568788602, 'lr': 0.006791500520440981}. Best is trial 3 with value: 0.8366492146596859.\n",
            "[I 2025-10-14 09:57:53,193] Trial 6 finished with value: 0.556020942408377 and parameters: {'emb_dim': 200, 'hid_dim': 128, 'n_layers': 1, 'dropout': 0.5809115789513646, 'lr': 0.00011471224970534327}. Best is trial 3 with value: 0.8366492146596859.\n",
            "[I 2025-10-14 09:58:18,701] Trial 7 finished with value: 0.6534031413612565 and parameters: {'emb_dim': 300, 'hid_dim': 256, 'n_layers': 2, 'dropout': 0.5179265731626334, 'lr': 0.0002471678963623449}. Best is trial 3 with value: 0.8366492146596859.\n",
            "[I 2025-10-14 09:58:29,322] Trial 8 finished with value: 0.7717277486910995 and parameters: {'emb_dim': 200, 'hid_dim': 256, 'n_layers': 1, 'dropout': 0.3070992710889729, 'lr': 0.00209234910149147}. Best is trial 3 with value: 0.8366492146596859.\n",
            "[I 2025-10-14 09:58:38,469] Trial 9 finished with value: 0.7492146596858639 and parameters: {'emb_dim': 100, 'hid_dim': 256, 'n_layers': 1, 'dropout': 0.37569278425422076, 'lr': 0.009144402021031079}. Best is trial 3 with value: 0.8366492146596859.\n"
          ]
        },
        {
          "name": "stdout",
          "output_type": "stream",
          "text": [
            "\n",
            "Melatih model final BiLSTM dengan parameter terbaik...\n",
            "\n",
            "--- HASIL MODEL BiLSTM (OPTIMIZED) ---\n",
            "Parameter Terbaik: {'emb_dim': 200, 'hid_dim': 256, 'n_layers': 2, 'dropout': 0.4963174658881654, 'lr': 0.004638805341154061}\n",
            "Akurasi BiLSTM: 0.8660\n",
            "Laporan Klasifikasi BiLSTM:\n",
            "              precision    recall  f1-score   support\n",
            "\n",
            "    positive       0.92      0.92      0.92      1445\n",
            "     neutral       0.70      0.63      0.66       217\n",
            "    negative       0.71      0.75      0.73       248\n",
            "\n",
            "    accuracy                           0.87      1910\n",
            "   macro avg       0.77      0.77      0.77      1910\n",
            "weighted avg       0.87      0.87      0.87      1910\n",
            "\n"
          ]
        },
        {
          "data": {
            "image/png": "[encoded data removed]",
            "text/plain": [
              "<Figure size 600x400 with 2 Axes>"
            ]
          },
          "metadata": {},
          "output_type": "display_data"
        }
      ],
      "source": [
        "print(\"\\n\\n--- 4. Skenario 2: BiLSTM (Baseline) ---\")\n",
        "device = torch.device('cuda' if torch.cuda.is_available() else 'cpu')\n",
        "class_weights_tensor = class_weights_tensor.to(device)\n",
        "\n",
        "X_train_dl = train_df['text_clean'].astype(str)\n",
        "X_test_dl = test_df['text_clean'].astype(str)\n",
        "word_counts = Counter(word for text in X_train_dl for word in text.split())\n",
        "vocab = sorted(word_counts, key=word_counts.get, reverse=True)\n",
        "word_to_idx = {word: i + 2 for i, word in enumerate(vocab)}; word_to_idx['<PAD>'] = 0; word_to_idx['<UNK>'] = 1\n",
        "\n",
        "def text_to_sequence(text, w2i): return [w2i.get(word, 1) for word in text.split()]\n",
        "X_train_seq = [text_to_sequence(text, word_to_idx) for text in X_train_dl]\n",
        "X_test_seq = [text_to_sequence(text, word_to_idx) for text in X_test_dl]\n",
        "\n",
        "def pad_sequences(sequences, max_len=100):\n",
        "    padded = np.zeros((len(sequences), max_len), dtype=np.int64)\n",
        "    for i, seq in enumerate(sequences):\n",
        "        seq_len = len(seq)\n",
        "        if seq_len > 0: padded[i, :min(seq_len, max_len)] = seq[:max_len]\n",
        "    return padded\n",
        "\n",
        "X_train_pad = pad_sequences(X_train_seq); X_test_pad = pad_sequences(X_test_seq)\n",
        "\n",
        "class TorchSentimentDataset(Dataset):\n",
        "    def __init__(self, X, y): self.X = torch.from_numpy(X).long(); self.y = torch.from_numpy(y).long()\n",
        "    def __len__(self): return len(self.y)\n",
        "    def __getitem__(self, idx): return self.X[idx], self.y[idx]\n",
        "\n",
        "train_dataset_lstm = TorchSentimentDataset(X_train_pad, y_train.to_numpy())\n",
        "val_dataset_lstm = TorchSentimentDataset(X_test_pad, y_test.to_numpy())\n",
        "\n",
        "class BiLSTMClassifier(nn.Module):\n",
        "    def __init__(self, vocab_size, emb_dim, hid_dim, out_dim, n_layers, dropout):\n",
        "        super().__init__(); self.embedding = nn.Embedding(vocab_size, emb_dim, padding_idx=0); self.lstm = nn.LSTM(emb_dim, hid_dim, num_layers=n_layers, bidirectional=True, batch_first=True, dropout=dropout); self.fc = nn.Linear(hid_dim * 2, out_dim); self.dropout = nn.Dropout(dropout)\n",
        "    def forward(self, text):\n",
        "        embedded = self.dropout(self.embedding(text)); outputs, (hidden, cell) = self.lstm(embedded); hidden = self.dropout(torch.cat((hidden[-2,:,:], hidden[-1,:,:]), dim=1)); return self.fc(hidden)\n",
        "\n",
        "# Baseline BiLSTM\n",
        "print(\"\\n--- HASIL MODEL BiLSTM (BASELINE) ---\")\n",
        "bilstm_base = BiLSTMClassifier(len(word_to_idx), 100, 128, 3, 1, 0.5).to(device)\n",
        "optimizer_base = torch.optim.Adam(bilstm_base.parameters())\n",
        "criterion_base = nn.CrossEntropyLoss(weight=class_weights_tensor).to(device)\n",
        "train_loader_base = DataLoader(train_dataset_lstm, batch_size=64, shuffle=True)\n",
        "\n",
        "for epoch in range(15):\n",
        "    bilstm_base.train()\n",
        "    for data, target in train_loader_base:\n",
        "        data, target = data.to(device), target.to(device); optimizer_base.zero_grad(); output = bilstm_base(data); loss = criterion_base(output, target); loss.backward(); optimizer_base.step()\n",
        "\n",
        "bilstm_base.eval(); all_preds_bilstm_base = []\n",
        "test_loader_base = DataLoader(val_dataset_lstm, batch_size=64)\n",
        "with torch.no_grad():\n",
        "    for data, _ in test_loader_base:\n",
        "        outputs = bilstm_base(data.to(device)); _, predicted = torch.max(outputs.data, 1); all_preds_bilstm_base.extend(predicted.cpu().numpy())\n",
        "y_pred_bilstm_base = np.array(all_preds_bilstm_base)\n",
        "final_results['Baseline BiLSTM'] = classification_report(y_test, y_pred_bilstm_base, output_dict=True)['weighted avg']\n",
        "print(f\"Akurasi BiLSTM (Baseline): {accuracy_score(y_test, y_pred_bilstm_base):.4f}\")\n",
        "print(\"Laporan Klasifikasi BiLSTM (Baseline):\")\n",
        "print(classification_report(y_test, y_pred_bilstm_base, target_names=label_map.keys()))\n",
        "plot_confusion_matrix(y_test, y_pred_bilstm_base, label_map.keys(), \"Confusion Matrix - Baseline BiLSTM\")\n",
        "\n",
        "\n",
        "print(\"\\n\\n--- 4. Skenario 2: BiLSTM (Optimized) ---\")\n",
        "def objective_bilstm(trial):\n",
        "    emb_dim = trial.suggest_categorical(\"emb_dim\", [100, 200, 300])\n",
        "    hid_dim = trial.suggest_categorical(\"hid_dim\", [128, 256])\n",
        "    n_layers = trial.suggest_int(\"n_layers\", 1, 2)\n",
        "    dropout = trial.suggest_float(\"dropout\", 0.3, 0.6)\n",
        "    lr = trial.suggest_float(\"lr\", 1e-4, 1e-2, log=True)\n",
        "\n",
        "    model = BiLSTMClassifier(len(word_to_idx), emb_dim, hid_dim, 3, n_layers, dropout).to(device)\n",
        "    optimizer = torch.optim.Adam(model.parameters(), lr=lr)\n",
        "    criterion = nn.CrossEntropyLoss(weight=class_weights_tensor).to(device)\n",
        "    train_loader = DataLoader(train_dataset_lstm, batch_size=64, shuffle=True)\n",
        "    val_loader = DataLoader(val_dataset_lstm, batch_size=64)\n",
        "\n",
        "    model.train()\n",
        "    for epoch in range(5):\n",
        "        for data, target in train_loader:\n",
        "            data, target = data.to(device), target.to(device); optimizer.zero_grad(); output = model(data); loss = criterion(output, target); loss.backward(); optimizer.step()\n",
        "\n",
        "    model.eval(); correct = 0; total = 0\n",
        "    with torch.no_grad():\n",
        "        for data, target in val_loader:\n",
        "            outputs = model(data.to(device)); _, predicted = torch.max(outputs.data, 1); total += target.size(0); correct += (predicted == target.to(device)).sum().item()\n",
        "    return correct / total\n",
        "\n",
        "print(\"\\nMemulai tuning hyperparameter untuk BiLSTM dengan Optuna...\")\n",
        "study_bilstm = optuna.create_study(direction=\"maximize\")\n",
        "study_bilstm.optimize(objective_bilstm, n_trials=10)\n",
        "best_params_bilstm = study_bilstm.best_params\n",
        "model_params_bilstm = {k: v for k, v in best_params_bilstm.items() if k != 'lr'}\n",
        "\n",
        "print(\"\\nMelatih model final BiLSTM dengan parameter terbaik...\")\n",
        "final_bilstm_model = BiLSTMClassifier(vocab_size=len(word_to_idx), out_dim=3, **model_params_bilstm).to(device)\n",
        "optimizer = torch.optim.Adam(final_bilstm_model.parameters(), lr=best_params_bilstm['lr'])\n",
        "criterion = nn.CrossEntropyLoss(weight=class_weights_tensor).to(device)\n",
        "train_loader_final = DataLoader(train_dataset_lstm, batch_size=64, shuffle=True)\n",
        "\n",
        "for epoch in range(15):\n",
        "    final_bilstm_model.train()\n",
        "    for data, target in train_loader_final:\n",
        "        data, target = data.to(device), target.to(device); optimizer.zero_grad(); output = final_bilstm_model(data); loss = criterion(output, target); loss.backward(); optimizer.step()\n",
        "\n",
        "# Evaluasi BiLSTM\n",
        "final_bilstm_model.eval(); all_preds_bilstm = []\n",
        "test_loader_final = DataLoader(val_dataset_lstm, batch_size=64)\n",
        "with torch.no_grad():\n",
        "    for data, _ in test_loader_final:\n",
        "        outputs = final_bilstm_model(data.to(device)); _, predicted = torch.max(outputs.data, 1); all_preds_bilstm.extend(predicted.cpu().numpy())\n",
        "y_pred_bilstm = np.array(all_preds_bilstm)\n",
        "final_results['Optimized BiLSTM'] = classification_report(y_test, y_pred_bilstm, output_dict=True)['weighted avg']\n",
        "\n",
        "print(\"\\n--- HASIL MODEL BiLSTM (OPTIMIZED) ---\")\n",
        "print(f\"Parameter Terbaik: {best_params_bilstm}\")\n",
        "print(f\"Akurasi BiLSTM: {accuracy_score(y_test, y_pred_bilstm):.4f}\")\n",
        "print(\"Laporan Klasifikasi BiLSTM:\")\n",
        "print(classification_report(y_test, y_pred_bilstm, target_names=label_map.keys()))\n",
        "plot_confusion_matrix(y_test, y_pred_bilstm, label_map.keys(), \"Confusion Matrix - Optimized BiLSTM\")"
      ]
    },
    {
      "cell_type": "markdown",
      "metadata": {
        "id": "3BV0AeyP-MEO"
      },
      "source": [
        "# --- 5. Skenario 3: IndoBERT ---"
      ]
    },
    {
      "cell_type": "code",
      "execution_count": 11,
      "metadata": {
        "colab": {
          "base_uri": "https://localhost:8080/",
          "height": 1000,
          "referenced_widgets": [
            "7d004f54ef5e414ca0e07ea7775e5e92",
            "1adc1a4744bd40bd8eb70029de890bec",
            "96b09f3918ba444eb053933f14660228",
            "cdaa2fa7f81840c98e9377d563591f16",
            "d2b56c37bf1d4deeb74fd18ad9598885",
            "91d740d53f834dce8b5a47c55e3d5204",
            "63a54c3afd9f486db4a7d2012c0466ac",
            "4e7050d097024b82879802995d72cc6d",
            "a3c14470c4ee4e15b428c53c09fb2982",
            "a40b35fa98b64f799fc4f1a3ae083203",
            "c092ce619f4b48f8ba05111488cbeeaa",
            "547c82eddc094a60874339e5a722f9cc",
            "fb4e685394544915b25893782f582cb0",
            "862d12d69d7945a6ac82d3a06315004c",
            "55b80ac01069420eb25a50f4db73948e",
            "51f3b4a57aed41c3af1a13cde6d40cf5",
            "b15f9f4b21b44fc7aaabeafee0f864a1",
            "34c4f26d22ad42baa081cfb52117ee24",
            "2451dea2a6ba4caca079be30307ed9b8",
            "b4d29baff5c44c3cbedfa7ec3f3b6553",
            "65c67225e6de4c0ebecd1c40cbf201fb",
            "a3f62236a5aa4360b2d9f6fde0513c94",
            "5b102596d0ba4fb6a6adb1a4a734a0bc",
            "ecbc8bc266264e9f991faa69c313d295",
            "02d0816644ef4492aa4b655a2c0fff49",
            "48c4462c5d4040cfa2ac9cb5832ba166",
            "7599a9368f7549c7b2a19b6112a64273",
            "991550e766ba4e7b8316773163aedcae",
            "f1f8372b70f3484eb9eed3c630f3b16f",
            "a2d43fa0ef934263a4c1179a13b28c01",
            "7b3f212c3ace4625a99c728bee102199",
            "779d57fa669449dda9e500a60e63285a",
            "0babce70a64e434db860a331569b3618",
            "f9962a0a2d1548dd998ad3488346025a",
            "950698299000438aacb2378485ca3d2f",
            "8e98d5c00d4b466c977faf6ef051b082",
            "660b1b190a494ce2b59ece82811fbd07",
            "1fa1830785274521affdcfeb095cf29f",
            "ec007e1bcda14de186252e0f6bdd03a7",
            "a902fbcfef2d4d4dbcab3f19b6d420a5",
            "9744e29aafe549d9a205c37e3af1e7d0",
            "454c5fefa29447b4894ead2f83c5414e",
            "82f95bd85d7940918dcbfa81f496f878",
            "b3ab27de69b9450b8571342d417330fa",
            "10f724788025440dbce26ee63178d11b",
            "5d166325f0fd46e1a9242c84445c7e76",
            "46ecdb11b4f8453cb15d493f315a9b08",
            "c8c1b06a47dc47c5a29a49094241f96a",
            "edbebe8717a5432b830db0d0084929bd",
            "317e28552cf2416da70b5c5dadf5cec2",
            "7ccf4c1f93ec482b977b6d5369cece4e",
            "83292d9f468e4bb4867a23d1edc52f99",
            "d4884be7d32d41cdbb42c6cbdb7d3c2f",
            "031df78b28dd40458c3a4c4f48b61602",
            "db5e36006ebe48b0ab5b97812ad16ccd",
            "7ef1e226a5794e539ea4df3d0cb36473",
            "f67810578a754c01ae01b7ebccbbd07e",
            "24de456823ee4e5ab9520c90f9295e09",
            "360ddfa7fe3940a5839477f0f4977623",
            "242d7124545446f7b3e5199badef2a89",
            "4fceea7aa42740aa866450e7e5c217ec",
            "ae1ba170b9404fb2a816373db10660b4",
            "ddd952eb19db433a935e2bb1e35a260c",
            "a33d99e737274ab1b8af0970a70071be",
            "00bc0dd420bc4607bb91ec664d3a26cb",
            "8bbd58ea343d40a3942405b16b1bbb04",
            "d8b60353b58d46d4a4423df057b32354",
            "77fc08998e8d42889907b64cddfb9402",
            "84271781eed54136a0a28f22ff46ca68",
            "fb3878596b4246ee8a0dbd0b8fd3d0cd",
            "b7ca83925a7d42c2b56e0233977aec87",
            "768e1dfb105e4467b5feb5d05c82f449",
            "a6cbe0d68d554985ad9a54611b4fb285",
            "d412cd86060a4b6894eca0b4f0ed0c2f",
            "a4420a40197b4848a1f0298daf245289",
            "c461dfac679e474e8bac6e7e21488dd0",
            "8c474c7da2f84ba8a5342ff4c32eb125",
            "027f569d765147c2bbe2b39890b374d0",
            "d96adf53cf414effb0e2adb0101c4c8e",
            "c5367fb1f8d340f78bb9393a39514f19",
            "181753cc0e894a649eec48e28c4a9b60",
            "a59c416bc6e84fe9b66047591600af67",
            "b3fc4ecc941243639a2c14086f467d7e",
            "6f0ae3af6138408f833c0eea4d5395bb",
            "a6b3047cffd54bae867c780c79c8b5ea",
            "03f3a92e6e084153a3a23944f42c18cd",
            "a30e858c077c4fd5b78342ec99549ef6",
            "fde281f4577c41b4a637763facdfeafa"
          ]
        },
        "id": "V4SoItRA-MEO",
        "outputId": "e532eed7-4773-4753-95a5-46f199ae5741"
      },
      "outputs": [
        {
          "name": "stdout",
          "output_type": "stream",
          "text": [
            "\n",
            "\n",
            "--- 5. Skenario 3: IndoBERT (Baseline) ---\n"
          ]
        },
        {
          "data": {
            "application/vnd.jupyter.widget-view+json": {
              "model_id": "7d004f54ef5e414ca0e07ea7775e5e92",
              "version_major": 2,
              "version_minor": 0
            },
            "text/plain": [
              "tokenizer_config.json:   0%|          | 0.00/2.00 [00:00<?, ?B/s]"
            ]
          },
          "metadata": {},
          "output_type": "display_data"
        },
        {
          "data": {
            "application/vnd.jupyter.widget-view+json": {
              "model_id": "547c82eddc094a60874339e5a722f9cc",
              "version_major": 2,
              "version_minor": 0
            },
            "text/plain": [
              "config.json: 0.00B [00:00, ?B/s]"
            ]
          },
          "metadata": {},
          "output_type": "display_data"
        },
        {
          "data": {
            "application/vnd.jupyter.widget-view+json": {
              "model_id": "5b102596d0ba4fb6a6adb1a4a734a0bc",
              "version_major": 2,
              "version_minor": 0
            },
            "text/plain": [
              "vocab.txt: 0.00B [00:00, ?B/s]"
            ]
          },
          "metadata": {},
          "output_type": "display_data"
        },
        {
          "data": {
            "application/vnd.jupyter.widget-view+json": {
              "model_id": "f9962a0a2d1548dd998ad3488346025a",
              "version_major": 2,
              "version_minor": 0
            },
            "text/plain": [
              "special_tokens_map.json:   0%|          | 0.00/112 [00:00<?, ?B/s]"
            ]
          },
          "metadata": {},
          "output_type": "display_data"
        },
        {
          "data": {
            "application/vnd.jupyter.widget-view+json": {
              "model_id": "10f724788025440dbce26ee63178d11b",
              "version_major": 2,
              "version_minor": 0
            },
            "text/plain": [
              "Map:   0%|          | 0/7636 [00:00<?, ? examples/s]"
            ]
          },
          "metadata": {},
          "output_type": "display_data"
        },
        {
          "data": {
            "application/vnd.jupyter.widget-view+json": {
              "model_id": "7ef1e226a5794e539ea4df3d0cb36473",
              "version_major": 2,
              "version_minor": 0
            },
            "text/plain": [
              "Map:   0%|          | 0/1910 [00:00<?, ? examples/s]"
            ]
          },
          "metadata": {},
          "output_type": "display_data"
        },
        {
          "name": "stdout",
          "output_type": "stream",
          "text": [
            "\n",
            "--- HASIL MODEL IndoBERT (BASELINE) ---\n"
          ]
        },
        {
          "data": {
            "application/vnd.jupyter.widget-view+json": {
              "model_id": "d8b60353b58d46d4a4423df057b32354",
              "version_major": 2,
              "version_minor": 0
            },
            "text/plain": [
              "pytorch_model.bin:   0%|          | 0.00/498M [00:00<?, ?B/s]"
            ]
          },
          "metadata": {},
          "output_type": "display_data"
        },
        {
          "name": "stderr",
          "output_type": "stream",
          "text": [
            "Some weights of BertForSequenceClassification were not initialized from the model checkpoint at indobenchmark/indobert-base-p1 and are newly initialized: ['classifier.bias', 'classifier.weight']\n",
            "You should probably TRAIN this model on a down-stream task to be able to use it for predictions and inference.\n",
            "Some weights of BertForSequenceClassification were not initialized from the model checkpoint at indobenchmark/indobert-base-p1 and are newly initialized: ['classifier.bias', 'classifier.weight']\n",
            "You should probably TRAIN this model on a down-stream task to be able to use it for predictions and inference.\n"
          ]
        },
        {
          "data": {
            "application/vnd.jupyter.widget-view+json": {
              "model_id": "027f569d765147c2bbe2b39890b374d0",
              "version_major": 2,
              "version_minor": 0
            },
            "text/plain": [
              "model.safetensors:   0%|          | 0.00/498M [00:00<?, ?B/s]"
            ]
          },
          "metadata": {},
          "output_type": "display_data"
        },
        {
          "data": {
            "text/html": [
              "\n",
              "    <div>\n",
              "      \n",
              "      <progress value='955' max='955' style='width:300px; height:20px; vertical-align: middle;'></progress>\n",
              "      [955/955 03:53, Epoch 1/1]\n",
              "    </div>\n",
              "    <table border=\"1\" class=\"dataframe\">\n",
              "  <thead>\n",
              " <tr style=\"text-align: left;\">\n",
              "      <th>Step</th>\n",
              "      <th>Training Loss</th>\n",
              "    </tr>\n",
              "  </thead>\n",
              "  <tbody>\n",
              "    <tr>\n",
              "      <td>100</td>\n",
              "      <td>0.939300</td>\n",
              "    </tr>\n",
              "    <tr>\n",
              "      <td>200</td>\n",
              "      <td>0.798900</td>\n",
              "    </tr>\n",
              "    <tr>\n",
              "      <td>300</td>\n",
              "      <td>0.710800</td>\n",
              "    </tr>\n",
              "    <tr>\n",
              "      <td>400</td>\n",
              "      <td>0.715000</td>\n",
              "    </tr>\n",
              "    <tr>\n",
              "      <td>500</td>\n",
              "      <td>0.726900</td>\n",
              "    </tr>\n",
              "    <tr>\n",
              "      <td>600</td>\n",
              "      <td>0.587800</td>\n",
              "    </tr>\n",
              "    <tr>\n",
              "      <td>700</td>\n",
              "      <td>0.574400</td>\n",
              "    </tr>\n",
              "    <tr>\n",
              "      <td>800</td>\n",
              "      <td>0.611700</td>\n",
              "    </tr>\n",
              "    <tr>\n",
              "      <td>900</td>\n",
              "      <td>0.544900</td>\n",
              "    </tr>\n",
              "  </tbody>\n",
              "</table><p>"
            ],
            "text/plain": [
              "<IPython.core.display.HTML object>"
            ]
          },
          "metadata": {},
          "output_type": "display_data"
        },
        {
          "data": {
            "text/html": [],
            "text/plain": [
              "<IPython.core.display.HTML object>"
            ]
          },
          "metadata": {},
          "output_type": "display_data"
        },
        {
          "name": "stdout",
          "output_type": "stream",
          "text": [
            "Akurasi IndoBERT (Baseline): 0.8958\n",
            "Laporan Klasifikasi IndoBERT (Baseline):\n",
            "              precision    recall  f1-score   support\n",
            "\n",
            "    positive       0.95      0.92      0.94      1445\n",
            "     neutral       0.77      0.71      0.74       217\n",
            "    negative       0.72      0.89      0.79       248\n",
            "\n",
            "    accuracy                           0.90      1910\n",
            "   macro avg       0.81      0.84      0.82      1910\n",
            "weighted avg       0.90      0.90      0.90      1910\n",
            "\n"
          ]
        },
        {
          "data": {
            "image/png": "[encoded data removed]",
            "text/plain": [
              "<Figure size 600x400 with 2 Axes>"
            ]
          },
          "metadata": {},
          "output_type": "display_data"
        },
        {
          "name": "stderr",
          "output_type": "stream",
          "text": [
            "[I 2025-10-14 10:04:22,343] A new study created in memory with name: no-name-78190856-a558-4c96-a599-8692cb7f50e5\n"
          ]
        },
        {
          "name": "stdout",
          "output_type": "stream",
          "text": [
            "\n",
            "\n",
            "--- 5. Skenario 3: IndoBERT (Optimized) ---\n",
            "\n",
            "Memulai tuning hyperparameter untuk IndoBERT dengan Optuna...\n"
          ]
        },
        {
          "name": "stderr",
          "output_type": "stream",
          "text": [
            "Some weights of BertForSequenceClassification were not initialized from the model checkpoint at indobenchmark/indobert-base-p1 and are newly initialized: ['classifier.bias', 'classifier.weight']\n",
            "You should probably TRAIN this model on a down-stream task to be able to use it for predictions and inference.\n",
            "Some weights of BertForSequenceClassification were not initialized from the model checkpoint at indobenchmark/indobert-base-p1 and are newly initialized: ['classifier.bias', 'classifier.weight']\n",
            "You should probably TRAIN this model on a down-stream task to be able to use it for predictions and inference.\n"
          ]
        },
        {
          "name": "stdout",
          "output_type": "stream",
          "text": [
            "{'loss': 0.661, 'grad_norm': 75.84524536132812, 'learning_rate': 1.4827104101976955e-05, 'epoch': 0.5235602094240838}\n",
            "{'eval_loss': 0.4598161280155182, 'eval_accuracy': 0.9141361256544502, 'eval_runtime': 13.5004, 'eval_samples_per_second': 141.477, 'eval_steps_per_second': 17.703, 'epoch': 1.0}\n",
            "{'loss': 0.5204, 'grad_norm': 0.17912444472312927, 'learning_rate': 1.169373468059552e-05, 'epoch': 1.0471204188481675}\n",
            "{'loss': 0.2891, 'grad_norm': 0.06974922865629196, 'learning_rate': 8.560365259214084e-06, 'epoch': 1.5706806282722514}\n",
            "{'eval_loss': 0.6152456998825073, 'eval_accuracy': 0.9413612565445026, 'eval_runtime': 13.4795, 'eval_samples_per_second': 141.697, 'eval_steps_per_second': 17.731, 'epoch': 2.0}\n",
            "{'loss': 0.2337, 'grad_norm': 3.7090179920196533, 'learning_rate': 5.426995837832648e-06, 'epoch': 2.094240837696335}\n",
            "{'loss': 0.0671, 'grad_norm': 0.0070846048183739185, 'learning_rate': 2.2936264164512115e-06, 'epoch': 2.6178010471204187}\n",
            "{'eval_loss': 0.4967682957649231, 'eval_accuracy': 0.9450261780104712, 'eval_runtime': 13.5174, 'eval_samples_per_second': 141.299, 'eval_steps_per_second': 17.681, 'epoch': 3.0}\n",
            "{'train_runtime': 577.3089, 'train_samples_per_second': 39.681, 'train_steps_per_second': 4.963, 'train_loss': 0.3157253338612395, 'epoch': 3.0}\n"
          ]
        },
        {
          "name": "stderr",
          "output_type": "stream",
          "text": [
            "[I 2025-10-14 10:14:15,652] Trial 0 finished with value: 0.9450261780104712 and parameters: {'learning_rate': 1.795420678451563e-05, 'num_train_epochs': 3, 'weight_decay': 0.025518006070242454}. Best is trial 0 with value: 0.9450261780104712.\n"
          ]
        },
        {
          "name": "stdout",
          "output_type": "stream",
          "text": [
            "{'eval_loss': 0.4967682957649231, 'eval_accuracy': 0.9450261780104712, 'eval_runtime': 13.4562, 'eval_samples_per_second': 141.942, 'eval_steps_per_second': 17.761, 'epoch': 3.0}\n"
          ]
        },
        {
          "name": "stderr",
          "output_type": "stream",
          "text": [
            "Some weights of BertForSequenceClassification were not initialized from the model checkpoint at indobenchmark/indobert-base-p1 and are newly initialized: ['classifier.bias', 'classifier.weight']\n",
            "You should probably TRAIN this model on a down-stream task to be able to use it for predictions and inference.\n",
            "Some weights of BertForSequenceClassification were not initialized from the model checkpoint at indobenchmark/indobert-base-p1 and are newly initialized: ['classifier.bias', 'classifier.weight']\n",
            "You should probably TRAIN this model on a down-stream task to be able to use it for predictions and inference.\n"
          ]
        },
        {
          "name": "stdout",
          "output_type": "stream",
          "text": [
            "{'loss': 0.6583, 'grad_norm': 24.430091857910156, 'learning_rate': 1.344164522364808e-05, 'epoch': 0.5235602094240838}\n",
            "{'eval_loss': 0.3963681161403656, 'eval_accuracy': 0.9109947643979057, 'eval_runtime': 13.5008, 'eval_samples_per_second': 141.473, 'eval_steps_per_second': 17.703, 'epoch': 1.0}\n",
            "{'loss': 0.5117, 'grad_norm': 0.1430513709783554, 'learning_rate': 1.0601060856858544e-05, 'epoch': 1.0471204188481675}\n",
            "{'loss': 0.2837, 'grad_norm': 0.248936727643013, 'learning_rate': 7.76047649006901e-06, 'epoch': 1.5706806282722514}\n",
            "{'eval_loss': 0.5856626629829407, 'eval_accuracy': 0.9424083769633508, 'eval_runtime': 13.5247, 'eval_samples_per_second': 141.223, 'eval_steps_per_second': 17.671, 'epoch': 2.0}\n",
            "{'loss': 0.2136, 'grad_norm': 1.3725340366363525, 'learning_rate': 4.9198921232794756e-06, 'epoch': 2.094240837696335}\n",
            "{'loss': 0.0818, 'grad_norm': 0.005955866072326899, 'learning_rate': 2.07930775648994e-06, 'epoch': 2.6178010471204187}\n",
            "{'eval_loss': 0.4901564121246338, 'eval_accuracy': 0.9434554973821989, 'eval_runtime': 13.5062, 'eval_samples_per_second': 141.416, 'eval_steps_per_second': 17.696, 'epoch': 3.0}\n",
            "{'train_runtime': 579.4463, 'train_samples_per_second': 39.534, 'train_steps_per_second': 4.944, 'train_loss': 0.3138396870611434, 'epoch': 3.0}\n"
          ]
        },
        {
          "name": "stderr",
          "output_type": "stream",
          "text": [
            "[I 2025-10-14 10:24:10,732] Trial 1 finished with value: 0.9434554973821989 and parameters: {'learning_rate': 1.6276548421704037e-05, 'num_train_epochs': 3, 'weight_decay': 0.03163538035839091}. Best is trial 0 with value: 0.9450261780104712.\n"
          ]
        },
        {
          "name": "stdout",
          "output_type": "stream",
          "text": [
            "{'eval_loss': 0.4901564121246338, 'eval_accuracy': 0.9434554973821989, 'eval_runtime': 13.4794, 'eval_samples_per_second': 141.697, 'eval_steps_per_second': 17.731, 'epoch': 3.0}\n"
          ]
        },
        {
          "name": "stderr",
          "output_type": "stream",
          "text": [
            "Some weights of BertForSequenceClassification were not initialized from the model checkpoint at indobenchmark/indobert-base-p1 and are newly initialized: ['classifier.bias', 'classifier.weight']\n",
            "You should probably TRAIN this model on a down-stream task to be able to use it for predictions and inference.\n",
            "Some weights of BertForSequenceClassification were not initialized from the model checkpoint at indobenchmark/indobert-base-p1 and are newly initialized: ['classifier.bias', 'classifier.weight']\n",
            "You should probably TRAIN this model on a down-stream task to be able to use it for predictions and inference.\n"
          ]
        },
        {
          "name": "stdout",
          "output_type": "stream",
          "text": [
            "{'loss': 0.7653, 'grad_norm': 28.46800994873047, 'learning_rate': 3.328038338946872e-05, 'epoch': 0.5235602094240838}\n",
            "{'eval_loss': 0.46959158778190613, 'eval_accuracy': 0.86282722513089, 'eval_runtime': 13.4832, 'eval_samples_per_second': 141.658, 'eval_steps_per_second': 17.726, 'epoch': 1.0}\n",
            "{'loss': 0.6165, 'grad_norm': 34.13155746459961, 'learning_rate': 2.62473353359039e-05, 'epoch': 1.0471204188481675}\n",
            "{'loss': 0.4559, 'grad_norm': 18.637542724609375, 'learning_rate': 1.921428728233908e-05, 'epoch': 1.5706806282722514}\n",
            "{'eval_loss': 0.7561511993408203, 'eval_accuracy': 0.9099476439790576, 'eval_runtime': 13.4417, 'eval_samples_per_second': 142.095, 'eval_steps_per_second': 17.781, 'epoch': 2.0}\n",
            "{'loss': 0.3221, 'grad_norm': 0.042750146239995956, 'learning_rate': 1.2181239228774264e-05, 'epoch': 2.094240837696335}\n",
            "{'loss': 0.1448, 'grad_norm': 0.2528696358203888, 'learning_rate': 5.1481911752094475e-06, 'epoch': 2.6178010471204187}\n",
            "{'eval_loss': 0.6867636442184448, 'eval_accuracy': 0.9277486910994764, 'eval_runtime': 13.4815, 'eval_samples_per_second': 141.676, 'eval_steps_per_second': 17.728, 'epoch': 3.0}\n",
            "{'train_runtime': 579.0013, 'train_samples_per_second': 39.565, 'train_steps_per_second': 4.948, 'train_loss': 0.4128728310683219, 'epoch': 3.0}\n"
          ]
        },
        {
          "name": "stderr",
          "output_type": "stream",
          "text": [
            "[I 2025-10-14 10:34:05,313] Trial 2 finished with value: 0.9277486910994764 and parameters: {'learning_rate': 4.0299365346926406e-05, 'num_train_epochs': 3, 'weight_decay': 0.07735094080263552}. Best is trial 0 with value: 0.9450261780104712.\n"
          ]
        },
        {
          "name": "stdout",
          "output_type": "stream",
          "text": [
            "{'eval_loss': 0.6867636442184448, 'eval_accuracy': 0.9277486910994764, 'eval_runtime': 13.4822, 'eval_samples_per_second': 141.669, 'eval_steps_per_second': 17.727, 'epoch': 3.0}\n"
          ]
        },
        {
          "name": "stderr",
          "output_type": "stream",
          "text": [
            "Some weights of BertForSequenceClassification were not initialized from the model checkpoint at indobenchmark/indobert-base-p1 and are newly initialized: ['classifier.bias', 'classifier.weight']\n",
            "You should probably TRAIN this model on a down-stream task to be able to use it for predictions and inference.\n",
            "Some weights of BertForSequenceClassification were not initialized from the model checkpoint at indobenchmark/indobert-base-p1 and are newly initialized: ['classifier.bias', 'classifier.weight']\n",
            "You should probably TRAIN this model on a down-stream task to be able to use it for predictions and inference.\n"
          ]
        },
        {
          "name": "stdout",
          "output_type": "stream",
          "text": [
            "{'loss': 0.6572, 'grad_norm': 71.77544403076172, 'learning_rate': 1.3589145075036006e-05, 'epoch': 0.5235602094240838}\n",
            "{'eval_loss': 0.40987759828567505, 'eval_accuracy': 0.9183246073298429, 'eval_runtime': 13.4769, 'eval_samples_per_second': 141.724, 'eval_steps_per_second': 17.734, 'epoch': 1.0}\n",
            "{'loss': 0.5047, 'grad_norm': 0.1055409163236618, 'learning_rate': 8.77371450273409e-06, 'epoch': 1.0471204188481675}\n",
            "{'loss': 0.2497, 'grad_norm': 0.15739025175571442, 'learning_rate': 3.958283930432175e-06, 'epoch': 1.5706806282722514}\n",
            "{'eval_loss': 0.4696979820728302, 'eval_accuracy': 0.9408376963350785, 'eval_runtime': 13.5023, 'eval_samples_per_second': 141.457, 'eval_steps_per_second': 17.701, 'epoch': 2.0}\n",
            "{'train_runtime': 385.815, 'train_samples_per_second': 39.584, 'train_steps_per_second': 4.951, 'train_loss': 0.41898873214322235, 'epoch': 2.0}\n"
          ]
        },
        {
          "name": "stderr",
          "output_type": "stream",
          "text": [
            "[I 2025-10-14 10:40:46,972] Trial 3 finished with value: 0.9408376963350785 and parameters: {'learning_rate': 1.8394944786193318e-05, 'num_train_epochs': 2, 'weight_decay': 0.028789876607097913}. Best is trial 0 with value: 0.9450261780104712.\n"
          ]
        },
        {
          "name": "stdout",
          "output_type": "stream",
          "text": [
            "{'eval_loss': 0.4696979820728302, 'eval_accuracy': 0.9408376963350785, 'eval_runtime': 13.4511, 'eval_samples_per_second': 141.996, 'eval_steps_per_second': 17.768, 'epoch': 2.0}\n"
          ]
        },
        {
          "name": "stderr",
          "output_type": "stream",
          "text": [
            "Some weights of BertForSequenceClassification were not initialized from the model checkpoint at indobenchmark/indobert-base-p1 and are newly initialized: ['classifier.bias', 'classifier.weight']\n",
            "You should probably TRAIN this model on a down-stream task to be able to use it for predictions and inference.\n",
            "Some weights of BertForSequenceClassification were not initialized from the model checkpoint at indobenchmark/indobert-base-p1 and are newly initialized: ['classifier.bias', 'classifier.weight']\n",
            "You should probably TRAIN this model on a down-stream task to be able to use it for predictions and inference.\n"
          ]
        },
        {
          "name": "stdout",
          "output_type": "stream",
          "text": [
            "{'loss': 0.6399, 'grad_norm': 19.82322883605957, 'learning_rate': 1.0961545943059436e-05, 'epoch': 0.5235602094240838}\n",
            "{'eval_loss': 0.36510828137397766, 'eval_accuracy': 0.9136125654450262, 'eval_runtime': 13.4871, 'eval_samples_per_second': 141.616, 'eval_steps_per_second': 17.721, 'epoch': 1.0}\n",
            "{'loss': 0.4796, 'grad_norm': 0.09327823668718338, 'learning_rate': 7.077227749204214e-06, 'epoch': 1.0471204188481675}\n",
            "{'loss': 0.2416, 'grad_norm': 0.16450922191143036, 'learning_rate': 3.1929095553489924e-06, 'epoch': 1.5706806282722514}\n",
            "{'eval_loss': 0.4551084041595459, 'eval_accuracy': 0.9361256544502617, 'eval_runtime': 13.4932, 'eval_samples_per_second': 141.553, 'eval_steps_per_second': 17.713, 'epoch': 2.0}\n",
            "{'train_runtime': 386.0128, 'train_samples_per_second': 39.563, 'train_steps_per_second': 4.948, 'train_loss': 0.39892310896469035, 'epoch': 2.0}\n"
          ]
        },
        {
          "name": "stderr",
          "output_type": "stream",
          "text": [
            "[I 2025-10-14 10:47:28,796] Trial 4 finished with value: 0.9361256544502617 and parameters: {'learning_rate': 1.4838095500526948e-05, 'num_train_epochs': 2, 'weight_decay': 0.05557077218900843}. Best is trial 0 with value: 0.9450261780104712.\n"
          ]
        },
        {
          "name": "stdout",
          "output_type": "stream",
          "text": [
            "{'eval_loss': 0.4551084041595459, 'eval_accuracy': 0.9361256544502617, 'eval_runtime': 13.457, 'eval_samples_per_second': 141.933, 'eval_steps_per_second': 17.76, 'epoch': 2.0}\n"
          ]
        },
        {
          "name": "stderr",
          "output_type": "stream",
          "text": [
            "Some weights of BertForSequenceClassification were not initialized from the model checkpoint at indobenchmark/indobert-base-p1 and are newly initialized: ['classifier.bias', 'classifier.weight']\n",
            "You should probably TRAIN this model on a down-stream task to be able to use it for predictions and inference.\n",
            "Some weights of BertForSequenceClassification were not initialized from the model checkpoint at indobenchmark/indobert-base-p1 and are newly initialized: ['classifier.bias', 'classifier.weight']\n",
            "You should probably TRAIN this model on a down-stream task to be able to use it for predictions and inference.\n"
          ]
        },
        {
          "name": "stdout",
          "output_type": "stream",
          "text": [
            "{'loss': 0.8006, 'grad_norm': 30.565425872802734, 'learning_rate': 3.767581076494213e-05, 'epoch': 0.5235602094240838}\n",
            "{'eval_loss': 0.5439299941062927, 'eval_accuracy': 0.8691099476439791, 'eval_runtime': 13.4443, 'eval_samples_per_second': 142.067, 'eval_steps_per_second': 17.777, 'epoch': 1.0}\n",
            "{'loss': 0.6544, 'grad_norm': 1.036436676979065, 'learning_rate': 2.9713889639637367e-05, 'epoch': 1.0471204188481675}\n",
            "{'loss': 0.4831, 'grad_norm': 0.12336575239896774, 'learning_rate': 2.175196851433261e-05, 'epoch': 1.5706806282722514}\n",
            "{'eval_loss': 0.7319672703742981, 'eval_accuracy': 0.9183246073298429, 'eval_runtime': 13.4168, 'eval_samples_per_second': 142.359, 'eval_steps_per_second': 17.813, 'epoch': 2.0}\n",
            "{'loss': 0.3362, 'grad_norm': 0.038223665207624435, 'learning_rate': 1.3790047389027847e-05, 'epoch': 2.094240837696335}\n",
            "{'loss': 0.1604, 'grad_norm': 0.01876208186149597, 'learning_rate': 5.828126263723086e-06, 'epoch': 2.6178010471204187}\n",
            "{'eval_loss': 0.6875167489051819, 'eval_accuracy': 0.9277486910994764, 'eval_runtime': 13.4734, 'eval_samples_per_second': 141.761, 'eval_steps_per_second': 17.739, 'epoch': 3.0}\n",
            "{'train_runtime': 578.4315, 'train_samples_per_second': 39.604, 'train_steps_per_second': 4.953, 'train_loss': 0.4380121387528291, 'epoch': 3.0}\n"
          ]
        },
        {
          "name": "stderr",
          "output_type": "stream",
          "text": [
            "[I 2025-10-14 10:57:23,060] Trial 5 finished with value: 0.9277486910994764 and parameters: {'learning_rate': 4.562180804799628e-05, 'num_train_epochs': 3, 'weight_decay': 0.04540118678677599}. Best is trial 0 with value: 0.9450261780104712.\n"
          ]
        },
        {
          "name": "stdout",
          "output_type": "stream",
          "text": [
            "{'eval_loss': 0.6875167489051819, 'eval_accuracy': 0.9277486910994764, 'eval_runtime': 13.4732, 'eval_samples_per_second': 141.763, 'eval_steps_per_second': 17.739, 'epoch': 3.0}\n"
          ]
        },
        {
          "name": "stderr",
          "output_type": "stream",
          "text": [
            "Some weights of BertForSequenceClassification were not initialized from the model checkpoint at indobenchmark/indobert-base-p1 and are newly initialized: ['classifier.bias', 'classifier.weight']\n",
            "You should probably TRAIN this model on a down-stream task to be able to use it for predictions and inference.\n",
            "Some weights of BertForSequenceClassification were not initialized from the model checkpoint at indobenchmark/indobert-base-p1 and are newly initialized: ['classifier.bias', 'classifier.weight']\n",
            "You should probably TRAIN this model on a down-stream task to be able to use it for predictions and inference.\n"
          ]
        },
        {
          "name": "stdout",
          "output_type": "stream",
          "text": [
            "{'loss': 0.6176, 'grad_norm': 25.398969650268555, 'learning_rate': 8.300652508888047e-06, 'epoch': 0.5235602094240838}\n",
            "{'eval_loss': 0.31950223445892334, 'eval_accuracy': 0.9167539267015706, 'eval_runtime': 13.4729, 'eval_samples_per_second': 141.766, 'eval_steps_per_second': 17.739, 'epoch': 1.0}\n",
            "{'loss': 0.4631, 'grad_norm': 0.14124245941638947, 'learning_rate': 5.359244816156634e-06, 'epoch': 1.0471204188481675}\n",
            "{'loss': 0.2166, 'grad_norm': 0.14339712262153625, 'learning_rate': 2.4178371234252216e-06, 'epoch': 1.5706806282722514}\n",
            "{'eval_loss': 0.42393410205841064, 'eval_accuracy': 0.9361256544502617, 'eval_runtime': 13.4699, 'eval_samples_per_second': 141.798, 'eval_steps_per_second': 17.743, 'epoch': 2.0}\n",
            "{'train_runtime': 385.6528, 'train_samples_per_second': 39.6, 'train_steps_per_second': 4.953, 'train_loss': 0.38353671328559596, 'epoch': 2.0}\n"
          ]
        },
        {
          "name": "stderr",
          "output_type": "stream",
          "text": [
            "[I 2025-10-14 11:04:04,430] Trial 6 finished with value: 0.9361256544502617 and parameters: {'learning_rate': 1.1236177386233998e-05, 'num_train_epochs': 2, 'weight_decay': 0.07096967924501447}. Best is trial 0 with value: 0.9450261780104712.\n"
          ]
        },
        {
          "name": "stdout",
          "output_type": "stream",
          "text": [
            "{'eval_loss': 0.42393410205841064, 'eval_accuracy': 0.9361256544502617, 'eval_runtime': 13.4486, 'eval_samples_per_second': 142.022, 'eval_steps_per_second': 17.771, 'epoch': 2.0}\n"
          ]
        },
        {
          "name": "stderr",
          "output_type": "stream",
          "text": [
            "Some weights of BertForSequenceClassification were not initialized from the model checkpoint at indobenchmark/indobert-base-p1 and are newly initialized: ['classifier.bias', 'classifier.weight']\n",
            "You should probably TRAIN this model on a down-stream task to be able to use it for predictions and inference.\n",
            "Some weights of BertForSequenceClassification were not initialized from the model checkpoint at indobenchmark/indobert-base-p1 and are newly initialized: ['classifier.bias', 'classifier.weight']\n",
            "You should probably TRAIN this model on a down-stream task to be able to use it for predictions and inference.\n"
          ]
        },
        {
          "name": "stdout",
          "output_type": "stream",
          "text": [
            "{'loss': 0.7365, 'grad_norm': 26.396244049072266, 'learning_rate': 2.5277249754381285e-05, 'epoch': 0.5235602094240838}\n",
            "{'eval_loss': 0.3985886573791504, 'eval_accuracy': 0.8890052356020942, 'eval_runtime': 13.4207, 'eval_samples_per_second': 142.317, 'eval_steps_per_second': 17.808, 'epoch': 1.0}\n",
            "{'loss': 0.583, 'grad_norm': 3.540360450744629, 'learning_rate': 1.9935480998172222e-05, 'epoch': 1.0471204188481675}\n",
            "{'loss': 0.345, 'grad_norm': 0.302466481924057, 'learning_rate': 1.459371224196316e-05, 'epoch': 1.5706806282722514}\n",
            "{'eval_loss': 0.7523638010025024, 'eval_accuracy': 0.9235602094240838, 'eval_runtime': 13.4623, 'eval_samples_per_second': 141.878, 'eval_steps_per_second': 17.753, 'epoch': 2.0}\n",
            "{'loss': 0.2827, 'grad_norm': 0.5916286706924438, 'learning_rate': 9.251943485754098e-06, 'epoch': 2.094240837696335}\n",
            "{'loss': 0.1064, 'grad_norm': 0.007053777575492859, 'learning_rate': 3.910174729545035e-06, 'epoch': 2.6178010471204187}\n",
            "{'eval_loss': 0.5607762336730957, 'eval_accuracy': 0.9350785340314136, 'eval_runtime': 13.4409, 'eval_samples_per_second': 142.103, 'eval_steps_per_second': 17.781, 'epoch': 3.0}\n",
            "{'train_runtime': 578.5263, 'train_samples_per_second': 39.597, 'train_steps_per_second': 4.952, 'train_loss': 0.36935762868085664, 'epoch': 3.0}\n"
          ]
        },
        {
          "name": "stderr",
          "output_type": "stream",
          "text": [
            "[I 2025-10-14 11:13:58,554] Trial 7 finished with value: 0.9350785340314136 and parameters: {'learning_rate': 3.060833497307793e-05, 'num_train_epochs': 3, 'weight_decay': 0.08055266879711458}. Best is trial 0 with value: 0.9450261780104712.\n"
          ]
        },
        {
          "name": "stdout",
          "output_type": "stream",
          "text": [
            "{'eval_loss': 0.5607762336730957, 'eval_accuracy': 0.9350785340314136, 'eval_runtime': 13.4066, 'eval_samples_per_second': 142.467, 'eval_steps_per_second': 17.827, 'epoch': 3.0}\n"
          ]
        },
        {
          "name": "stderr",
          "output_type": "stream",
          "text": [
            "Some weights of BertForSequenceClassification were not initialized from the model checkpoint at indobenchmark/indobert-base-p1 and are newly initialized: ['classifier.bias', 'classifier.weight']\n",
            "You should probably TRAIN this model on a down-stream task to be able to use it for predictions and inference.\n",
            "Some weights of BertForSequenceClassification were not initialized from the model checkpoint at indobenchmark/indobert-base-p1 and are newly initialized: ['classifier.bias', 'classifier.weight']\n",
            "You should probably TRAIN this model on a down-stream task to be able to use it for predictions and inference.\n"
          ]
        },
        {
          "name": "stdout",
          "output_type": "stream",
          "text": [
            "{'loss': 0.7858, 'grad_norm': 39.07981872558594, 'learning_rate': 3.1140285454767113e-05, 'epoch': 0.5235602094240838}\n",
            "{'eval_loss': 0.5018391013145447, 'eval_accuracy': 0.8732984293193717, 'eval_runtime': 13.4612, 'eval_samples_per_second': 141.889, 'eval_steps_per_second': 17.755, 'epoch': 1.0}\n",
            "{'loss': 0.6375, 'grad_norm': 4.5329084396362305, 'learning_rate': 2.455949816508683e-05, 'epoch': 1.0471204188481675}\n",
            "{'loss': 0.4238, 'grad_norm': 16.43304443359375, 'learning_rate': 1.7978710875406544e-05, 'epoch': 1.5706806282722514}\n",
            "{'eval_loss': 0.7315099835395813, 'eval_accuracy': 0.9214659685863874, 'eval_runtime': 13.4688, 'eval_samples_per_second': 141.809, 'eval_steps_per_second': 17.745, 'epoch': 2.0}\n",
            "{'loss': 0.3219, 'grad_norm': 0.049596983939409256, 'learning_rate': 1.1397923585726257e-05, 'epoch': 2.094240837696335}\n",
            "{'loss': 0.1366, 'grad_norm': 0.01773862913250923, 'learning_rate': 4.8171362960459706e-06, 'epoch': 2.6178010471204187}\n",
            "{'eval_loss': 0.620458722114563, 'eval_accuracy': 0.9319371727748691, 'eval_runtime': 13.4188, 'eval_samples_per_second': 142.337, 'eval_steps_per_second': 17.811, 'epoch': 3.0}\n",
            "{'train_runtime': 577.8671, 'train_samples_per_second': 39.642, 'train_steps_per_second': 4.958, 'train_loss': 0.41585757270533374, 'epoch': 3.0}\n"
          ]
        },
        {
          "name": "stderr",
          "output_type": "stream",
          "text": [
            "[I 2025-10-14 11:23:51,898] Trial 8 finished with value: 0.9319371727748691 and parameters: {'learning_rate': 3.770791116986804e-05, 'num_train_epochs': 3, 'weight_decay': 0.09449999110040697}. Best is trial 0 with value: 0.9450261780104712.\n"
          ]
        },
        {
          "name": "stdout",
          "output_type": "stream",
          "text": [
            "{'eval_loss': 0.620458722114563, 'eval_accuracy': 0.9319371727748691, 'eval_runtime': 13.4111, 'eval_samples_per_second': 142.419, 'eval_steps_per_second': 17.821, 'epoch': 3.0}\n"
          ]
        },
        {
          "name": "stderr",
          "output_type": "stream",
          "text": [
            "Some weights of BertForSequenceClassification were not initialized from the model checkpoint at indobenchmark/indobert-base-p1 and are newly initialized: ['classifier.bias', 'classifier.weight']\n",
            "You should probably TRAIN this model on a down-stream task to be able to use it for predictions and inference.\n",
            "Some weights of BertForSequenceClassification were not initialized from the model checkpoint at indobenchmark/indobert-base-p1 and are newly initialized: ['classifier.bias', 'classifier.weight']\n",
            "You should probably TRAIN this model on a down-stream task to be able to use it for predictions and inference.\n"
          ]
        },
        {
          "name": "stdout",
          "output_type": "stream",
          "text": [
            "{'loss': 0.7795, 'grad_norm': 26.911767959594727, 'learning_rate': 3.378912110080617e-05, 'epoch': 0.5235602094240838}\n",
            "{'eval_loss': 0.5722978711128235, 'eval_accuracy': 0.8895287958115183, 'eval_runtime': 13.4075, 'eval_samples_per_second': 142.457, 'eval_steps_per_second': 17.826, 'epoch': 1.0}\n",
            "{'loss': 0.629, 'grad_norm': 9.160944938659668, 'learning_rate': 2.6648562964541134e-05, 'epoch': 1.0471204188481675}\n",
            "{'loss': 0.4057, 'grad_norm': 0.037413641810417175, 'learning_rate': 1.9508004828276095e-05, 'epoch': 1.5706806282722514}\n",
            "{'eval_loss': 1.0033327341079712, 'eval_accuracy': 0.9141361256544502, 'eval_runtime': 13.3971, 'eval_samples_per_second': 142.568, 'eval_steps_per_second': 17.84, 'epoch': 2.0}\n",
            "{'loss': 0.3391, 'grad_norm': 0.09538505226373672, 'learning_rate': 1.2367446692011053e-05, 'epoch': 2.094240837696335}\n",
            "{'loss': 0.1293, 'grad_norm': 0.01500787679105997, 'learning_rate': 5.226888555746011e-06, 'epoch': 2.6178010471204187}\n",
            "{'eval_loss': 0.6433704495429993, 'eval_accuracy': 0.930890052356021, 'eval_runtime': 13.4681, 'eval_samples_per_second': 141.816, 'eval_steps_per_second': 17.746, 'epoch': 3.0}\n",
            "{'train_runtime': 577.6834, 'train_samples_per_second': 39.655, 'train_steps_per_second': 4.959, 'train_loss': 0.41347612710523357, 'epoch': 3.0}\n"
          ]
        },
        {
          "name": "stderr",
          "output_type": "stream",
          "text": [
            "[I 2025-10-14 11:33:45,195] Trial 9 finished with value: 0.930890052356021 and parameters: {'learning_rate': 4.091539812079869e-05, 'num_train_epochs': 3, 'weight_decay': 0.06926280268183554}. Best is trial 0 with value: 0.9450261780104712.\n"
          ]
        },
        {
          "name": "stdout",
          "output_type": "stream",
          "text": [
            "{'eval_loss': 0.6433704495429993, 'eval_accuracy': 0.930890052356021, 'eval_runtime': 13.4499, 'eval_samples_per_second': 142.009, 'eval_steps_per_second': 17.77, 'epoch': 3.0}\n",
            "\n",
            "Melatih model final IndoBERT dengan parameter terbaik...\n"
          ]
        },
        {
          "name": "stderr",
          "output_type": "stream",
          "text": [
            "Some weights of BertForSequenceClassification were not initialized from the model checkpoint at indobenchmark/indobert-base-p1 and are newly initialized: ['classifier.bias', 'classifier.weight']\n",
            "You should probably TRAIN this model on a down-stream task to be able to use it for predictions and inference.\n",
            "Some weights of BertForSequenceClassification were not initialized from the model checkpoint at indobenchmark/indobert-base-p1 and are newly initialized: ['classifier.bias', 'classifier.weight']\n",
            "You should probably TRAIN this model on a down-stream task to be able to use it for predictions and inference.\n"
          ]
        },
        {
          "data": {
            "text/html": [
              "\n",
              "    <div>\n",
              "      \n",
              "      <progress value='2865' max='2865' style='width:300px; height:20px; vertical-align: middle;'></progress>\n",
              "      [2865/2865 11:06, Epoch 3/3]\n",
              "    </div>\n",
              "    <table border=\"1\" class=\"dataframe\">\n",
              "  <thead>\n",
              " <tr style=\"text-align: left;\">\n",
              "      <th>Epoch</th>\n",
              "      <th>Training Loss</th>\n",
              "      <th>Validation Loss</th>\n",
              "      <th>Accuracy</th>\n",
              "    </tr>\n",
              "  </thead>\n",
              "  <tbody>\n",
              "    <tr>\n",
              "      <td>1</td>\n",
              "      <td>0.580200</td>\n",
              "      <td>0.459816</td>\n",
              "      <td>0.914136</td>\n",
              "    </tr>\n",
              "    <tr>\n",
              "      <td>2</td>\n",
              "      <td>0.268800</td>\n",
              "      <td>0.615246</td>\n",
              "      <td>0.941361</td>\n",
              "    </tr>\n",
              "    <tr>\n",
              "      <td>3</td>\n",
              "      <td>0.031000</td>\n",
              "      <td>0.496768</td>\n",
              "      <td>0.945026</td>\n",
              "    </tr>\n",
              "  </tbody>\n",
              "</table><p>"
            ],
            "text/plain": [
              "<IPython.core.display.HTML object>"
            ]
          },
          "metadata": {},
          "output_type": "display_data"
        },
        {
          "data": {
            "text/html": [],
            "text/plain": [
              "<IPython.core.display.HTML object>"
            ]
          },
          "metadata": {},
          "output_type": "display_data"
        },
        {
          "name": "stdout",
          "output_type": "stream",
          "text": [
            "\n",
            "--- HASIL MODEL IndoBERT (OPTIMIZED) ---\n",
            "Parameter Terbaik: {'learning_rate': 1.795420678451563e-05, 'num_train_epochs': 3, 'weight_decay': 0.025518006070242454}\n",
            "Akurasi IndoBERT: 0.9450\n",
            "Laporan Klasifikasi IndoBERT:\n",
            "              precision    recall  f1-score   support\n",
            "\n",
            "    positive       0.97      0.96      0.97      1445\n",
            "     neutral       0.86      0.85      0.85       217\n",
            "    negative       0.87      0.92      0.90       248\n",
            "\n",
            "    accuracy                           0.95      1910\n",
            "   macro avg       0.90      0.91      0.91      1910\n",
            "weighted avg       0.95      0.95      0.95      1910\n",
            "\n"
          ]
        },
        {
          "data": {
            "image/png": "[encoded data removed]",
            "text/plain": [
              "<Figure size 600x400 with 2 Axes>"
            ]
          },
          "metadata": {},
          "output_type": "display_data"
        }
      ],
      "source": [
        "# --- 5. Skenario 3: IndoBERT (Baseline) ---\n",
        "print(\"\\n\\n--- 5. Skenario 3: IndoBERT (Baseline) ---\")\n",
        "\n",
        "class CustomTrainer(Trainer):\n",
        "    def compute_loss(self, model, inputs, return_outputs=False, **kwargs):\n",
        "        labels = inputs.pop(\"labels\")\n",
        "        outputs = model(**inputs)\n",
        "        logits = outputs.get(\"logits\")\n",
        "        loss_fct = nn.CrossEntropyLoss(weight=class_weights_tensor.to(model.device))\n",
        "        loss = loss_fct(logits.view(-1, self.model.config.num_labels), labels.view(-1))\n",
        "        return (loss, outputs) if return_outputs else loss\n",
        "\n",
        "MODEL_NAME = \"indobenchmark/indobert-base-p1\"\n",
        "tokenizer_bert = AutoTokenizer.from_pretrained(MODEL_NAME)\n",
        "train_df_hf = pd.DataFrame({'text': train_df['text_clean'].astype(str), 'label': y_train})\n",
        "test_df_hf = pd.DataFrame({'text': test_df['text_clean'].astype(str), 'label': y_test})\n",
        "train_dataset_hf = HFDataset.from_pandas(train_df_hf)\n",
        "test_dataset_hf = HFDataset.from_pandas(test_df_hf)\n",
        "\n",
        "def tokenize_function(e):\n",
        "    return tokenizer_bert(e['text'], padding='max_length', truncation=True, max_length=128)\n",
        "\n",
        "train_tokenized = train_dataset_hf.map(tokenize_function, batched=True)\n",
        "test_tokenized = test_dataset_hf.map(tokenize_function, batched=True)\n",
        "\n",
        "def model_init():\n",
        "    return AutoModelForSequenceClassification.from_pretrained(MODEL_NAME, num_labels=3)\n",
        "\n",
        "def compute_metrics(p):\n",
        "    return {\"accuracy\": accuracy_score(p.label_ids, np.argmax(p.predictions, axis=1))}\n",
        "\n",
        "\n",
        "# Baseline IndoBERT\n",
        "print(\"\\n--- HASIL MODEL IndoBERT (BASELINE) ---\")\n",
        "training_args_base = TrainingArguments(\n",
        "    output_dir='./results_base_bert',\n",
        "    num_train_epochs=1,\n",
        "    per_device_train_batch_size=8,\n",
        "    logging_steps=100,\n",
        "    report_to=\"none\" \n",
        ")\n",
        "trainer_base = CustomTrainer(\n",
        "    model_init=model_init,\n",
        "    args=training_args_base,\n",
        "    train_dataset=train_tokenized,\n",
        "    eval_dataset=test_tokenized,\n",
        "    compute_metrics=compute_metrics\n",
        ")\n",
        "trainer_base.train()\n",
        "predictions_base = trainer_base.predict(test_tokenized)\n",
        "y_pred_bert_base = np.argmax(predictions_base.predictions, axis=1)\n",
        "final_results['Baseline IndoBERT'] = classification_report(y_test, y_pred_bert_base, output_dict=True)['weighted avg']\n",
        "print(f\"Akurasi IndoBERT (Baseline): {accuracy_score(y_test, y_pred_bert_base):.4f}\")\n",
        "print(\"Laporan Klasifikasi IndoBERT (Baseline):\")\n",
        "print(classification_report(y_test, y_pred_bert_base, target_names=label_map.keys()))\n",
        "plot_confusion_matrix(y_test, y_pred_bert_base, label_map.keys(), \"Confusion Matrix - Baseline IndoBERT\")\n",
        "\n",
        "\n",
        "print(\"\\n\\n--- 5. Skenario 3: IndoBERT (Optimized) ---\")\n",
        "def objective_indobert(trial):\n",
        "    training_args = TrainingArguments(\n",
        "        output_dir='./results_optuna_bert',\n",
        "        eval_strategy=\"epoch\",\n",
        "        learning_rate=trial.suggest_float(\"learning_rate\", 1e-5, 5e-5, log=True),\n",
        "        per_device_train_batch_size=8,\n",
        "        num_train_epochs=trial.suggest_int(\"num_train_epochs\", 2, 3),\n",
        "        weight_decay=trial.suggest_float(\"weight_decay\", 0.01, 0.1),\n",
        "        logging_steps=500,\n",
        "        disable_tqdm=True,\n",
        "        save_strategy=\"no\",\n",
        "        report_to=\"none\"  \n",
        "    )\n",
        "    trainer = CustomTrainer(\n",
        "        model_init=model_init,\n",
        "        args=training_args,\n",
        "        train_dataset=train_tokenized,\n",
        "        eval_dataset=test_tokenized,\n",
        "        compute_metrics=compute_metrics\n",
        "    )\n",
        "    trainer.train()\n",
        "    return trainer.evaluate()['eval_accuracy']\n",
        "\n",
        "print(\"\\nMemulai tuning hyperparameter untuk IndoBERT dengan Optuna...\")\n",
        "study_bert = optuna.create_study(direction=\"maximize\")\n",
        "study_bert.optimize(objective_indobert, n_trials=10) \n",
        "best_params_bert = study_bert.best_params\n",
        "\n",
        "print(\"\\nMelatih model final IndoBERT dengan parameter terbaik...\")\n",
        "final_training_args = TrainingArguments(\n",
        "    output_dir='./results_final_bert',\n",
        "    eval_strategy=\"epoch\",\n",
        "    save_strategy=\"epoch\",\n",
        "    learning_rate=best_params_bert['learning_rate'],\n",
        "    per_device_train_batch_size=8,\n",
        "    num_train_epochs=best_params_bert['num_train_epochs'],\n",
        "    weight_decay=best_params_bert['weight_decay'],\n",
        "    logging_steps=100,\n",
        "    save_total_limit=1,\n",
        "    load_best_model_at_end=True,\n",
        "    metric_for_best_model=\"accuracy\",\n",
        "    report_to=\"none\" \n",
        ")\n",
        "final_trainer = CustomTrainer(\n",
        "    model_init=model_init,\n",
        "    args=final_training_args,\n",
        "    train_dataset=train_tokenized,\n",
        "    eval_dataset=test_tokenized,\n",
        "    compute_metrics=compute_metrics\n",
        ")\n",
        "final_trainer.train()\n",
        "\n",
        "predictions = final_trainer.predict(test_tokenized)\n",
        "y_pred_bert = np.argmax(predictions.predictions, axis=1)\n",
        "final_results['Optimized IndoBERT'] = classification_report(y_test, y_pred_bert, output_dict=True)['weighted avg']\n",
        "\n",
        "print(\"\\n--- HASIL MODEL IndoBERT (OPTIMIZED) ---\")\n",
        "print(f\"Parameter Terbaik: {best_params_bert}\")\n",
        "print(f\"Akurasi IndoBERT: {accuracy_score(y_test, y_pred_bert):.4f}\")\n",
        "print(\"Laporan Klasifikasi IndoBERT:\")\n",
        "print(classification_report(y_test, y_pred_bert, target_names=label_map.keys()))\n",
        "plot_confusion_matrix(y_test, y_pred_bert, label_map.keys(), \"Confusion Matrix - Optimized IndoBERT\")"
      ]
    },
    {
      "cell_type": "markdown",
      "metadata": {
        "id": "eyvMaOQ9-MEP"
      },
      "source": [
        "# --- 6. Perbandingan Akhir Semua Model ---"
      ]
    },
    {
      "cell_type": "code",
      "execution_count": 12,
      "metadata": {
        "colab": {
          "base_uri": "https://localhost:8080/",
          "height": 1000
        },
        "id": "geVuwsZW-MEP",
        "outputId": "a0f3356b-c5ac-45b9-b7d9-9f5f34421715"
      },
      "outputs": [
        {
          "name": "stdout",
          "output_type": "stream",
          "text": [
            "\n",
            "\n",
            "--- 6. RANGKUMAN AKHIR SEMUA MODEL ---\n",
            "\n",
            "=== Tabel Perbandingan Performa Akhir ===\n",
            "\n",
            "                       Accuracy  Precision    Recall  F1-Score\n",
            "Baseline SVM           0.852356   0.857942  0.852356  0.831546\n",
            "Baseline Naive Bayes   0.764398   0.761866  0.764398  0.671595\n",
            "Optimized SVM          0.880628   0.876775  0.880628  0.872785\n",
            "Optimized Naive Bayes  0.807330   0.796958  0.807330  0.771334\n",
            "Baseline BiLSTM        0.798429   0.826725  0.798429  0.807922\n",
            "Optimized BiLSTM       0.865969   0.865086  0.865969  0.865227\n",
            "Baseline IndoBERT      0.895812   0.901588  0.895812  0.897238\n",
            "Optimized IndoBERT     0.945026   0.945619  0.945026  0.945220\n",
            "\n",
            "Plot perbandingan akhir disimpan sebagai 'model_comparison_optimized_final.png'\n"
          ]
        },
        {
          "data": {
            "image/png": "[encoded data removed]",
            "text/plain": [
              "<Figure size 1200x800 with 1 Axes>"
            ]
          },
          "metadata": {},
          "output_type": "display_data"
        }
      ],
      "source": [
        "print(\"\\n\\n--- 6. RANGKUMAN AKHIR SEMUA MODEL ---\")\n",
        "results_df = pd.DataFrame(final_results).T\n",
        "results_df.rename(columns={'precision': 'Precision', 'recall': 'Recall', 'f1-score': 'F1-Score'}, inplace=True)\n",
        "results_df['Accuracy'] = [\n",
        "    accuracy_score(y_test, y_pred_svm_base),\n",
        "    accuracy_score(y_test, y_pred_nb_base),\n",
        "    accuracy_score(y_test, y_pred_svm),\n",
        "    accuracy_score(y_test, y_pred_nb),\n",
        "    accuracy_score(y_test, y_pred_bilstm_base),\n",
        "    accuracy_score(y_test, y_pred_bilstm),\n",
        "    accuracy_score(y_test, y_pred_bert_base),\n",
        "    accuracy_score(y_test, y_pred_bert)\n",
        "]\n",
        "results_df = results_df[['Accuracy', 'Precision', 'Recall', 'F1-Score']]\n",
        "print(\"\\n=== Tabel Perbandingan Performa Akhir ===\\n\")\n",
        "print(results_df)\n",
        "\n",
        "# Plot perbandingan\n",
        "results_df.sort_values('F1-Score').plot(kind='barh', figsize=(12, 8))\n",
        "plt.title('Perbandingan Performa Model Sebelum dan Sesudah Optimisasi Hyperparameter Dengan Hybrid Labeling')\n",
        "plt.xlabel('Skor'); plt.xlim(0, 1.1); plt.tight_layout()\n",
        "plt.savefig('model_comparison_optimized_final.png')\n",
        "print(\"\\nPlot perbandingan akhir disimpan sebagai 'model_comparison_optimized_final.png'\")\n",
        "plt.show()"
      ]
    }
  ],
  "metadata": {
    "accelerator": "GPU",
    "colab": {
      "gpuType": "T4",
      "provenance": []
    },
    "kernelspec": {
      "display_name": "Python 3",
      "name": "python3"
    },
    "language_info": {
      "codemirror_mode": {
        "name": "ipython",
        "version": 3
      },
      "file_extension": ".py",
      "mimetype": "text/x-python",
      "name": "python",
      "nbconvert_exporter": "python",
      "pygments_lexer": "ipython3",
      "version": "3.12.2"
    },
    "widgets": {
      "application/vnd.jupyter.widget-state+json": {
        "00bc0dd420bc4607bb91ec664d3a26cb": {
          "model_module": "@jupyter-widgets/base",
          "model_module_version": "1.2.0",
          "model_name": "LayoutModel",
          "state": {
            "_model_module": "@jupyter-widgets/base",
            "_model_module_version": "1.2.0",
            "_model_name": "LayoutModel",
            "_view_count": null,
            "_view_module": "@jupyter-widgets/base",
            "_view_module_version": "1.2.0",
            "_view_name": "LayoutView",
            "align_content": null,
            "align_items": null,
            "align_self": null,
            "border": null,
            "bottom": null,
            "display": null,
            "flex": null,
            "flex_flow": null,
            "grid_area": null,
            "grid_auto_columns": null,
            "grid_auto_flow": null,
            "grid_auto_rows": null,
            "grid_column": null,
            "grid_gap": null,
            "grid_row": null,
            "grid_template_areas": null,
            "grid_template_columns": null,
            "grid_template_rows": null,
            "height": null,
            "justify_content": null,
            "justify_items": null,
            "left": null,
            "margin": null,
            "max_height": null,
            "max_width": null,
            "min_height": null,
            "min_width": null,
            "object_fit": null,
            "object_position": null,
            "order": null,
            "overflow": null,
            "overflow_x": null,
            "overflow_y": null,
            "padding": null,
            "right": null,
            "top": null,
            "visibility": null,
            "width": null
          }
        },
        "027f569d765147c2bbe2b39890b374d0": {
          "model_module": "@jupyter-widgets/controls",
          "model_module_version": "1.5.0",
          "model_name": "HBoxModel",
          "state": {
            "_dom_classes": [],
            "_model_module": "@jupyter-widgets/controls",
            "_model_module_version": "1.5.0",
            "_model_name": "HBoxModel",
            "_view_count": null,
            "_view_module": "@jupyter-widgets/controls",
            "_view_module_version": "1.5.0",
            "_view_name": "HBoxView",
            "box_style": "",
            "children": [
              "IPY_MODEL_d96adf53cf414effb0e2adb0101c4c8e",
              "IPY_MODEL_c5367fb1f8d340f78bb9393a39514f19",
              "IPY_MODEL_181753cc0e894a649eec48e28c4a9b60"
            ],
            "layout": "IPY_MODEL_a59c416bc6e84fe9b66047591600af67"
          }
        },
        "02d0816644ef4492aa4b655a2c0fff49": {
          "model_module": "@jupyter-widgets/controls",
          "model_module_version": "1.5.0",
          "model_name": "FloatProgressModel",
          "state": {
            "_dom_classes": [],
            "_model_module": "@jupyter-widgets/controls",
            "_model_module_version": "1.5.0",
            "_model_name": "FloatProgressModel",
            "_view_count": null,
            "_view_module": "@jupyter-widgets/controls",
            "_view_module_version": "1.5.0",
            "_view_name": "ProgressView",
            "bar_style": "success",
            "description": "",
            "description_tooltip": null,
            "layout": "IPY_MODEL_a2d43fa0ef934263a4c1179a13b28c01",
            "max": 1,
            "min": 0,
            "orientation": "horizontal",
            "style": "IPY_MODEL_7b3f212c3ace4625a99c728bee102199",
            "value": 1
          }
        },
        "031df78b28dd40458c3a4c4f48b61602": {
          "model_module": "@jupyter-widgets/base",
          "model_module_version": "1.2.0",
          "model_name": "LayoutModel",
          "state": {
            "_model_module": "@jupyter-widgets/base",
            "_model_module_version": "1.2.0",
            "_model_name": "LayoutModel",
            "_view_count": null,
            "_view_module": "@jupyter-widgets/base",
            "_view_module_version": "1.2.0",
            "_view_name": "LayoutView",
            "align_content": null,
            "align_items": null,
            "align_self": null,
            "border": null,
            "bottom": null,
            "display": null,
            "flex": null,
            "flex_flow": null,
            "grid_area": null,
            "grid_auto_columns": null,
            "grid_auto_flow": null,
            "grid_auto_rows": null,
            "grid_column": null,
            "grid_gap": null,
            "grid_row": null,
            "grid_template_areas": null,
            "grid_template_columns": null,
            "grid_template_rows": null,
            "height": null,
            "justify_content": null,
            "justify_items": null,
            "left": null,
            "margin": null,
            "max_height": null,
            "max_width": null,
            "min_height": null,
            "min_width": null,
            "object_fit": null,
            "object_position": null,
            "order": null,
            "overflow": null,
            "overflow_x": null,
            "overflow_y": null,
            "padding": null,
            "right": null,
            "top": null,
            "visibility": null,
            "width": null
          }
        },
        "03f3a92e6e084153a3a23944f42c18cd": {
          "model_module": "@jupyter-widgets/controls",
          "model_module_version": "1.5.0",
          "model_name": "ProgressStyleModel",
          "state": {
            "_model_module": "@jupyter-widgets/controls",
            "_model_module_version": "1.5.0",
            "_model_name": "ProgressStyleModel",
            "_view_count": null,
            "_view_module": "@jupyter-widgets/base",
            "_view_module_version": "1.2.0",
            "_view_name": "StyleView",
            "bar_color": null,
            "description_width": ""
          }
        },
        "0babce70a64e434db860a331569b3618": {
          "model_module": "@jupyter-widgets/controls",
          "model_module_version": "1.5.0",
          "model_name": "DescriptionStyleModel",
          "state": {
            "_model_module": "@jupyter-widgets/controls",
            "_model_module_version": "1.5.0",
            "_model_name": "DescriptionStyleModel",
            "_view_count": null,
            "_view_module": "@jupyter-widgets/base",
            "_view_module_version": "1.2.0",
            "_view_name": "StyleView",
            "description_width": ""
          }
        },
        "10f724788025440dbce26ee63178d11b": {
          "model_module": "@jupyter-widgets/controls",
          "model_module_version": "1.5.0",
          "model_name": "HBoxModel",
          "state": {
            "_dom_classes": [],
            "_model_module": "@jupyter-widgets/controls",
            "_model_module_version": "1.5.0",
            "_model_name": "HBoxModel",
            "_view_count": null,
            "_view_module": "@jupyter-widgets/controls",
            "_view_module_version": "1.5.0",
            "_view_name": "HBoxView",
            "box_style": "",
            "children": [
              "IPY_MODEL_5d166325f0fd46e1a9242c84445c7e76",
              "IPY_MODEL_46ecdb11b4f8453cb15d493f315a9b08",
              "IPY_MODEL_c8c1b06a47dc47c5a29a49094241f96a"
            ],
            "layout": "IPY_MODEL_edbebe8717a5432b830db0d0084929bd"
          }
        },
        "181753cc0e894a649eec48e28c4a9b60": {
          "model_module": "@jupyter-widgets/controls",
          "model_module_version": "1.5.0",
          "model_name": "HTMLModel",
          "state": {
            "_dom_classes": [],
            "_model_module": "@jupyter-widgets/controls",
            "_model_module_version": "1.5.0",
            "_model_name": "HTMLModel",
            "_view_count": null,
            "_view_module": "@jupyter-widgets/controls",
            "_view_module_version": "1.5.0",
            "_view_name": "HTMLView",
            "description": "",
            "description_tooltip": null,
            "layout": "IPY_MODEL_a30e858c077c4fd5b78342ec99549ef6",
            "placeholder": "​",
            "style": "IPY_MODEL_fde281f4577c41b4a637763facdfeafa",
            "value": " 498M/498M [00:13&lt;00:00, 36.8MB/s]"
          }
        },
        "1adc1a4744bd40bd8eb70029de890bec": {
          "model_module": "@jupyter-widgets/controls",
          "model_module_version": "1.5.0",
          "model_name": "HTMLModel",
          "state": {
            "_dom_classes": [],
            "_model_module": "@jupyter-widgets/controls",
            "_model_module_version": "1.5.0",
            "_model_name": "HTMLModel",
            "_view_count": null,
            "_view_module": "@jupyter-widgets/controls",
            "_view_module_version": "1.5.0",
            "_view_name": "HTMLView",
            "description": "",
            "description_tooltip": null,
            "layout": "IPY_MODEL_91d740d53f834dce8b5a47c55e3d5204",
            "placeholder": "​",
            "style": "IPY_MODEL_63a54c3afd9f486db4a7d2012c0466ac",
            "value": "tokenizer_config.json: 100%"
          }
        },
        "1fa1830785274521affdcfeb095cf29f": {
          "model_module": "@jupyter-widgets/base",
          "model_module_version": "1.2.0",
          "model_name": "LayoutModel",
          "state": {
            "_model_module": "@jupyter-widgets/base",
            "_model_module_version": "1.2.0",
            "_model_name": "LayoutModel",
            "_view_count": null,
            "_view_module": "@jupyter-widgets/base",
            "_view_module_version": "1.2.0",
            "_view_name": "LayoutView",
            "align_content": null,
            "align_items": null,
            "align_self": null,
            "border": null,
            "bottom": null,
            "display": null,
            "flex": null,
            "flex_flow": null,
            "grid_area": null,
            "grid_auto_columns": null,
            "grid_auto_flow": null,
            "grid_auto_rows": null,
            "grid_column": null,
            "grid_gap": null,
            "grid_row": null,
            "grid_template_areas": null,
            "grid_template_columns": null,
            "grid_template_rows": null,
            "height": null,
            "justify_content": null,
            "justify_items": null,
            "left": null,
            "margin": null,
            "max_height": null,
            "max_width": null,
            "min_height": null,
            "min_width": null,
            "object_fit": null,
            "object_position": null,
            "order": null,
            "overflow": null,
            "overflow_x": null,
            "overflow_y": null,
            "padding": null,
            "right": null,
            "top": null,
            "visibility": null,
            "width": null
          }
        },
        "242d7124545446f7b3e5199badef2a89": {
          "model_module": "@jupyter-widgets/base",
          "model_module_version": "1.2.0",
          "model_name": "LayoutModel",
          "state": {
            "_model_module": "@jupyter-widgets/base",
            "_model_module_version": "1.2.0",
            "_model_name": "LayoutModel",
            "_view_count": null,
            "_view_module": "@jupyter-widgets/base",
            "_view_module_version": "1.2.0",
            "_view_name": "LayoutView",
            "align_content": null,
            "align_items": null,
            "align_self": null,
            "border": null,
            "bottom": null,
            "display": null,
            "flex": null,
            "flex_flow": null,
            "grid_area": null,
            "grid_auto_columns": null,
            "grid_auto_flow": null,
            "grid_auto_rows": null,
            "grid_column": null,
            "grid_gap": null,
            "grid_row": null,
            "grid_template_areas": null,
            "grid_template_columns": null,
            "grid_template_rows": null,
            "height": null,
            "justify_content": null,
            "justify_items": null,
            "left": null,
            "margin": null,
            "max_height": null,
            "max_width": null,
            "min_height": null,
            "min_width": null,
            "object_fit": null,
            "object_position": null,
            "order": null,
            "overflow": null,
            "overflow_x": null,
            "overflow_y": null,
            "padding": null,
            "right": null,
            "top": null,
            "visibility": null,
            "width": null
          }
        },
        "2451dea2a6ba4caca079be30307ed9b8": {
          "model_module": "@jupyter-widgets/base",
          "model_module_version": "1.2.0",
          "model_name": "LayoutModel",
          "state": {
            "_model_module": "@jupyter-widgets/base",
            "_model_module_version": "1.2.0",
            "_model_name": "LayoutModel",
            "_view_count": null,
            "_view_module": "@jupyter-widgets/base",
            "_view_module_version": "1.2.0",
            "_view_name": "LayoutView",
            "align_content": null,
            "align_items": null,
            "align_self": null,
            "border": null,
            "bottom": null,
            "display": null,
            "flex": null,
            "flex_flow": null,
            "grid_area": null,
            "grid_auto_columns": null,
            "grid_auto_flow": null,
            "grid_auto_rows": null,
            "grid_column": null,
            "grid_gap": null,
            "grid_row": null,
            "grid_template_areas": null,
            "grid_template_columns": null,
            "grid_template_rows": null,
            "height": null,
            "justify_content": null,
            "justify_items": null,
            "left": null,
            "margin": null,
            "max_height": null,
            "max_width": null,
            "min_height": null,
            "min_width": null,
            "object_fit": null,
            "object_position": null,
            "order": null,
            "overflow": null,
            "overflow_x": null,
            "overflow_y": null,
            "padding": null,
            "right": null,
            "top": null,
            "visibility": null,
            "width": "20px"
          }
        },
        "24de456823ee4e5ab9520c90f9295e09": {
          "model_module": "@jupyter-widgets/controls",
          "model_module_version": "1.5.0",
          "model_name": "FloatProgressModel",
          "state": {
            "_dom_classes": [],
            "_model_module": "@jupyter-widgets/controls",
            "_model_module_version": "1.5.0",
            "_model_name": "FloatProgressModel",
            "_view_count": null,
            "_view_module": "@jupyter-widgets/controls",
            "_view_module_version": "1.5.0",
            "_view_name": "ProgressView",
            "bar_style": "success",
            "description": "",
            "description_tooltip": null,
            "layout": "IPY_MODEL_ddd952eb19db433a935e2bb1e35a260c",
            "max": 1910,
            "min": 0,
            "orientation": "horizontal",
            "style": "IPY_MODEL_a33d99e737274ab1b8af0970a70071be",
            "value": 1910
          }
        },
        "317e28552cf2416da70b5c5dadf5cec2": {
          "model_module": "@jupyter-widgets/base",
          "model_module_version": "1.2.0",
          "model_name": "LayoutModel",
          "state": {
            "_model_module": "@jupyter-widgets/base",
            "_model_module_version": "1.2.0",
            "_model_name": "LayoutModel",
            "_view_count": null,
            "_view_module": "@jupyter-widgets/base",
            "_view_module_version": "1.2.0",
            "_view_name": "LayoutView",
            "align_content": null,
            "align_items": null,
            "align_self": null,
            "border": null,
            "bottom": null,
            "display": null,
            "flex": null,
            "flex_flow": null,
            "grid_area": null,
            "grid_auto_columns": null,
            "grid_auto_flow": null,
            "grid_auto_rows": null,
            "grid_column": null,
            "grid_gap": null,
            "grid_row": null,
            "grid_template_areas": null,
            "grid_template_columns": null,
            "grid_template_rows": null,
            "height": null,
            "justify_content": null,
            "justify_items": null,
            "left": null,
            "margin": null,
            "max_height": null,
            "max_width": null,
            "min_height": null,
            "min_width": null,
            "object_fit": null,
            "object_position": null,
            "order": null,
            "overflow": null,
            "overflow_x": null,
            "overflow_y": null,
            "padding": null,
            "right": null,
            "top": null,
            "visibility": null,
            "width": null
          }
        },
        "34c4f26d22ad42baa081cfb52117ee24": {
          "model_module": "@jupyter-widgets/controls",
          "model_module_version": "1.5.0",
          "model_name": "DescriptionStyleModel",
          "state": {
            "_model_module": "@jupyter-widgets/controls",
            "_model_module_version": "1.5.0",
            "_model_name": "DescriptionStyleModel",
            "_view_count": null,
            "_view_module": "@jupyter-widgets/base",
            "_view_module_version": "1.2.0",
            "_view_name": "StyleView",
            "description_width": ""
          }
        },
        "360ddfa7fe3940a5839477f0f4977623": {
          "model_module": "@jupyter-widgets/controls",
          "model_module_version": "1.5.0",
          "model_name": "HTMLModel",
          "state": {
            "_dom_classes": [],
            "_model_module": "@jupyter-widgets/controls",
            "_model_module_version": "1.5.0",
            "_model_name": "HTMLModel",
            "_view_count": null,
            "_view_module": "@jupyter-widgets/controls",
            "_view_module_version": "1.5.0",
            "_view_name": "HTMLView",
            "description": "",
            "description_tooltip": null,
            "layout": "IPY_MODEL_00bc0dd420bc4607bb91ec664d3a26cb",
            "placeholder": "​",
            "style": "IPY_MODEL_8bbd58ea343d40a3942405b16b1bbb04",
            "value": " 1910/1910 [00:00&lt;00:00, 6198.93 examples/s]"
          }
        },
        "454c5fefa29447b4894ead2f83c5414e": {
          "model_module": "@jupyter-widgets/controls",
          "model_module_version": "1.5.0",
          "model_name": "ProgressStyleModel",
          "state": {
            "_model_module": "@jupyter-widgets/controls",
            "_model_module_version": "1.5.0",
            "_model_name": "ProgressStyleModel",
            "_view_count": null,
            "_view_module": "@jupyter-widgets/base",
            "_view_module_version": "1.2.0",
            "_view_name": "StyleView",
            "bar_color": null,
            "description_width": ""
          }
        },
        "46ecdb11b4f8453cb15d493f315a9b08": {
          "model_module": "@jupyter-widgets/controls",
          "model_module_version": "1.5.0",
          "model_name": "FloatProgressModel",
          "state": {
            "_dom_classes": [],
            "_model_module": "@jupyter-widgets/controls",
            "_model_module_version": "1.5.0",
            "_model_name": "FloatProgressModel",
            "_view_count": null,
            "_view_module": "@jupyter-widgets/controls",
            "_view_module_version": "1.5.0",
            "_view_name": "ProgressView",
            "bar_style": "success",
            "description": "",
            "description_tooltip": null,
            "layout": "IPY_MODEL_83292d9f468e4bb4867a23d1edc52f99",
            "max": 7636,
            "min": 0,
            "orientation": "horizontal",
            "style": "IPY_MODEL_d4884be7d32d41cdbb42c6cbdb7d3c2f",
            "value": 7636
          }
        },
        "48c4462c5d4040cfa2ac9cb5832ba166": {
          "model_module": "@jupyter-widgets/controls",
          "model_module_version": "1.5.0",
          "model_name": "HTMLModel",
          "state": {
            "_dom_classes": [],
            "_model_module": "@jupyter-widgets/controls",
            "_model_module_version": "1.5.0",
            "_model_name": "HTMLModel",
            "_view_count": null,
            "_view_module": "@jupyter-widgets/controls",
            "_view_module_version": "1.5.0",
            "_view_name": "HTMLView",
            "description": "",
            "description_tooltip": null,
            "layout": "IPY_MODEL_779d57fa669449dda9e500a60e63285a",
            "placeholder": "​",
            "style": "IPY_MODEL_0babce70a64e434db860a331569b3618",
            "value": " 229k/? [00:00&lt;00:00, 5.85MB/s]"
          }
        },
        "4e7050d097024b82879802995d72cc6d": {
          "model_module": "@jupyter-widgets/base",
          "model_module_version": "1.2.0",
          "model_name": "LayoutModel",
          "state": {
            "_model_module": "@jupyter-widgets/base",
            "_model_module_version": "1.2.0",
            "_model_name": "LayoutModel",
            "_view_count": null,
            "_view_module": "@jupyter-widgets/base",
            "_view_module_version": "1.2.0",
            "_view_name": "LayoutView",
            "align_content": null,
            "align_items": null,
            "align_self": null,
            "border": null,
            "bottom": null,
            "display": null,
            "flex": null,
            "flex_flow": null,
            "grid_area": null,
            "grid_auto_columns": null,
            "grid_auto_flow": null,
            "grid_auto_rows": null,
            "grid_column": null,
            "grid_gap": null,
            "grid_row": null,
            "grid_template_areas": null,
            "grid_template_columns": null,
            "grid_template_rows": null,
            "height": null,
            "justify_content": null,
            "justify_items": null,
            "left": null,
            "margin": null,
            "max_height": null,
            "max_width": null,
            "min_height": null,
            "min_width": null,
            "object_fit": null,
            "object_position": null,
            "order": null,
            "overflow": null,
            "overflow_x": null,
            "overflow_y": null,
            "padding": null,
            "right": null,
            "top": null,
            "visibility": null,
            "width": null
          }
        },
        "4fceea7aa42740aa866450e7e5c217ec": {
          "model_module": "@jupyter-widgets/base",
          "model_module_version": "1.2.0",
          "model_name": "LayoutModel",
          "state": {
            "_model_module": "@jupyter-widgets/base",
            "_model_module_version": "1.2.0",
            "_model_name": "LayoutModel",
            "_view_count": null,
            "_view_module": "@jupyter-widgets/base",
            "_view_module_version": "1.2.0",
            "_view_name": "LayoutView",
            "align_content": null,
            "align_items": null,
            "align_self": null,
            "border": null,
            "bottom": null,
            "display": null,
            "flex": null,
            "flex_flow": null,
            "grid_area": null,
            "grid_auto_columns": null,
            "grid_auto_flow": null,
            "grid_auto_rows": null,
            "grid_column": null,
            "grid_gap": null,
            "grid_row": null,
            "grid_template_areas": null,
            "grid_template_columns": null,
            "grid_template_rows": null,
            "height": null,
            "justify_content": null,
            "justify_items": null,
            "left": null,
            "margin": null,
            "max_height": null,
            "max_width": null,
            "min_height": null,
            "min_width": null,
            "object_fit": null,
            "object_position": null,
            "order": null,
            "overflow": null,
            "overflow_x": null,
            "overflow_y": null,
            "padding": null,
            "right": null,
            "top": null,
            "visibility": null,
            "width": null
          }
        },
        "51f3b4a57aed41c3af1a13cde6d40cf5": {
          "model_module": "@jupyter-widgets/base",
          "model_module_version": "1.2.0",
          "model_name": "LayoutModel",
          "state": {
            "_model_module": "@jupyter-widgets/base",
            "_model_module_version": "1.2.0",
            "_model_name": "LayoutModel",
            "_view_count": null,
            "_view_module": "@jupyter-widgets/base",
            "_view_module_version": "1.2.0",
            "_view_name": "LayoutView",
            "align_content": null,
            "align_items": null,
            "align_self": null,
            "border": null,
            "bottom": null,
            "display": null,
            "flex": null,
            "flex_flow": null,
            "grid_area": null,
            "grid_auto_columns": null,
            "grid_auto_flow": null,
            "grid_auto_rows": null,
            "grid_column": null,
            "grid_gap": null,
            "grid_row": null,
            "grid_template_areas": null,
            "grid_template_columns": null,
            "grid_template_rows": null,
            "height": null,
            "justify_content": null,
            "justify_items": null,
            "left": null,
            "margin": null,
            "max_height": null,
            "max_width": null,
            "min_height": null,
            "min_width": null,
            "object_fit": null,
            "object_position": null,
            "order": null,
            "overflow": null,
            "overflow_x": null,
            "overflow_y": null,
            "padding": null,
            "right": null,
            "top": null,
            "visibility": null,
            "width": null
          }
        },
        "547c82eddc094a60874339e5a722f9cc": {
          "model_module": "@jupyter-widgets/controls",
          "model_module_version": "1.5.0",
          "model_name": "HBoxModel",
          "state": {
            "_dom_classes": [],
            "_model_module": "@jupyter-widgets/controls",
            "_model_module_version": "1.5.0",
            "_model_name": "HBoxModel",
            "_view_count": null,
            "_view_module": "@jupyter-widgets/controls",
            "_view_module_version": "1.5.0",
            "_view_name": "HBoxView",
            "box_style": "",
            "children": [
              "IPY_MODEL_fb4e685394544915b25893782f582cb0",
              "IPY_MODEL_862d12d69d7945a6ac82d3a06315004c",
              "IPY_MODEL_55b80ac01069420eb25a50f4db73948e"
            ],
            "layout": "IPY_MODEL_51f3b4a57aed41c3af1a13cde6d40cf5"
          }
        },
        "55b80ac01069420eb25a50f4db73948e": {
          "model_module": "@jupyter-widgets/controls",
          "model_module_version": "1.5.0",
          "model_name": "HTMLModel",
          "state": {
            "_dom_classes": [],
            "_model_module": "@jupyter-widgets/controls",
            "_model_module_version": "1.5.0",
            "_model_name": "HTMLModel",
            "_view_count": null,
            "_view_module": "@jupyter-widgets/controls",
            "_view_module_version": "1.5.0",
            "_view_name": "HTMLView",
            "description": "",
            "description_tooltip": null,
            "layout": "IPY_MODEL_65c67225e6de4c0ebecd1c40cbf201fb",
            "placeholder": "​",
            "style": "IPY_MODEL_a3f62236a5aa4360b2d9f6fde0513c94",
            "value": " 1.53k/? [00:00&lt;00:00, 133kB/s]"
          }
        },
        "5b102596d0ba4fb6a6adb1a4a734a0bc": {
          "model_module": "@jupyter-widgets/controls",
          "model_module_version": "1.5.0",
          "model_name": "HBoxModel",
          "state": {
            "_dom_classes": [],
            "_model_module": "@jupyter-widgets/controls",
            "_model_module_version": "1.5.0",
            "_model_name": "HBoxModel",
            "_view_count": null,
            "_view_module": "@jupyter-widgets/controls",
            "_view_module_version": "1.5.0",
            "_view_name": "HBoxView",
            "box_style": "",
            "children": [
              "IPY_MODEL_ecbc8bc266264e9f991faa69c313d295",
              "IPY_MODEL_02d0816644ef4492aa4b655a2c0fff49",
              "IPY_MODEL_48c4462c5d4040cfa2ac9cb5832ba166"
            ],
            "layout": "IPY_MODEL_7599a9368f7549c7b2a19b6112a64273"
          }
        },
        "5d166325f0fd46e1a9242c84445c7e76": {
          "model_module": "@jupyter-widgets/controls",
          "model_module_version": "1.5.0",
          "model_name": "HTMLModel",
          "state": {
            "_dom_classes": [],
            "_model_module": "@jupyter-widgets/controls",
            "_model_module_version": "1.5.0",
            "_model_name": "HTMLModel",
            "_view_count": null,
            "_view_module": "@jupyter-widgets/controls",
            "_view_module_version": "1.5.0",
            "_view_name": "HTMLView",
            "description": "",
            "description_tooltip": null,
            "layout": "IPY_MODEL_317e28552cf2416da70b5c5dadf5cec2",
            "placeholder": "​",
            "style": "IPY_MODEL_7ccf4c1f93ec482b977b6d5369cece4e",
            "value": "Map: 100%"
          }
        },
        "63a54c3afd9f486db4a7d2012c0466ac": {
          "model_module": "@jupyter-widgets/controls",
          "model_module_version": "1.5.0",
          "model_name": "DescriptionStyleModel",
          "state": {
            "_model_module": "@jupyter-widgets/controls",
            "_model_module_version": "1.5.0",
            "_model_name": "DescriptionStyleModel",
            "_view_count": null,
            "_view_module": "@jupyter-widgets/base",
            "_view_module_version": "1.2.0",
            "_view_name": "StyleView",
            "description_width": ""
          }
        },
        "65c67225e6de4c0ebecd1c40cbf201fb": {
          "model_module": "@jupyter-widgets/base",
          "model_module_version": "1.2.0",
          "model_name": "LayoutModel",
          "state": {
            "_model_module": "@jupyter-widgets/base",
            "_model_module_version": "1.2.0",
            "_model_name": "LayoutModel",
            "_view_count": null,
            "_view_module": "@jupyter-widgets/base",
            "_view_module_version": "1.2.0",
            "_view_name": "LayoutView",
            "align_content": null,
            "align_items": null,
            "align_self": null,
            "border": null,
            "bottom": null,
            "display": null,
            "flex": null,
            "flex_flow": null,
            "grid_area": null,
            "grid_auto_columns": null,
            "grid_auto_flow": null,
            "grid_auto_rows": null,
            "grid_column": null,
            "grid_gap": null,
            "grid_row": null,
            "grid_template_areas": null,
            "grid_template_columns": null,
            "grid_template_rows": null,
            "height": null,
            "justify_content": null,
            "justify_items": null,
            "left": null,
            "margin": null,
            "max_height": null,
            "max_width": null,
            "min_height": null,
            "min_width": null,
            "object_fit": null,
            "object_position": null,
            "order": null,
            "overflow": null,
            "overflow_x": null,
            "overflow_y": null,
            "padding": null,
            "right": null,
            "top": null,
            "visibility": null,
            "width": null
          }
        },
        "660b1b190a494ce2b59ece82811fbd07": {
          "model_module": "@jupyter-widgets/controls",
          "model_module_version": "1.5.0",
          "model_name": "HTMLModel",
          "state": {
            "_dom_classes": [],
            "_model_module": "@jupyter-widgets/controls",
            "_model_module_version": "1.5.0",
            "_model_name": "HTMLModel",
            "_view_count": null,
            "_view_module": "@jupyter-widgets/controls",
            "_view_module_version": "1.5.0",
            "_view_name": "HTMLView",
            "description": "",
            "description_tooltip": null,
            "layout": "IPY_MODEL_82f95bd85d7940918dcbfa81f496f878",
            "placeholder": "​",
            "style": "IPY_MODEL_b3ab27de69b9450b8571342d417330fa",
            "value": " 112/112 [00:00&lt;00:00, 12.3kB/s]"
          }
        },
        "6f0ae3af6138408f833c0eea4d5395bb": {
          "model_module": "@jupyter-widgets/controls",
          "model_module_version": "1.5.0",
          "model_name": "DescriptionStyleModel",
          "state": {
            "_model_module": "@jupyter-widgets/controls",
            "_model_module_version": "1.5.0",
            "_model_name": "DescriptionStyleModel",
            "_view_count": null,
            "_view_module": "@jupyter-widgets/base",
            "_view_module_version": "1.2.0",
            "_view_name": "StyleView",
            "description_width": ""
          }
        },
        "7599a9368f7549c7b2a19b6112a64273": {
          "model_module": "@jupyter-widgets/base",
          "model_module_version": "1.2.0",
          "model_name": "LayoutModel",
          "state": {
            "_model_module": "@jupyter-widgets/base",
            "_model_module_version": "1.2.0",
            "_model_name": "LayoutModel",
            "_view_count": null,
            "_view_module": "@jupyter-widgets/base",
            "_view_module_version": "1.2.0",
            "_view_name": "LayoutView",
            "align_content": null,
            "align_items": null,
            "align_self": null,
            "border": null,
            "bottom": null,
            "display": null,
            "flex": null,
            "flex_flow": null,
            "grid_area": null,
            "grid_auto_columns": null,
            "grid_auto_flow": null,
            "grid_auto_rows": null,
            "grid_column": null,
            "grid_gap": null,
            "grid_row": null,
            "grid_template_areas": null,
            "grid_template_columns": null,
            "grid_template_rows": null,
            "height": null,
            "justify_content": null,
            "justify_items": null,
            "left": null,
            "margin": null,
            "max_height": null,
            "max_width": null,
            "min_height": null,
            "min_width": null,
            "object_fit": null,
            "object_position": null,
            "order": null,
            "overflow": null,
            "overflow_x": null,
            "overflow_y": null,
            "padding": null,
            "right": null,
            "top": null,
            "visibility": null,
            "width": null
          }
        },
        "768e1dfb105e4467b5feb5d05c82f449": {
          "model_module": "@jupyter-widgets/base",
          "model_module_version": "1.2.0",
          "model_name": "LayoutModel",
          "state": {
            "_model_module": "@jupyter-widgets/base",
            "_model_module_version": "1.2.0",
            "_model_name": "LayoutModel",
            "_view_count": null,
            "_view_module": "@jupyter-widgets/base",
            "_view_module_version": "1.2.0",
            "_view_name": "LayoutView",
            "align_content": null,
            "align_items": null,
            "align_self": null,
            "border": null,
            "bottom": null,
            "display": null,
            "flex": null,
            "flex_flow": null,
            "grid_area": null,
            "grid_auto_columns": null,
            "grid_auto_flow": null,
            "grid_auto_rows": null,
            "grid_column": null,
            "grid_gap": null,
            "grid_row": null,
            "grid_template_areas": null,
            "grid_template_columns": null,
            "grid_template_rows": null,
            "height": null,
            "justify_content": null,
            "justify_items": null,
            "left": null,
            "margin": null,
            "max_height": null,
            "max_width": null,
            "min_height": null,
            "min_width": null,
            "object_fit": null,
            "object_position": null,
            "order": null,
            "overflow": null,
            "overflow_x": null,
            "overflow_y": null,
            "padding": null,
            "right": null,
            "top": null,
            "visibility": null,
            "width": null
          }
        },
        "779d57fa669449dda9e500a60e63285a": {
          "model_module": "@jupyter-widgets/base",
          "model_module_version": "1.2.0",
          "model_name": "LayoutModel",
          "state": {
            "_model_module": "@jupyter-widgets/base",
            "_model_module_version": "1.2.0",
            "_model_name": "LayoutModel",
            "_view_count": null,
            "_view_module": "@jupyter-widgets/base",
            "_view_module_version": "1.2.0",
            "_view_name": "LayoutView",
            "align_content": null,
            "align_items": null,
            "align_self": null,
            "border": null,
            "bottom": null,
            "display": null,
            "flex": null,
            "flex_flow": null,
            "grid_area": null,
            "grid_auto_columns": null,
            "grid_auto_flow": null,
            "grid_auto_rows": null,
            "grid_column": null,
            "grid_gap": null,
            "grid_row": null,
            "grid_template_areas": null,
            "grid_template_columns": null,
            "grid_template_rows": null,
            "height": null,
            "justify_content": null,
            "justify_items": null,
            "left": null,
            "margin": null,
            "max_height": null,
            "max_width": null,
            "min_height": null,
            "min_width": null,
            "object_fit": null,
            "object_position": null,
            "order": null,
            "overflow": null,
            "overflow_x": null,
            "overflow_y": null,
            "padding": null,
            "right": null,
            "top": null,
            "visibility": null,
            "width": null
          }
        },
        "77fc08998e8d42889907b64cddfb9402": {
          "model_module": "@jupyter-widgets/controls",
          "model_module_version": "1.5.0",
          "model_name": "HTMLModel",
          "state": {
            "_dom_classes": [],
            "_model_module": "@jupyter-widgets/controls",
            "_model_module_version": "1.5.0",
            "_model_name": "HTMLModel",
            "_view_count": null,
            "_view_module": "@jupyter-widgets/controls",
            "_view_module_version": "1.5.0",
            "_view_name": "HTMLView",
            "description": "",
            "description_tooltip": null,
            "layout": "IPY_MODEL_768e1dfb105e4467b5feb5d05c82f449",
            "placeholder": "​",
            "style": "IPY_MODEL_a6cbe0d68d554985ad9a54611b4fb285",
            "value": "pytorch_model.bin: 100%"
          }
        },
        "7b3f212c3ace4625a99c728bee102199": {
          "model_module": "@jupyter-widgets/controls",
          "model_module_version": "1.5.0",
          "model_name": "ProgressStyleModel",
          "state": {
            "_model_module": "@jupyter-widgets/controls",
            "_model_module_version": "1.5.0",
            "_model_name": "ProgressStyleModel",
            "_view_count": null,
            "_view_module": "@jupyter-widgets/base",
            "_view_module_version": "1.2.0",
            "_view_name": "StyleView",
            "bar_color": null,
            "description_width": ""
          }
        },
        "7ccf4c1f93ec482b977b6d5369cece4e": {
          "model_module": "@jupyter-widgets/controls",
          "model_module_version": "1.5.0",
          "model_name": "DescriptionStyleModel",
          "state": {
            "_model_module": "@jupyter-widgets/controls",
            "_model_module_version": "1.5.0",
            "_model_name": "DescriptionStyleModel",
            "_view_count": null,
            "_view_module": "@jupyter-widgets/base",
            "_view_module_version": "1.2.0",
            "_view_name": "StyleView",
            "description_width": ""
          }
        },
        "7d004f54ef5e414ca0e07ea7775e5e92": {
          "model_module": "@jupyter-widgets/controls",
          "model_module_version": "1.5.0",
          "model_name": "HBoxModel",
          "state": {
            "_dom_classes": [],
            "_model_module": "@jupyter-widgets/controls",
            "_model_module_version": "1.5.0",
            "_model_name": "HBoxModel",
            "_view_count": null,
            "_view_module": "@jupyter-widgets/controls",
            "_view_module_version": "1.5.0",
            "_view_name": "HBoxView",
            "box_style": "",
            "children": [
              "IPY_MODEL_1adc1a4744bd40bd8eb70029de890bec",
              "IPY_MODEL_96b09f3918ba444eb053933f14660228",
              "IPY_MODEL_cdaa2fa7f81840c98e9377d563591f16"
            ],
            "layout": "IPY_MODEL_d2b56c37bf1d4deeb74fd18ad9598885"
          }
        },
        "7ef1e226a5794e539ea4df3d0cb36473": {
          "model_module": "@jupyter-widgets/controls",
          "model_module_version": "1.5.0",
          "model_name": "HBoxModel",
          "state": {
            "_dom_classes": [],
            "_model_module": "@jupyter-widgets/controls",
            "_model_module_version": "1.5.0",
            "_model_name": "HBoxModel",
            "_view_count": null,
            "_view_module": "@jupyter-widgets/controls",
            "_view_module_version": "1.5.0",
            "_view_name": "HBoxView",
            "box_style": "",
            "children": [
              "IPY_MODEL_f67810578a754c01ae01b7ebccbbd07e",
              "IPY_MODEL_24de456823ee4e5ab9520c90f9295e09",
              "IPY_MODEL_360ddfa7fe3940a5839477f0f4977623"
            ],
            "layout": "IPY_MODEL_242d7124545446f7b3e5199badef2a89"
          }
        },
        "82f95bd85d7940918dcbfa81f496f878": {
          "model_module": "@jupyter-widgets/base",
          "model_module_version": "1.2.0",
          "model_name": "LayoutModel",
          "state": {
            "_model_module": "@jupyter-widgets/base",
            "_model_module_version": "1.2.0",
            "_model_name": "LayoutModel",
            "_view_count": null,
            "_view_module": "@jupyter-widgets/base",
            "_view_module_version": "1.2.0",
            "_view_name": "LayoutView",
            "align_content": null,
            "align_items": null,
            "align_self": null,
            "border": null,
            "bottom": null,
            "display": null,
            "flex": null,
            "flex_flow": null,
            "grid_area": null,
            "grid_auto_columns": null,
            "grid_auto_flow": null,
            "grid_auto_rows": null,
            "grid_column": null,
            "grid_gap": null,
            "grid_row": null,
            "grid_template_areas": null,
            "grid_template_columns": null,
            "grid_template_rows": null,
            "height": null,
            "justify_content": null,
            "justify_items": null,
            "left": null,
            "margin": null,
            "max_height": null,
            "max_width": null,
            "min_height": null,
            "min_width": null,
            "object_fit": null,
            "object_position": null,
            "order": null,
            "overflow": null,
            "overflow_x": null,
            "overflow_y": null,
            "padding": null,
            "right": null,
            "top": null,
            "visibility": null,
            "width": null
          }
        },
        "83292d9f468e4bb4867a23d1edc52f99": {
          "model_module": "@jupyter-widgets/base",
          "model_module_version": "1.2.0",
          "model_name": "LayoutModel",
          "state": {
            "_model_module": "@jupyter-widgets/base",
            "_model_module_version": "1.2.0",
            "_model_name": "LayoutModel",
            "_view_count": null,
            "_view_module": "@jupyter-widgets/base",
            "_view_module_version": "1.2.0",
            "_view_name": "LayoutView",
            "align_content": null,
            "align_items": null,
            "align_self": null,
            "border": null,
            "bottom": null,
            "display": null,
            "flex": null,
            "flex_flow": null,
            "grid_area": null,
            "grid_auto_columns": null,
            "grid_auto_flow": null,
            "grid_auto_rows": null,
            "grid_column": null,
            "grid_gap": null,
            "grid_row": null,
            "grid_template_areas": null,
            "grid_template_columns": null,
            "grid_template_rows": null,
            "height": null,
            "justify_content": null,
            "justify_items": null,
            "left": null,
            "margin": null,
            "max_height": null,
            "max_width": null,
            "min_height": null,
            "min_width": null,
            "object_fit": null,
            "object_position": null,
            "order": null,
            "overflow": null,
            "overflow_x": null,
            "overflow_y": null,
            "padding": null,
            "right": null,
            "top": null,
            "visibility": null,
            "width": null
          }
        },
        "84271781eed54136a0a28f22ff46ca68": {
          "model_module": "@jupyter-widgets/controls",
          "model_module_version": "1.5.0",
          "model_name": "FloatProgressModel",
          "state": {
            "_dom_classes": [],
            "_model_module": "@jupyter-widgets/controls",
            "_model_module_version": "1.5.0",
            "_model_name": "FloatProgressModel",
            "_view_count": null,
            "_view_module": "@jupyter-widgets/controls",
            "_view_module_version": "1.5.0",
            "_view_name": "ProgressView",
            "bar_style": "success",
            "description": "",
            "description_tooltip": null,
            "layout": "IPY_MODEL_d412cd86060a4b6894eca0b4f0ed0c2f",
            "max": 497810400,
            "min": 0,
            "orientation": "horizontal",
            "style": "IPY_MODEL_a4420a40197b4848a1f0298daf245289",
            "value": 497810400
          }
        },
        "862d12d69d7945a6ac82d3a06315004c": {
          "model_module": "@jupyter-widgets/controls",
          "model_module_version": "1.5.0",
          "model_name": "FloatProgressModel",
          "state": {
            "_dom_classes": [],
            "_model_module": "@jupyter-widgets/controls",
            "_model_module_version": "1.5.0",
            "_model_name": "FloatProgressModel",
            "_view_count": null,
            "_view_module": "@jupyter-widgets/controls",
            "_view_module_version": "1.5.0",
            "_view_name": "ProgressView",
            "bar_style": "success",
            "description": "",
            "description_tooltip": null,
            "layout": "IPY_MODEL_2451dea2a6ba4caca079be30307ed9b8",
            "max": 1,
            "min": 0,
            "orientation": "horizontal",
            "style": "IPY_MODEL_b4d29baff5c44c3cbedfa7ec3f3b6553",
            "value": 1
          }
        },
        "8bbd58ea343d40a3942405b16b1bbb04": {
          "model_module": "@jupyter-widgets/controls",
          "model_module_version": "1.5.0",
          "model_name": "DescriptionStyleModel",
          "state": {
            "_model_module": "@jupyter-widgets/controls",
            "_model_module_version": "1.5.0",
            "_model_name": "DescriptionStyleModel",
            "_view_count": null,
            "_view_module": "@jupyter-widgets/base",
            "_view_module_version": "1.2.0",
            "_view_name": "StyleView",
            "description_width": ""
          }
        },
        "8c474c7da2f84ba8a5342ff4c32eb125": {
          "model_module": "@jupyter-widgets/controls",
          "model_module_version": "1.5.0",
          "model_name": "DescriptionStyleModel",
          "state": {
            "_model_module": "@jupyter-widgets/controls",
            "_model_module_version": "1.5.0",
            "_model_name": "DescriptionStyleModel",
            "_view_count": null,
            "_view_module": "@jupyter-widgets/base",
            "_view_module_version": "1.2.0",
            "_view_name": "StyleView",
            "description_width": ""
          }
        },
        "8e98d5c00d4b466c977faf6ef051b082": {
          "model_module": "@jupyter-widgets/controls",
          "model_module_version": "1.5.0",
          "model_name": "FloatProgressModel",
          "state": {
            "_dom_classes": [],
            "_model_module": "@jupyter-widgets/controls",
            "_model_module_version": "1.5.0",
            "_model_name": "FloatProgressModel",
            "_view_count": null,
            "_view_module": "@jupyter-widgets/controls",
            "_view_module_version": "1.5.0",
            "_view_name": "ProgressView",
            "bar_style": "success",
            "description": "",
            "description_tooltip": null,
            "layout": "IPY_MODEL_9744e29aafe549d9a205c37e3af1e7d0",
            "max": 112,
            "min": 0,
            "orientation": "horizontal",
            "style": "IPY_MODEL_454c5fefa29447b4894ead2f83c5414e",
            "value": 112
          }
        },
        "91d740d53f834dce8b5a47c55e3d5204": {
          "model_module": "@jupyter-widgets/base",
          "model_module_version": "1.2.0",
          "model_name": "LayoutModel",
          "state": {
            "_model_module": "@jupyter-widgets/base",
            "_model_module_version": "1.2.0",
            "_model_name": "LayoutModel",
            "_view_count": null,
            "_view_module": "@jupyter-widgets/base",
            "_view_module_version": "1.2.0",
            "_view_name": "LayoutView",
            "align_content": null,
            "align_items": null,
            "align_self": null,
            "border": null,
            "bottom": null,
            "display": null,
            "flex": null,
            "flex_flow": null,
            "grid_area": null,
            "grid_auto_columns": null,
            "grid_auto_flow": null,
            "grid_auto_rows": null,
            "grid_column": null,
            "grid_gap": null,
            "grid_row": null,
            "grid_template_areas": null,
            "grid_template_columns": null,
            "grid_template_rows": null,
            "height": null,
            "justify_content": null,
            "justify_items": null,
            "left": null,
            "margin": null,
            "max_height": null,
            "max_width": null,
            "min_height": null,
            "min_width": null,
            "object_fit": null,
            "object_position": null,
            "order": null,
            "overflow": null,
            "overflow_x": null,
            "overflow_y": null,
            "padding": null,
            "right": null,
            "top": null,
            "visibility": null,
            "width": null
          }
        },
        "950698299000438aacb2378485ca3d2f": {
          "model_module": "@jupyter-widgets/controls",
          "model_module_version": "1.5.0",
          "model_name": "HTMLModel",
          "state": {
            "_dom_classes": [],
            "_model_module": "@jupyter-widgets/controls",
            "_model_module_version": "1.5.0",
            "_model_name": "HTMLModel",
            "_view_count": null,
            "_view_module": "@jupyter-widgets/controls",
            "_view_module_version": "1.5.0",
            "_view_name": "HTMLView",
            "description": "",
            "description_tooltip": null,
            "layout": "IPY_MODEL_ec007e1bcda14de186252e0f6bdd03a7",
            "placeholder": "​",
            "style": "IPY_MODEL_a902fbcfef2d4d4dbcab3f19b6d420a5",
            "value": "special_tokens_map.json: 100%"
          }
        },
        "96b09f3918ba444eb053933f14660228": {
          "model_module": "@jupyter-widgets/controls",
          "model_module_version": "1.5.0",
          "model_name": "FloatProgressModel",
          "state": {
            "_dom_classes": [],
            "_model_module": "@jupyter-widgets/controls",
            "_model_module_version": "1.5.0",
            "_model_name": "FloatProgressModel",
            "_view_count": null,
            "_view_module": "@jupyter-widgets/controls",
            "_view_module_version": "1.5.0",
            "_view_name": "ProgressView",
            "bar_style": "success",
            "description": "",
            "description_tooltip": null,
            "layout": "IPY_MODEL_4e7050d097024b82879802995d72cc6d",
            "max": 2,
            "min": 0,
            "orientation": "horizontal",
            "style": "IPY_MODEL_a3c14470c4ee4e15b428c53c09fb2982",
            "value": 2
          }
        },
        "9744e29aafe549d9a205c37e3af1e7d0": {
          "model_module": "@jupyter-widgets/base",
          "model_module_version": "1.2.0",
          "model_name": "LayoutModel",
          "state": {
            "_model_module": "@jupyter-widgets/base",
            "_model_module_version": "1.2.0",
            "_model_name": "LayoutModel",
            "_view_count": null,
            "_view_module": "@jupyter-widgets/base",
            "_view_module_version": "1.2.0",
            "_view_name": "LayoutView",
            "align_content": null,
            "align_items": null,
            "align_self": null,
            "border": null,
            "bottom": null,
            "display": null,
            "flex": null,
            "flex_flow": null,
            "grid_area": null,
            "grid_auto_columns": null,
            "grid_auto_flow": null,
            "grid_auto_rows": null,
            "grid_column": null,
            "grid_gap": null,
            "grid_row": null,
            "grid_template_areas": null,
            "grid_template_columns": null,
            "grid_template_rows": null,
            "height": null,
            "justify_content": null,
            "justify_items": null,
            "left": null,
            "margin": null,
            "max_height": null,
            "max_width": null,
            "min_height": null,
            "min_width": null,
            "object_fit": null,
            "object_position": null,
            "order": null,
            "overflow": null,
            "overflow_x": null,
            "overflow_y": null,
            "padding": null,
            "right": null,
            "top": null,
            "visibility": null,
            "width": null
          }
        },
        "991550e766ba4e7b8316773163aedcae": {
          "model_module": "@jupyter-widgets/base",
          "model_module_version": "1.2.0",
          "model_name": "LayoutModel",
          "state": {
            "_model_module": "@jupyter-widgets/base",
            "_model_module_version": "1.2.0",
            "_model_name": "LayoutModel",
            "_view_count": null,
            "_view_module": "@jupyter-widgets/base",
            "_view_module_version": "1.2.0",
            "_view_name": "LayoutView",
            "align_content": null,
            "align_items": null,
            "align_self": null,
            "border": null,
            "bottom": null,
            "display": null,
            "flex": null,
            "flex_flow": null,
            "grid_area": null,
            "grid_auto_columns": null,
            "grid_auto_flow": null,
            "grid_auto_rows": null,
            "grid_column": null,
            "grid_gap": null,
            "grid_row": null,
            "grid_template_areas": null,
            "grid_template_columns": null,
            "grid_template_rows": null,
            "height": null,
            "justify_content": null,
            "justify_items": null,
            "left": null,
            "margin": null,
            "max_height": null,
            "max_width": null,
            "min_height": null,
            "min_width": null,
            "object_fit": null,
            "object_position": null,
            "order": null,
            "overflow": null,
            "overflow_x": null,
            "overflow_y": null,
            "padding": null,
            "right": null,
            "top": null,
            "visibility": null,
            "width": null
          }
        },
        "a2d43fa0ef934263a4c1179a13b28c01": {
          "model_module": "@jupyter-widgets/base",
          "model_module_version": "1.2.0",
          "model_name": "LayoutModel",
          "state": {
            "_model_module": "@jupyter-widgets/base",
            "_model_module_version": "1.2.0",
            "_model_name": "LayoutModel",
            "_view_count": null,
            "_view_module": "@jupyter-widgets/base",
            "_view_module_version": "1.2.0",
            "_view_name": "LayoutView",
            "align_content": null,
            "align_items": null,
            "align_self": null,
            "border": null,
            "bottom": null,
            "display": null,
            "flex": null,
            "flex_flow": null,
            "grid_area": null,
            "grid_auto_columns": null,
            "grid_auto_flow": null,
            "grid_auto_rows": null,
            "grid_column": null,
            "grid_gap": null,
            "grid_row": null,
            "grid_template_areas": null,
            "grid_template_columns": null,
            "grid_template_rows": null,
            "height": null,
            "justify_content": null,
            "justify_items": null,
            "left": null,
            "margin": null,
            "max_height": null,
            "max_width": null,
            "min_height": null,
            "min_width": null,
            "object_fit": null,
            "object_position": null,
            "order": null,
            "overflow": null,
            "overflow_x": null,
            "overflow_y": null,
            "padding": null,
            "right": null,
            "top": null,
            "visibility": null,
            "width": "20px"
          }
        },
        "a30e858c077c4fd5b78342ec99549ef6": {
          "model_module": "@jupyter-widgets/base",
          "model_module_version": "1.2.0",
          "model_name": "LayoutModel",
          "state": {
            "_model_module": "@jupyter-widgets/base",
            "_model_module_version": "1.2.0",
            "_model_name": "LayoutModel",
            "_view_count": null,
            "_view_module": "@jupyter-widgets/base",
            "_view_module_version": "1.2.0",
            "_view_name": "LayoutView",
            "align_content": null,
            "align_items": null,
            "align_self": null,
            "border": null,
            "bottom": null,
            "display": null,
            "flex": null,
            "flex_flow": null,
            "grid_area": null,
            "grid_auto_columns": null,
            "grid_auto_flow": null,
            "grid_auto_rows": null,
            "grid_column": null,
            "grid_gap": null,
            "grid_row": null,
            "grid_template_areas": null,
            "grid_template_columns": null,
            "grid_template_rows": null,
            "height": null,
            "justify_content": null,
            "justify_items": null,
            "left": null,
            "margin": null,
            "max_height": null,
            "max_width": null,
            "min_height": null,
            "min_width": null,
            "object_fit": null,
            "object_position": null,
            "order": null,
            "overflow": null,
            "overflow_x": null,
            "overflow_y": null,
            "padding": null,
            "right": null,
            "top": null,
            "visibility": null,
            "width": null
          }
        },
        "a33d99e737274ab1b8af0970a70071be": {
          "model_module": "@jupyter-widgets/controls",
          "model_module_version": "1.5.0",
          "model_name": "ProgressStyleModel",
          "state": {
            "_model_module": "@jupyter-widgets/controls",
            "_model_module_version": "1.5.0",
            "_model_name": "ProgressStyleModel",
            "_view_count": null,
            "_view_module": "@jupyter-widgets/base",
            "_view_module_version": "1.2.0",
            "_view_name": "StyleView",
            "bar_color": null,
            "description_width": ""
          }
        },
        "a3c14470c4ee4e15b428c53c09fb2982": {
          "model_module": "@jupyter-widgets/controls",
          "model_module_version": "1.5.0",
          "model_name": "ProgressStyleModel",
          "state": {
            "_model_module": "@jupyter-widgets/controls",
            "_model_module_version": "1.5.0",
            "_model_name": "ProgressStyleModel",
            "_view_count": null,
            "_view_module": "@jupyter-widgets/base",
            "_view_module_version": "1.2.0",
            "_view_name": "StyleView",
            "bar_color": null,
            "description_width": ""
          }
        },
        "a3f62236a5aa4360b2d9f6fde0513c94": {
          "model_module": "@jupyter-widgets/controls",
          "model_module_version": "1.5.0",
          "model_name": "DescriptionStyleModel",
          "state": {
            "_model_module": "@jupyter-widgets/controls",
            "_model_module_version": "1.5.0",
            "_model_name": "DescriptionStyleModel",
            "_view_count": null,
            "_view_module": "@jupyter-widgets/base",
            "_view_module_version": "1.2.0",
            "_view_name": "StyleView",
            "description_width": ""
          }
        },
        "a40b35fa98b64f799fc4f1a3ae083203": {
          "model_module": "@jupyter-widgets/base",
          "model_module_version": "1.2.0",
          "model_name": "LayoutModel",
          "state": {
            "_model_module": "@jupyter-widgets/base",
            "_model_module_version": "1.2.0",
            "_model_name": "LayoutModel",
            "_view_count": null,
            "_view_module": "@jupyter-widgets/base",
            "_view_module_version": "1.2.0",
            "_view_name": "LayoutView",
            "align_content": null,
            "align_items": null,
            "align_self": null,
            "border": null,
            "bottom": null,
            "display": null,
            "flex": null,
            "flex_flow": null,
            "grid_area": null,
            "grid_auto_columns": null,
            "grid_auto_flow": null,
            "grid_auto_rows": null,
            "grid_column": null,
            "grid_gap": null,
            "grid_row": null,
            "grid_template_areas": null,
            "grid_template_columns": null,
            "grid_template_rows": null,
            "height": null,
            "justify_content": null,
            "justify_items": null,
            "left": null,
            "margin": null,
            "max_height": null,
            "max_width": null,
            "min_height": null,
            "min_width": null,
            "object_fit": null,
            "object_position": null,
            "order": null,
            "overflow": null,
            "overflow_x": null,
            "overflow_y": null,
            "padding": null,
            "right": null,
            "top": null,
            "visibility": null,
            "width": null
          }
        },
        "a4420a40197b4848a1f0298daf245289": {
          "model_module": "@jupyter-widgets/controls",
          "model_module_version": "1.5.0",
          "model_name": "ProgressStyleModel",
          "state": {
            "_model_module": "@jupyter-widgets/controls",
            "_model_module_version": "1.5.0",
            "_model_name": "ProgressStyleModel",
            "_view_count": null,
            "_view_module": "@jupyter-widgets/base",
            "_view_module_version": "1.2.0",
            "_view_name": "StyleView",
            "bar_color": null,
            "description_width": ""
          }
        },
        "a59c416bc6e84fe9b66047591600af67": {
          "model_module": "@jupyter-widgets/base",
          "model_module_version": "1.2.0",
          "model_name": "LayoutModel",
          "state": {
            "_model_module": "@jupyter-widgets/base",
            "_model_module_version": "1.2.0",
            "_model_name": "LayoutModel",
            "_view_count": null,
            "_view_module": "@jupyter-widgets/base",
            "_view_module_version": "1.2.0",
            "_view_name": "LayoutView",
            "align_content": null,
            "align_items": null,
            "align_self": null,
            "border": null,
            "bottom": null,
            "display": null,
            "flex": null,
            "flex_flow": null,
            "grid_area": null,
            "grid_auto_columns": null,
            "grid_auto_flow": null,
            "grid_auto_rows": null,
            "grid_column": null,
            "grid_gap": null,
            "grid_row": null,
            "grid_template_areas": null,
            "grid_template_columns": null,
            "grid_template_rows": null,
            "height": null,
            "justify_content": null,
            "justify_items": null,
            "left": null,
            "margin": null,
            "max_height": null,
            "max_width": null,
            "min_height": null,
            "min_width": null,
            "object_fit": null,
            "object_position": null,
            "order": null,
            "overflow": null,
            "overflow_x": null,
            "overflow_y": null,
            "padding": null,
            "right": null,
            "top": null,
            "visibility": null,
            "width": null
          }
        },
        "a6b3047cffd54bae867c780c79c8b5ea": {
          "model_module": "@jupyter-widgets/base",
          "model_module_version": "1.2.0",
          "model_name": "LayoutModel",
          "state": {
            "_model_module": "@jupyter-widgets/base",
            "_model_module_version": "1.2.0",
            "_model_name": "LayoutModel",
            "_view_count": null,
            "_view_module": "@jupyter-widgets/base",
            "_view_module_version": "1.2.0",
            "_view_name": "LayoutView",
            "align_content": null,
            "align_items": null,
            "align_self": null,
            "border": null,
            "bottom": null,
            "display": null,
            "flex": null,
            "flex_flow": null,
            "grid_area": null,
            "grid_auto_columns": null,
            "grid_auto_flow": null,
            "grid_auto_rows": null,
            "grid_column": null,
            "grid_gap": null,
            "grid_row": null,
            "grid_template_areas": null,
            "grid_template_columns": null,
            "grid_template_rows": null,
            "height": null,
            "justify_content": null,
            "justify_items": null,
            "left": null,
            "margin": null,
            "max_height": null,
            "max_width": null,
            "min_height": null,
            "min_width": null,
            "object_fit": null,
            "object_position": null,
            "order": null,
            "overflow": null,
            "overflow_x": null,
            "overflow_y": null,
            "padding": null,
            "right": null,
            "top": null,
            "visibility": null,
            "width": null
          }
        },
        "a6cbe0d68d554985ad9a54611b4fb285": {
          "model_module": "@jupyter-widgets/controls",
          "model_module_version": "1.5.0",
          "model_name": "DescriptionStyleModel",
          "state": {
            "_model_module": "@jupyter-widgets/controls",
            "_model_module_version": "1.5.0",
            "_model_name": "DescriptionStyleModel",
            "_view_count": null,
            "_view_module": "@jupyter-widgets/base",
            "_view_module_version": "1.2.0",
            "_view_name": "StyleView",
            "description_width": ""
          }
        },
        "a902fbcfef2d4d4dbcab3f19b6d420a5": {
          "model_module": "@jupyter-widgets/controls",
          "model_module_version": "1.5.0",
          "model_name": "DescriptionStyleModel",
          "state": {
            "_model_module": "@jupyter-widgets/controls",
            "_model_module_version": "1.5.0",
            "_model_name": "DescriptionStyleModel",
            "_view_count": null,
            "_view_module": "@jupyter-widgets/base",
            "_view_module_version": "1.2.0",
            "_view_name": "StyleView",
            "description_width": ""
          }
        },
        "ae1ba170b9404fb2a816373db10660b4": {
          "model_module": "@jupyter-widgets/controls",
          "model_module_version": "1.5.0",
          "model_name": "DescriptionStyleModel",
          "state": {
            "_model_module": "@jupyter-widgets/controls",
            "_model_module_version": "1.5.0",
            "_model_name": "DescriptionStyleModel",
            "_view_count": null,
            "_view_module": "@jupyter-widgets/base",
            "_view_module_version": "1.2.0",
            "_view_name": "StyleView",
            "description_width": ""
          }
        },
        "b15f9f4b21b44fc7aaabeafee0f864a1": {
          "model_module": "@jupyter-widgets/base",
          "model_module_version": "1.2.0",
          "model_name": "LayoutModel",
          "state": {
            "_model_module": "@jupyter-widgets/base",
            "_model_module_version": "1.2.0",
            "_model_name": "LayoutModel",
            "_view_count": null,
            "_view_module": "@jupyter-widgets/base",
            "_view_module_version": "1.2.0",
            "_view_name": "LayoutView",
            "align_content": null,
            "align_items": null,
            "align_self": null,
            "border": null,
            "bottom": null,
            "display": null,
            "flex": null,
            "flex_flow": null,
            "grid_area": null,
            "grid_auto_columns": null,
            "grid_auto_flow": null,
            "grid_auto_rows": null,
            "grid_column": null,
            "grid_gap": null,
            "grid_row": null,
            "grid_template_areas": null,
            "grid_template_columns": null,
            "grid_template_rows": null,
            "height": null,
            "justify_content": null,
            "justify_items": null,
            "left": null,
            "margin": null,
            "max_height": null,
            "max_width": null,
            "min_height": null,
            "min_width": null,
            "object_fit": null,
            "object_position": null,
            "order": null,
            "overflow": null,
            "overflow_x": null,
            "overflow_y": null,
            "padding": null,
            "right": null,
            "top": null,
            "visibility": null,
            "width": null
          }
        },
        "b3ab27de69b9450b8571342d417330fa": {
          "model_module": "@jupyter-widgets/controls",
          "model_module_version": "1.5.0",
          "model_name": "DescriptionStyleModel",
          "state": {
            "_model_module": "@jupyter-widgets/controls",
            "_model_module_version": "1.5.0",
            "_model_name": "DescriptionStyleModel",
            "_view_count": null,
            "_view_module": "@jupyter-widgets/base",
            "_view_module_version": "1.2.0",
            "_view_name": "StyleView",
            "description_width": ""
          }
        },
        "b3fc4ecc941243639a2c14086f467d7e": {
          "model_module": "@jupyter-widgets/base",
          "model_module_version": "1.2.0",
          "model_name": "LayoutModel",
          "state": {
            "_model_module": "@jupyter-widgets/base",
            "_model_module_version": "1.2.0",
            "_model_name": "LayoutModel",
            "_view_count": null,
            "_view_module": "@jupyter-widgets/base",
            "_view_module_version": "1.2.0",
            "_view_name": "LayoutView",
            "align_content": null,
            "align_items": null,
            "align_self": null,
            "border": null,
            "bottom": null,
            "display": null,
            "flex": null,
            "flex_flow": null,
            "grid_area": null,
            "grid_auto_columns": null,
            "grid_auto_flow": null,
            "grid_auto_rows": null,
            "grid_column": null,
            "grid_gap": null,
            "grid_row": null,
            "grid_template_areas": null,
            "grid_template_columns": null,
            "grid_template_rows": null,
            "height": null,
            "justify_content": null,
            "justify_items": null,
            "left": null,
            "margin": null,
            "max_height": null,
            "max_width": null,
            "min_height": null,
            "min_width": null,
            "object_fit": null,
            "object_position": null,
            "order": null,
            "overflow": null,
            "overflow_x": null,
            "overflow_y": null,
            "padding": null,
            "right": null,
            "top": null,
            "visibility": null,
            "width": null
          }
        },
        "b4d29baff5c44c3cbedfa7ec3f3b6553": {
          "model_module": "@jupyter-widgets/controls",
          "model_module_version": "1.5.0",
          "model_name": "ProgressStyleModel",
          "state": {
            "_model_module": "@jupyter-widgets/controls",
            "_model_module_version": "1.5.0",
            "_model_name": "ProgressStyleModel",
            "_view_count": null,
            "_view_module": "@jupyter-widgets/base",
            "_view_module_version": "1.2.0",
            "_view_name": "StyleView",
            "bar_color": null,
            "description_width": ""
          }
        },
        "b7ca83925a7d42c2b56e0233977aec87": {
          "model_module": "@jupyter-widgets/base",
          "model_module_version": "1.2.0",
          "model_name": "LayoutModel",
          "state": {
            "_model_module": "@jupyter-widgets/base",
            "_model_module_version": "1.2.0",
            "_model_name": "LayoutModel",
            "_view_count": null,
            "_view_module": "@jupyter-widgets/base",
            "_view_module_version": "1.2.0",
            "_view_name": "LayoutView",
            "align_content": null,
            "align_items": null,
            "align_self": null,
            "border": null,
            "bottom": null,
            "display": null,
            "flex": null,
            "flex_flow": null,
            "grid_area": null,
            "grid_auto_columns": null,
            "grid_auto_flow": null,
            "grid_auto_rows": null,
            "grid_column": null,
            "grid_gap": null,
            "grid_row": null,
            "grid_template_areas": null,
            "grid_template_columns": null,
            "grid_template_rows": null,
            "height": null,
            "justify_content": null,
            "justify_items": null,
            "left": null,
            "margin": null,
            "max_height": null,
            "max_width": null,
            "min_height": null,
            "min_width": null,
            "object_fit": null,
            "object_position": null,
            "order": null,
            "overflow": null,
            "overflow_x": null,
            "overflow_y": null,
            "padding": null,
            "right": null,
            "top": null,
            "visibility": null,
            "width": null
          }
        },
        "c092ce619f4b48f8ba05111488cbeeaa": {
          "model_module": "@jupyter-widgets/controls",
          "model_module_version": "1.5.0",
          "model_name": "DescriptionStyleModel",
          "state": {
            "_model_module": "@jupyter-widgets/controls",
            "_model_module_version": "1.5.0",
            "_model_name": "DescriptionStyleModel",
            "_view_count": null,
            "_view_module": "@jupyter-widgets/base",
            "_view_module_version": "1.2.0",
            "_view_name": "StyleView",
            "description_width": ""
          }
        },
        "c461dfac679e474e8bac6e7e21488dd0": {
          "model_module": "@jupyter-widgets/base",
          "model_module_version": "1.2.0",
          "model_name": "LayoutModel",
          "state": {
            "_model_module": "@jupyter-widgets/base",
            "_model_module_version": "1.2.0",
            "_model_name": "LayoutModel",
            "_view_count": null,
            "_view_module": "@jupyter-widgets/base",
            "_view_module_version": "1.2.0",
            "_view_name": "LayoutView",
            "align_content": null,
            "align_items": null,
            "align_self": null,
            "border": null,
            "bottom": null,
            "display": null,
            "flex": null,
            "flex_flow": null,
            "grid_area": null,
            "grid_auto_columns": null,
            "grid_auto_flow": null,
            "grid_auto_rows": null,
            "grid_column": null,
            "grid_gap": null,
            "grid_row": null,
            "grid_template_areas": null,
            "grid_template_columns": null,
            "grid_template_rows": null,
            "height": null,
            "justify_content": null,
            "justify_items": null,
            "left": null,
            "margin": null,
            "max_height": null,
            "max_width": null,
            "min_height": null,
            "min_width": null,
            "object_fit": null,
            "object_position": null,
            "order": null,
            "overflow": null,
            "overflow_x": null,
            "overflow_y": null,
            "padding": null,
            "right": null,
            "top": null,
            "visibility": null,
            "width": null
          }
        },
        "c5367fb1f8d340f78bb9393a39514f19": {
          "model_module": "@jupyter-widgets/controls",
          "model_module_version": "1.5.0",
          "model_name": "FloatProgressModel",
          "state": {
            "_dom_classes": [],
            "_model_module": "@jupyter-widgets/controls",
            "_model_module_version": "1.5.0",
            "_model_name": "FloatProgressModel",
            "_view_count": null,
            "_view_module": "@jupyter-widgets/controls",
            "_view_module_version": "1.5.0",
            "_view_name": "ProgressView",
            "bar_style": "success",
            "description": "",
            "description_tooltip": null,
            "layout": "IPY_MODEL_a6b3047cffd54bae867c780c79c8b5ea",
            "max": 497787752,
            "min": 0,
            "orientation": "horizontal",
            "style": "IPY_MODEL_03f3a92e6e084153a3a23944f42c18cd",
            "value": 497787752
          }
        },
        "c8c1b06a47dc47c5a29a49094241f96a": {
          "model_module": "@jupyter-widgets/controls",
          "model_module_version": "1.5.0",
          "model_name": "HTMLModel",
          "state": {
            "_dom_classes": [],
            "_model_module": "@jupyter-widgets/controls",
            "_model_module_version": "1.5.0",
            "_model_name": "HTMLModel",
            "_view_count": null,
            "_view_module": "@jupyter-widgets/controls",
            "_view_module_version": "1.5.0",
            "_view_name": "HTMLView",
            "description": "",
            "description_tooltip": null,
            "layout": "IPY_MODEL_031df78b28dd40458c3a4c4f48b61602",
            "placeholder": "​",
            "style": "IPY_MODEL_db5e36006ebe48b0ab5b97812ad16ccd",
            "value": " 7636/7636 [00:01&lt;00:00, 6581.90 examples/s]"
          }
        },
        "cdaa2fa7f81840c98e9377d563591f16": {
          "model_module": "@jupyter-widgets/controls",
          "model_module_version": "1.5.0",
          "model_name": "HTMLModel",
          "state": {
            "_dom_classes": [],
            "_model_module": "@jupyter-widgets/controls",
            "_model_module_version": "1.5.0",
            "_model_name": "HTMLModel",
            "_view_count": null,
            "_view_module": "@jupyter-widgets/controls",
            "_view_module_version": "1.5.0",
            "_view_name": "HTMLView",
            "description": "",
            "description_tooltip": null,
            "layout": "IPY_MODEL_a40b35fa98b64f799fc4f1a3ae083203",
            "placeholder": "​",
            "style": "IPY_MODEL_c092ce619f4b48f8ba05111488cbeeaa",
            "value": " 2.00/2.00 [00:00&lt;00:00, 209B/s]"
          }
        },
        "d2b56c37bf1d4deeb74fd18ad9598885": {
          "model_module": "@jupyter-widgets/base",
          "model_module_version": "1.2.0",
          "model_name": "LayoutModel",
          "state": {
            "_model_module": "@jupyter-widgets/base",
            "_model_module_version": "1.2.0",
            "_model_name": "LayoutModel",
            "_view_count": null,
            "_view_module": "@jupyter-widgets/base",
            "_view_module_version": "1.2.0",
            "_view_name": "LayoutView",
            "align_content": null,
            "align_items": null,
            "align_self": null,
            "border": null,
            "bottom": null,
            "display": null,
            "flex": null,
            "flex_flow": null,
            "grid_area": null,
            "grid_auto_columns": null,
            "grid_auto_flow": null,
            "grid_auto_rows": null,
            "grid_column": null,
            "grid_gap": null,
            "grid_row": null,
            "grid_template_areas": null,
            "grid_template_columns": null,
            "grid_template_rows": null,
            "height": null,
            "justify_content": null,
            "justify_items": null,
            "left": null,
            "margin": null,
            "max_height": null,
            "max_width": null,
            "min_height": null,
            "min_width": null,
            "object_fit": null,
            "object_position": null,
            "order": null,
            "overflow": null,
            "overflow_x": null,
            "overflow_y": null,
            "padding": null,
            "right": null,
            "top": null,
            "visibility": null,
            "width": null
          }
        },
        "d412cd86060a4b6894eca0b4f0ed0c2f": {
          "model_module": "@jupyter-widgets/base",
          "model_module_version": "1.2.0",
          "model_name": "LayoutModel",
          "state": {
            "_model_module": "@jupyter-widgets/base",
            "_model_module_version": "1.2.0",
            "_model_name": "LayoutModel",
            "_view_count": null,
            "_view_module": "@jupyter-widgets/base",
            "_view_module_version": "1.2.0",
            "_view_name": "LayoutView",
            "align_content": null,
            "align_items": null,
            "align_self": null,
            "border": null,
            "bottom": null,
            "display": null,
            "flex": null,
            "flex_flow": null,
            "grid_area": null,
            "grid_auto_columns": null,
            "grid_auto_flow": null,
            "grid_auto_rows": null,
            "grid_column": null,
            "grid_gap": null,
            "grid_row": null,
            "grid_template_areas": null,
            "grid_template_columns": null,
            "grid_template_rows": null,
            "height": null,
            "justify_content": null,
            "justify_items": null,
            "left": null,
            "margin": null,
            "max_height": null,
            "max_width": null,
            "min_height": null,
            "min_width": null,
            "object_fit": null,
            "object_position": null,
            "order": null,
            "overflow": null,
            "overflow_x": null,
            "overflow_y": null,
            "padding": null,
            "right": null,
            "top": null,
            "visibility": null,
            "width": null
          }
        },
        "d4884be7d32d41cdbb42c6cbdb7d3c2f": {
          "model_module": "@jupyter-widgets/controls",
          "model_module_version": "1.5.0",
          "model_name": "ProgressStyleModel",
          "state": {
            "_model_module": "@jupyter-widgets/controls",
            "_model_module_version": "1.5.0",
            "_model_name": "ProgressStyleModel",
            "_view_count": null,
            "_view_module": "@jupyter-widgets/base",
            "_view_module_version": "1.2.0",
            "_view_name": "StyleView",
            "bar_color": null,
            "description_width": ""
          }
        },
        "d8b60353b58d46d4a4423df057b32354": {
          "model_module": "@jupyter-widgets/controls",
          "model_module_version": "1.5.0",
          "model_name": "HBoxModel",
          "state": {
            "_dom_classes": [],
            "_model_module": "@jupyter-widgets/controls",
            "_model_module_version": "1.5.0",
            "_model_name": "HBoxModel",
            "_view_count": null,
            "_view_module": "@jupyter-widgets/controls",
            "_view_module_version": "1.5.0",
            "_view_name": "HBoxView",
            "box_style": "",
            "children": [
              "IPY_MODEL_77fc08998e8d42889907b64cddfb9402",
              "IPY_MODEL_84271781eed54136a0a28f22ff46ca68",
              "IPY_MODEL_fb3878596b4246ee8a0dbd0b8fd3d0cd"
            ],
            "layout": "IPY_MODEL_b7ca83925a7d42c2b56e0233977aec87"
          }
        },
        "d96adf53cf414effb0e2adb0101c4c8e": {
          "model_module": "@jupyter-widgets/controls",
          "model_module_version": "1.5.0",
          "model_name": "HTMLModel",
          "state": {
            "_dom_classes": [],
            "_model_module": "@jupyter-widgets/controls",
            "_model_module_version": "1.5.0",
            "_model_name": "HTMLModel",
            "_view_count": null,
            "_view_module": "@jupyter-widgets/controls",
            "_view_module_version": "1.5.0",
            "_view_name": "HTMLView",
            "description": "",
            "description_tooltip": null,
            "layout": "IPY_MODEL_b3fc4ecc941243639a2c14086f467d7e",
            "placeholder": "​",
            "style": "IPY_MODEL_6f0ae3af6138408f833c0eea4d5395bb",
            "value": "model.safetensors: 100%"
          }
        },
        "db5e36006ebe48b0ab5b97812ad16ccd": {
          "model_module": "@jupyter-widgets/controls",
          "model_module_version": "1.5.0",
          "model_name": "DescriptionStyleModel",
          "state": {
            "_model_module": "@jupyter-widgets/controls",
            "_model_module_version": "1.5.0",
            "_model_name": "DescriptionStyleModel",
            "_view_count": null,
            "_view_module": "@jupyter-widgets/base",
            "_view_module_version": "1.2.0",
            "_view_name": "StyleView",
            "description_width": ""
          }
        },
        "ddd952eb19db433a935e2bb1e35a260c": {
          "model_module": "@jupyter-widgets/base",
          "model_module_version": "1.2.0",
          "model_name": "LayoutModel",
          "state": {
            "_model_module": "@jupyter-widgets/base",
            "_model_module_version": "1.2.0",
            "_model_name": "LayoutModel",
            "_view_count": null,
            "_view_module": "@jupyter-widgets/base",
            "_view_module_version": "1.2.0",
            "_view_name": "LayoutView",
            "align_content": null,
            "align_items": null,
            "align_self": null,
            "border": null,
            "bottom": null,
            "display": null,
            "flex": null,
            "flex_flow": null,
            "grid_area": null,
            "grid_auto_columns": null,
            "grid_auto_flow": null,
            "grid_auto_rows": null,
            "grid_column": null,
            "grid_gap": null,
            "grid_row": null,
            "grid_template_areas": null,
            "grid_template_columns": null,
            "grid_template_rows": null,
            "height": null,
            "justify_content": null,
            "justify_items": null,
            "left": null,
            "margin": null,
            "max_height": null,
            "max_width": null,
            "min_height": null,
            "min_width": null,
            "object_fit": null,
            "object_position": null,
            "order": null,
            "overflow": null,
            "overflow_x": null,
            "overflow_y": null,
            "padding": null,
            "right": null,
            "top": null,
            "visibility": null,
            "width": null
          }
        },
        "ec007e1bcda14de186252e0f6bdd03a7": {
          "model_module": "@jupyter-widgets/base",
          "model_module_version": "1.2.0",
          "model_name": "LayoutModel",
          "state": {
            "_model_module": "@jupyter-widgets/base",
            "_model_module_version": "1.2.0",
            "_model_name": "LayoutModel",
            "_view_count": null,
            "_view_module": "@jupyter-widgets/base",
            "_view_module_version": "1.2.0",
            "_view_name": "LayoutView",
            "align_content": null,
            "align_items": null,
            "align_self": null,
            "border": null,
            "bottom": null,
            "display": null,
            "flex": null,
            "flex_flow": null,
            "grid_area": null,
            "grid_auto_columns": null,
            "grid_auto_flow": null,
            "grid_auto_rows": null,
            "grid_column": null,
            "grid_gap": null,
            "grid_row": null,
            "grid_template_areas": null,
            "grid_template_columns": null,
            "grid_template_rows": null,
            "height": null,
            "justify_content": null,
            "justify_items": null,
            "left": null,
            "margin": null,
            "max_height": null,
            "max_width": null,
            "min_height": null,
            "min_width": null,
            "object_fit": null,
            "object_position": null,
            "order": null,
            "overflow": null,
            "overflow_x": null,
            "overflow_y": null,
            "padding": null,
            "right": null,
            "top": null,
            "visibility": null,
            "width": null
          }
        },
        "ecbc8bc266264e9f991faa69c313d295": {
          "model_module": "@jupyter-widgets/controls",
          "model_module_version": "1.5.0",
          "model_name": "HTMLModel",
          "state": {
            "_dom_classes": [],
            "_model_module": "@jupyter-widgets/controls",
            "_model_module_version": "1.5.0",
            "_model_name": "HTMLModel",
            "_view_count": null,
            "_view_module": "@jupyter-widgets/controls",
            "_view_module_version": "1.5.0",
            "_view_name": "HTMLView",
            "description": "",
            "description_tooltip": null,
            "layout": "IPY_MODEL_991550e766ba4e7b8316773163aedcae",
            "placeholder": "​",
            "style": "IPY_MODEL_f1f8372b70f3484eb9eed3c630f3b16f",
            "value": "vocab.txt: "
          }
        },
        "edbebe8717a5432b830db0d0084929bd": {
          "model_module": "@jupyter-widgets/base",
          "model_module_version": "1.2.0",
          "model_name": "LayoutModel",
          "state": {
            "_model_module": "@jupyter-widgets/base",
            "_model_module_version": "1.2.0",
            "_model_name": "LayoutModel",
            "_view_count": null,
            "_view_module": "@jupyter-widgets/base",
            "_view_module_version": "1.2.0",
            "_view_name": "LayoutView",
            "align_content": null,
            "align_items": null,
            "align_self": null,
            "border": null,
            "bottom": null,
            "display": null,
            "flex": null,
            "flex_flow": null,
            "grid_area": null,
            "grid_auto_columns": null,
            "grid_auto_flow": null,
            "grid_auto_rows": null,
            "grid_column": null,
            "grid_gap": null,
            "grid_row": null,
            "grid_template_areas": null,
            "grid_template_columns": null,
            "grid_template_rows": null,
            "height": null,
            "justify_content": null,
            "justify_items": null,
            "left": null,
            "margin": null,
            "max_height": null,
            "max_width": null,
            "min_height": null,
            "min_width": null,
            "object_fit": null,
            "object_position": null,
            "order": null,
            "overflow": null,
            "overflow_x": null,
            "overflow_y": null,
            "padding": null,
            "right": null,
            "top": null,
            "visibility": null,
            "width": null
          }
        },
        "f1f8372b70f3484eb9eed3c630f3b16f": {
          "model_module": "@jupyter-widgets/controls",
          "model_module_version": "1.5.0",
          "model_name": "DescriptionStyleModel",
          "state": {
            "_model_module": "@jupyter-widgets/controls",
            "_model_module_version": "1.5.0",
            "_model_name": "DescriptionStyleModel",
            "_view_count": null,
            "_view_module": "@jupyter-widgets/base",
            "_view_module_version": "1.2.0",
            "_view_name": "StyleView",
            "description_width": ""
          }
        },
        "f67810578a754c01ae01b7ebccbbd07e": {
          "model_module": "@jupyter-widgets/controls",
          "model_module_version": "1.5.0",
          "model_name": "HTMLModel",
          "state": {
            "_dom_classes": [],
            "_model_module": "@jupyter-widgets/controls",
            "_model_module_version": "1.5.0",
            "_model_name": "HTMLModel",
            "_view_count": null,
            "_view_module": "@jupyter-widgets/controls",
            "_view_module_version": "1.5.0",
            "_view_name": "HTMLView",
            "description": "",
            "description_tooltip": null,
            "layout": "IPY_MODEL_4fceea7aa42740aa866450e7e5c217ec",
            "placeholder": "​",
            "style": "IPY_MODEL_ae1ba170b9404fb2a816373db10660b4",
            "value": "Map: 100%"
          }
        },
        "f9962a0a2d1548dd998ad3488346025a": {
          "model_module": "@jupyter-widgets/controls",
          "model_module_version": "1.5.0",
          "model_name": "HBoxModel",
          "state": {
            "_dom_classes": [],
            "_model_module": "@jupyter-widgets/controls",
            "_model_module_version": "1.5.0",
            "_model_name": "HBoxModel",
            "_view_count": null,
            "_view_module": "@jupyter-widgets/controls",
            "_view_module_version": "1.5.0",
            "_view_name": "HBoxView",
            "box_style": "",
            "children": [
              "IPY_MODEL_950698299000438aacb2378485ca3d2f",
              "IPY_MODEL_8e98d5c00d4b466c977faf6ef051b082",
              "IPY_MODEL_660b1b190a494ce2b59ece82811fbd07"
            ],
            "layout": "IPY_MODEL_1fa1830785274521affdcfeb095cf29f"
          }
        },
        "fb3878596b4246ee8a0dbd0b8fd3d0cd": {
          "model_module": "@jupyter-widgets/controls",
          "model_module_version": "1.5.0",
          "model_name": "HTMLModel",
          "state": {
            "_dom_classes": [],
            "_model_module": "@jupyter-widgets/controls",
            "_model_module_version": "1.5.0",
            "_model_name": "HTMLModel",
            "_view_count": null,
            "_view_module": "@jupyter-widgets/controls",
            "_view_module_version": "1.5.0",
            "_view_name": "HTMLView",
            "description": "",
            "description_tooltip": null,
            "layout": "IPY_MODEL_c461dfac679e474e8bac6e7e21488dd0",
            "placeholder": "​",
            "style": "IPY_MODEL_8c474c7da2f84ba8a5342ff4c32eb125",
            "value": " 498M/498M [00:15&lt;00:00, 36.7MB/s]"
          }
        },
        "fb4e685394544915b25893782f582cb0": {
          "model_module": "@jupyter-widgets/controls",
          "model_module_version": "1.5.0",
          "model_name": "HTMLModel",
          "state": {
            "_dom_classes": [],
            "_model_module": "@jupyter-widgets/controls",
            "_model_module_version": "1.5.0",
            "_model_name": "HTMLModel",
            "_view_count": null,
            "_view_module": "@jupyter-widgets/controls",
            "_view_module_version": "1.5.0",
            "_view_name": "HTMLView",
            "description": "",
            "description_tooltip": null,
            "layout": "IPY_MODEL_b15f9f4b21b44fc7aaabeafee0f864a1",
            "placeholder": "​",
            "style": "IPY_MODEL_34c4f26d22ad42baa081cfb52117ee24",
            "value": "config.json: "
          }
        },
        "fde281f4577c41b4a637763facdfeafa": {
          "model_module": "@jupyter-widgets/controls",
          "model_module_version": "1.5.0",
          "model_name": "DescriptionStyleModel",
          "state": {
            "_model_module": "@jupyter-widgets/controls",
            "_model_module_version": "1.5.0",
            "_model_name": "DescriptionStyleModel",
            "_view_count": null,
            "_view_module": "@jupyter-widgets/base",
            "_view_module_version": "1.2.0",
            "_view_name": "StyleView",
            "description_width": ""
          }
        }
      }
    }
  },
  "nbformat": 4,
  "nbformat_minor": 0
}
